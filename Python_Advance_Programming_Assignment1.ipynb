{
  "nbformat": 4,
  "nbformat_minor": 0,
  "metadata": {
    "colab": {
      "name": "Python_Advance_Programming_Assignment1.ipynb",
      "provenance": [],
      "collapsed_sections": []
    },
    "kernelspec": {
      "name": "python3",
      "display_name": "Python 3"
    },
    "language_info": {
      "name": "python"
    }
  },
  "cells": [
    {
      "cell_type": "markdown",
      "source": [
        "1. Write a function that takes a list of lists and returns the value of all of the\n",
        "symbols in it, where each symbol adds or takes something from the total\n",
        "score. Symbol values:\n",
        "\\# = 5\n",
        "O = 3\n",
        "X = 1\n",
        "! = -1\n",
        "!! = -3\n",
        "!!! = -5\n",
        "A list of lists containing 2 #s, a O, and a !!! would equal (0 + 5 + 5 + 3 - 5) 8.\n",
        "If the final score is negative, return 0 (e.g. 3 #s, 3 !!s, 2 !!!s and a X would be\n",
        "(0 + 5 + 5 + 5 - 3 - 3 - 3 - 5 - 5 + 1) -3, so return 0.\n",
        "\n",
        "Examples\n",
        "check_score([\n",
        "[&quot;#&quot;, &quot;!&quot;],\n",
        "[&quot;!!&quot;, &quot;X&quot;]\n",
        "]) ➞ 2\n",
        "\n",
        "check_score([\n",
        "[&quot;!!!&quot;, &quot;O&quot;, &quot;!&quot;],\n",
        "[&quot;X&quot;, &quot;#&quot;, &quot;!!!&quot;],\n",
        "[&quot;!!&quot;, &quot;X&quot;, &quot;O&quot;]\n",
        "]) ➞ 0"
      ],
      "metadata": {
        "id": "BHLiIVH3nRux"
      }
    },
    {
      "cell_type": "code",
      "source": [
        "def check_score(l1):\n",
        "  d={}\n",
        "  d['#']=5\n",
        "  d['O']=3\n",
        "  d['X']=1\n",
        "  d['!']=-1\n",
        "  d['!!']=-3\n",
        "  d['!!!']=-5\n",
        "  s=0\n",
        "  for i in l1:\n",
        "    for j in i:\n",
        "      s=s+d[j]\n",
        "  if s>0:\n",
        "    return s\n",
        "  else:\n",
        "    return 0\n",
        "\n",
        "print(check_score([[\"#\",\"!\"],[\"!!\",\"X\"]]))\n",
        "print(check_score([[\"!!!\",\"O\",\"!\"],[\"X\",\"#\",\"!!!\"],[\"!!\",\"X\",\"O\"]]))"
      ],
      "metadata": {
        "colab": {
          "base_uri": "https://localhost:8080/"
        },
        "id": "32TkvXahnae3",
        "outputId": "435a34fc-64cc-4604-dc0e-2fe6ac0b0478"
      },
      "execution_count": 14,
      "outputs": [
        {
          "output_type": "stream",
          "name": "stdout",
          "text": [
            "2\n",
            "0\n"
          ]
        }
      ]
    },
    {
      "cell_type": "markdown",
      "source": [
        "2. Create a function that takes a variable number of arguments, each\n",
        "argument representing the number of items in a group, and returns the\n",
        "number of permutations (combinations) of items that you could get by taking\n",
        "one item from each group.\n",
        "\n",
        "Examples\n",
        "\n",
        "combinations(2, 3) ➞ 6\n",
        "\n",
        "combinations(3, 7, 4) ➞ 84\n",
        "\n",
        "combinations(2, 3, 4, 5) ➞ 120"
      ],
      "metadata": {
        "id": "IDPESo34vGTw"
      }
    },
    {
      "cell_type": "code",
      "source": [
        "def combinations(*args):\n",
        "  p = 1\n",
        "  for i in args:\n",
        "    p = p*i\n",
        "  return p\n",
        "print(combinations(2,3))\n",
        "print(combinations(3,7,4))\n",
        "print(combinations(2,3,4,5))"
      ],
      "metadata": {
        "colab": {
          "base_uri": "https://localhost:8080/"
        },
        "id": "t7_2BLftvMOe",
        "outputId": "12f4bb9b-410b-4d32-f9ce-03c7a85effcb"
      },
      "execution_count": 20,
      "outputs": [
        {
          "output_type": "stream",
          "name": "stdout",
          "text": [
            "6\n",
            "84\n",
            "120\n"
          ]
        }
      ]
    },
    {
      "cell_type": "markdown",
      "source": [
        "3. Create a function that takes a string as an argument and returns the Morse\n",
        "code equivalent.\n",
        "Examples\n",
        "encode_morse(&quot;EDABBIT CHALLENGE&quot;) ➞ &quot;. -.. .- -... -... .. - -.-. .... .- .-.. .-..\n",
        ". -. --. .&quot;\n",
        "encode_morse(&quot;HELP ME !&quot;) ➞ &quot;.... . .-.. .--. -- . -.-.--&quot;\n",
        "This dictionary can be used for coding:\n",
        "\n",
        "char_to_dots = {\n",
        "&#39;A&#39;: &#39;.-&#39;, &#39;B&#39;: &#39;-...&#39;, &#39;C&#39;: &#39;-.-.&#39;, &#39;D&#39;: &#39;-..&#39;, &#39;E&#39;: &#39;.&#39;, &#39;F&#39;: &#39;..-.&#39;,\n",
        "&#39;G&#39;: &#39;--.&#39;, &#39;H&#39;: &#39;....&#39;, &#39;I&#39;: &#39;..&#39;, &#39;J&#39;: &#39;.---&#39;, &#39;K&#39;: &#39;-.-&#39;, &#39;L&#39;: &#39;.-..&#39;,\n",
        "&#39;M&#39;: &#39;--&#39;, &#39;N&#39;: &#39;-.&#39;, &#39;O&#39;: &#39;---&#39;, &#39;P&#39;: &#39;.--.&#39;, &#39;Q&#39;: &#39;--.-&#39;, &#39;R&#39;: &#39;.-.&#39;,\n",
        "&#39;S&#39;: &#39;...&#39;, &#39;T&#39;: &#39;-&#39;, &#39;U&#39;: &#39;..-&#39;, &#39;V&#39;: &#39;...-&#39;, &#39;W&#39;: &#39;.--&#39;, &#39;X&#39;: &#39;-..-&#39;,\n",
        "&#39;Y&#39;: &#39;-.--&#39;, &#39;Z&#39;: &#39;--..&#39;, &#39; &#39;: &#39; &#39;, &#39;0&#39;: &#39;-----&#39;,\n",
        "&#39;1&#39;: &#39;.----&#39;, &#39;2&#39;: &#39;..---&#39;, &#39;3&#39;: &#39;...--&#39;, &#39;4&#39;: &#39;....-&#39;, &#39;5&#39;: &#39;.....&#39;,\n",
        "&#39;6&#39;: &#39;-....&#39;, &#39;7&#39;: &#39;--...&#39;, &#39;8&#39;: &#39;---..&#39;, &#39;9&#39;: &#39;----.&#39;,\n",
        "&#39;&amp;&#39;: &#39;.-...&#39;, &quot;&#39;&quot;: &#39;.----.&#39;, &#39;@&#39;: &#39;.--.-.&#39;, &#39;)&#39;: &#39;-.--.-&#39;, &#39;(&#39;: &#39;-.--.&#39;,\n",
        "&#39;:&#39;: &#39;---...&#39;, &#39;,&#39;: &#39;--..--&#39;, &#39;=&#39;: &#39;-...-&#39;, &#39;!&#39;: &#39;-.-.--&#39;, &#39;.&#39;: &#39;.-.-.-&#39;,\n",
        "&#39;-&#39;: &#39;-....-&#39;, &#39;+&#39;: &#39;.-.-.&#39;, &#39;&quot;&#39;: &#39;.-..-.&#39;, &#39;?&#39;: &#39;..--..&#39;, &#39;/&#39;: &#39;-..-.&#39;\n",
        "}"
      ],
      "metadata": {
        "id": "wbDia4S_zcA5"
      }
    },
    {
      "cell_type": "code",
      "source": [
        "def encode_morse(s):\n",
        "  s1=''\n",
        "  char_to_dots = {'A': '.-', 'B': '-...', 'C': '-.-.', 'D': '-..', 'E': '.', 'F': '..-.',  'G': '--.', 'H': '....', 'I': '..', 'J': '.---', 'K': '-.-', 'L': '.-..',  'M': '--', 'N': '-.', 'O': '---', 'P': '.--.', 'Q': '--.-', 'R': '.-.',  'S': '...', 'T': '-', 'U': '..-', 'V': '...-', 'W': '.--', 'X': '-..-',  'Y': '-.--', 'Z': '--..', ' ': ' ', '0': '-----',  '1': '.----', '2': '..---', '3': '...--', '4': '....-', '5': '.....',  '6': '-....', '7': '--...', '8': '---..', '9': '----.',  '&': '.-...', \"'\": '.----.', '@': '.--.-.', ')': '-.--.-', '(': '-.--.',  ':': '---...', ',': '--..--', '=': '-...-', '!': '-.-.--', '.': '.-.-.-',  '-': '-....-', '+': '.-.-.', '\"': '.-..-.', '?': '..--..', '/': '-..-.'}\n",
        "  for i in s:\n",
        "    s1=s1+char_to_dots[i.upper()]\n",
        "  return s1\n",
        "print(\"EDABBIT CHALLENGE \"+encode_morse(\"EDABBIT CHALLENGE\"))\n",
        "print(\"HELP ME! \"+encode_morse(\"HELP ME!\"))"
      ],
      "metadata": {
        "colab": {
          "base_uri": "https://localhost:8080/"
        },
        "id": "gfGKM-Nyzi84",
        "outputId": "2e2d4070-9d8e-4edb-9d92-2b8bdd283580"
      },
      "execution_count": 22,
      "outputs": [
        {
          "output_type": "stream",
          "name": "stdout",
          "text": [
            "EDABBIT CHALLENGE .-...--...-.....- -.-......-.-...-...-.--..\n",
            "HELP ME! ......-...--. --.-.-.--\n"
          ]
        }
      ]
    },
    {
      "cell_type": "markdown",
      "source": [
        "4. Write a function that takes a number and returns True if it&#39;s a prime; False\n",
        "otherwise. The number can be 2^64-1 (2 to the power of 63, not XOR). With\n",
        "the standard technique it would be O(2^64-1), which is much too large for the\n",
        "10 second time limit.\n",
        "\n",
        "Examples\n",
        "\n",
        "prime(7) ➞ True\n",
        "\n",
        "prime(56963) ➞ True\n",
        "\n",
        "prime(5151512515524) ➞ False"
      ],
      "metadata": {
        "id": "f7TqgRWm16rt"
      }
    },
    {
      "cell_type": "code",
      "source": [
        "def prime_generator(n):\n",
        "  for i in range(2,int(n/2)+1):\n",
        "    yield i\n",
        "\n",
        "def isprime(n):\n",
        "  for i in prime_generator(n):\n",
        "      if n%i==0:\n",
        "        return False\n",
        "        break\n",
        "  else:\n",
        "      return True\n",
        "print(isprime(7))  \n",
        "print(isprime(56963))\n",
        "print(isprime(5151512515524))\n"
      ],
      "metadata": {
        "colab": {
          "base_uri": "https://localhost:8080/"
        },
        "id": "9HaMOMmh1_do",
        "outputId": "1c4877cc-b3d0-4a79-fc86-5b47c69bf04b"
      },
      "execution_count": 27,
      "outputs": [
        {
          "output_type": "stream",
          "name": "stdout",
          "text": [
            "True\n",
            "True\n",
            "False\n"
          ]
        }
      ]
    },
    {
      "cell_type": "markdown",
      "source": [
        "5.Create a function that converts a word to a bitstring and then to a boolean\n",
        "list based on the following criteria:\n",
        "\n",
        "1. Locate the position of the letter in the English alphabet (from 1 to 26).\n",
        "2. Odd positions will be represented as 1 and 0 otherwise.\n",
        "3. Convert the represented positions to boolean values, 1 for True and 0\n",
        "for False.\n",
        "4. Store the conversions into an array.\n",
        "\n",
        "Examples\n",
        "\n",
        "to_boolean_list(&quot;deep&quot;) ➞ [False, True, True, False]\n",
        "\n",
        "deep converts to 0110\n",
        "\n",
        "d is the 4th alphabet - 0\n",
        "\n",
        "e is the 5th alphabet - 1\n",
        "\n",
        "e is the 5th alphabet - 1\n",
        "\n",
        "p is the 16th alphabet - 0\n",
        "\n",
        "to_boolean_list(&quot;loves&quot;) ➞ [False, True, False, True, True]\n",
        "\n",
        "to_boolean_list(&quot;tesh&quot;) ➞ [False, True, True, False]"
      ],
      "metadata": {
        "id": "K_JtlOPe4Uvq"
      }
    },
    {
      "cell_type": "code",
      "source": [
        "def to_boolean_list(s):\n",
        "  l1 = list(s)\n",
        "  l2=[]\n",
        "  for i in l1:\n",
        "    m = ord(i)\n",
        "    if m in range(65,91):\n",
        "      if (m-64)%2==0:\n",
        "        l2.append(False)\n",
        "      else:\n",
        "        l2.append(True)\n",
        "    if m in range(97,123):\n",
        "      if (m-96)%2==0:\n",
        "        l2.append(False)\n",
        "      else:\n",
        "        l2.append(True)\n",
        "  return l2\n",
        "print(to_boolean_list(\"loves\"))\n",
        "print(to_boolean_list(\"tesh\"))\n"
      ],
      "metadata": {
        "colab": {
          "base_uri": "https://localhost:8080/"
        },
        "id": "c144p5tm4grC",
        "outputId": "0fd8ab8f-e5f1-4152-8eca-3ee3be7c5ab2"
      },
      "execution_count": 34,
      "outputs": [
        {
          "output_type": "stream",
          "name": "stdout",
          "text": [
            "[False, True, False, True, True]\n",
            "[False, True, True, False]\n"
          ]
        }
      ]
    }
  ]
}