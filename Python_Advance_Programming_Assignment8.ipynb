{
  "nbformat": 4,
  "nbformat_minor": 0,
  "metadata": {
    "colab": {
      "name": "Python_Advance_Programming_Assignment8.ipynb",
      "provenance": [],
      "collapsed_sections": []
    },
    "kernelspec": {
      "name": "python3",
      "display_name": "Python 3"
    },
    "language_info": {
      "name": "python"
    }
  },
  "cells": [
    {
      "cell_type": "markdown",
      "source": [
        "1.Given a sentence as txt, return True if any two adjacent words have this property: One word ends with a vowel, while the word immediately after begins with a vowel (a e i o u).\n",
        "\n",
        "Examples\n",
        "\n",
        "vowel_links(\"a very large appliance\") ➞ True\n",
        "\n",
        "vowel_links(\"go to edabit\") ➞ True\n",
        "\n",
        "vowel_links(\"an open fire\") ➞ False\n",
        "\n",
        "vowel_links(\"a sudden applause\") ➞ False\n"
      ],
      "metadata": {
        "id": "TPN5odOnxkMu"
      }
    },
    {
      "cell_type": "code",
      "source": [
        "def vowel_links(s):\n",
        "  vowel_ls = ['a','e','i','o','u','A','E','I','O','U']\n",
        "  ls = s.split(\" \")\n",
        "  for i in range(0,len(ls)-1):\n",
        "    if (ls[i][-1] in vowel_ls) and (ls[i+1][0] in vowel_ls):\n",
        "      return True\n",
        "  return False\n",
        "\n",
        "print(vowel_links(\"a very large appliance\"))\n",
        "print(vowel_links(\"go to edabit\"))\n",
        "print(vowel_links(\"an open fire\"))\n",
        "print(vowel_links(\"a sudden applause\"))\n",
        "\n",
        "\n",
        "\n"
      ],
      "metadata": {
        "colab": {
          "base_uri": "https://localhost:8080/"
        },
        "id": "0xJ8NSrLxll7",
        "outputId": "5b493bdf-df22-4071-8e2a-03fbfd04376e"
      },
      "execution_count": 2,
      "outputs": [
        {
          "output_type": "stream",
          "name": "stdout",
          "text": [
            "True\n",
            "True\n",
            "False\n",
            "False\n"
          ]
        }
      ]
    },
    {
      "cell_type": "markdown",
      "source": [
        "2.You are given three inputs: a string, one letter, and a second letter.\n",
        "\n",
        "Write a function that returns True if every instance of the first letter occurs before every instance of the second letter.\n",
        "\n",
        "Examples\n",
        "\n",
        "first_before_second(\"a rabbit jumps joyfully\", \"a\", \"j\") ➞ True\n",
        "Every instance of \"a\" occurs before every instance of \"j\".\n",
        "\n",
        "first_before_second(\"knaves knew about waterfalls\", \"k\", \"w\") ➞  True\n",
        "\n",
        "first_before_second(\"happy birthday\", \"a\", \"y\") ➞ False\n",
        "The \"a\" in \"birthday\" occurs after the \"y\" in \"happy\".\n",
        "\n",
        "first_before_second(\"precarious kangaroos\", \"k\", \"a\") ➞ False\n",
        "\n"
      ],
      "metadata": {
        "id": "G0vNUfzMCRks"
      }
    },
    {
      "cell_type": "code",
      "source": [
        "def first_before_second(s,i,j):\n",
        "  ind_i_first = s.index(i)\n",
        "  ind_i_last = s.rindex(i)\n",
        "  for k in range(len(s)):\n",
        "    if s[k]==j:\n",
        "      if ind_i_first<k:\n",
        "        return True\n",
        "      elif ind_i_last<k:\n",
        "        return True\n",
        "      else:\n",
        "        return False\n",
        "  \n",
        "\n",
        "  \n",
        "print(first_before_second(\"a rabbit jumps joyfully\", \"a\", \"j\"))\n",
        "print(first_before_second(\"knaves knew about waterfalls\", \"k\", \"w\"))"
      ],
      "metadata": {
        "colab": {
          "base_uri": "https://localhost:8080/"
        },
        "id": "-XUxZImhCYtq",
        "outputId": "30adba9e-6698-4f6e-94dd-d58ea131ab7a"
      },
      "execution_count": 33,
      "outputs": [
        {
          "output_type": "stream",
          "name": "stdout",
          "text": [
            "True\n",
            "True\n",
            "True\n"
          ]
        }
      ]
    },
    {
      "cell_type": "markdown",
      "source": [
        "3.Create a function that returns the characters from a list or string r on odd or even positions, depending on the specifier s. The specifier will be \"odd\" for items on odd positions (1, 3, 5, ...) and \"even\" for items on even positions (2, 4, 6, ...).\n",
        "\n",
        "Examples\n",
        "\n",
        "char_at_pos([2, 4, 6, 8, 10], \"even\") ➞ [4, 8]\n",
        "4 & 8 occupy the 2nd & 4th positions\n",
        "\n",
        "char_at_pos(\"EDABIT\", \"odd\") ➞ \"EAI\"\n",
        "\"E\", \"A\" and \"I\" occupy the 1st, 3rd and 5th positions\n",
        "\n",
        "char_at_pos([\"A\", \"R\", \"B\", \"I\", \"T\", \"R\", \"A\", \"R\", \"I\", \"L\", \"Y\"], \"odd\") ➞ [\"A\", \"B\", \"T\", \"A\", \"I\", \"Y\"]\n"
      ],
      "metadata": {
        "id": "XIffkJo1Nrl7"
      }
    },
    {
      "cell_type": "code",
      "source": [
        "def char_at_pos(s,p):\n",
        "  l1=[]\n",
        "  if p == \"even\":\n",
        "    for i in range(1,len(s)+1):\n",
        "      if i%2==0:\n",
        "        l1.append(s[i-1])\n",
        "  else:\n",
        "    for i in range(1,len(s)+1):\n",
        "      if i%2!=0:\n",
        "        l1.append(s[i-1])\n",
        "  if type(s) == list:\n",
        "    return l1\n",
        "  else:\n",
        "    return \"\".join(l1)\n",
        "\n",
        "print(char_at_pos([2, 4, 6, 8, 10], \"even\"))\n",
        "print(char_at_pos(\"EDABIT\", \"odd\"))\n",
        "print(char_at_pos([\"A\", \"R\", \"B\", \"I\", \"T\", \"R\", \"A\", \"R\", \"I\", \"L\", \"Y\"], \"odd\"))\n",
        "\n"
      ],
      "metadata": {
        "colab": {
          "base_uri": "https://localhost:8080/"
        },
        "id": "zIVh3RS0NuD1",
        "outputId": "ad2d9e68-daa8-4393-9235-9e212b5389ea"
      },
      "execution_count": 5,
      "outputs": [
        {
          "output_type": "stream",
          "name": "stdout",
          "text": [
            "[4, 8]\n",
            "EAI\n",
            "['A', 'B', 'T', 'A', 'I', 'Y']\n"
          ]
        }
      ]
    },
    {
      "cell_type": "markdown",
      "source": [
        "4.Write a function that returns the greatest common divisor of all list elements. If the greatest common divisor is 1, return 1.\n",
        "\n",
        "Examples\n",
        "\n",
        "GCD([10, 20, 40]) ➞ 10\n",
        "\n",
        "GCD([1, 2, 3, 100]) ➞ 1\n",
        "\n",
        "GCD([1024, 192, 2048, 512]) ➞ 64\n"
      ],
      "metadata": {
        "id": "3Y3cicO7PAEG"
      }
    },
    {
      "cell_type": "code",
      "source": [
        "def findgcd(x, y):\n",
        "   while(y):\n",
        "      x, y = y, x % y\n",
        "   return x\n",
        "def GCD(l1):\n",
        "  num1=l1[0]\n",
        "  num2=l1[1]\n",
        "  gcd=findgcd(num1,num2)\n",
        "  for i in range(2,len(l1)):\n",
        "    gcd=findgcd(gcd,l1[i])\n",
        "  return gcd\n",
        "\n",
        "print(GCD([10,20,40]))\n",
        "print(GCD([1,2,3,100]))\n",
        "print(GCD([1024,192,2048,512]))\n",
        "\n"
      ],
      "metadata": {
        "colab": {
          "base_uri": "https://localhost:8080/"
        },
        "id": "PZscqzJ3PELt",
        "outputId": "9bddae88-d0e5-4ac7-e984-aa50b6b56495"
      },
      "execution_count": 11,
      "outputs": [
        {
          "output_type": "stream",
          "name": "stdout",
          "text": [
            "10\n",
            "1\n",
            "64\n"
          ]
        }
      ]
    },
    {
      "cell_type": "markdown",
      "source": [
        "5. A number/string is a palindrome if the digits/characters are the same when read both forward and backward. Examples include \"racecar\" and 12321. Given a positive number n, check if n or the binary representation of n is palindromic. Return the following:\n",
        "\n",
        "- \"Decimal only.\" if only n is a palindrome.\n",
        "- \"Binary only.\" if only the binary representation of n is a palindrome.\n",
        "- \"Decimal and binary.\" if both are palindromes.\n",
        "- \"Neither!\" if neither are palindromes.\n",
        "\n",
        "Examples\n",
        "\n",
        "palindrome_type(1306031) ➞ \"Decimal only.\"\n",
        "\n",
        "decimal = 1306031\n",
        "\n",
        "binary  = \"100111110110110101111\"\n",
        "\n",
        "palindrome_type(427787) ➞ \"Binary only.\"\n",
        "\n",
        "decimal = 427787\n",
        "\n",
        "binary  = \"1101000011100001011\"\n",
        "\n",
        "palindrome_type(313) ➞ \"Decimal and binary.\"\n",
        "\n",
        "decimal = 313\n",
        "\n",
        "binary  = 100111001\n",
        "\n",
        "palindrome_type(934) ➞ \"Neither!\"\n",
        "\n",
        "decimal = 934\n",
        "\n",
        "binary  = \"1110100110\"\n"
      ],
      "metadata": {
        "id": "uFAH_SApV6f4"
      }
    },
    {
      "cell_type": "code",
      "source": [
        "def decimal_to_binary(n):\n",
        "  s=''\n",
        "  while(n>0):\n",
        "    s=s+str(n%2)\n",
        "    n=int(n/2)\n",
        "  return s\n",
        "def palindrome_type(n):\n",
        "  b1 = decimal_to_binary(n)\n",
        "  d1 = str(n)\n",
        "  if d1 == d1[::-1] and b1 == b1[::-1]:\n",
        "    return \"Decimal and binary\"\n",
        "  elif d1!=d1[::-1] and b1 == b1[::-1]:\n",
        "    return \"Binary\"\n",
        "  elif d1 == d1[::-1] and b1!=b1[::-1]:\n",
        "    return \"Decimal\"\n",
        "  else:\n",
        "    return \"Neither!\"\n",
        "print(palindrome_type(1306031))\n",
        "print(palindrome_type(427787))\n",
        "print(palindrome_type(313))\n",
        "print(palindrome_type(934))\n"
      ],
      "metadata": {
        "colab": {
          "base_uri": "https://localhost:8080/"
        },
        "id": "1QknFcfpWEe8",
        "outputId": "7666aefb-62a4-4627-866a-1c44085b63f2"
      },
      "execution_count": 16,
      "outputs": [
        {
          "output_type": "stream",
          "name": "stdout",
          "text": [
            "Decimal\n",
            "Binary\n",
            "Decimal and binary\n",
            "Neither!\n"
          ]
        }
      ]
    }
  ]
}