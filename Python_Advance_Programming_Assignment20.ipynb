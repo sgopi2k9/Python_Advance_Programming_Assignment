{
  "nbformat": 4,
  "nbformat_minor": 0,
  "metadata": {
    "colab": {
      "name": "Python_Advance_Programming_Assignment20.ipynb",
      "provenance": [],
      "collapsed_sections": []
    },
    "kernelspec": {
      "name": "python3",
      "display_name": "Python 3"
    },
    "language_info": {
      "name": "python"
    }
  },
  "cells": [
    {
      "cell_type": "markdown",
      "source": [
        "1.Create a function based on the input and output. Look at the examples, there is a pattern.\n",
        "\n",
        "Examples\n",
        "\n",
        "secret(\"p.one.two.three\") ➞ \"\\<p class='one two three'\\>\\</p\\>\"\n",
        "\n",
        "secret(\"p.one\") ➞ \"\\<p class='one'\\>\\</p\\>\"\n",
        "\n",
        "secret(\"p.four.five\") ➞ \"\\<p class='four five'\\>\\</p\\>\"\n"
      ],
      "metadata": {
        "id": "AHTZLmag1PnE"
      }
    },
    {
      "cell_type": "code",
      "source": [
        "def secret(s):\n",
        "  s = s.split(\".\")\n",
        "  s.insert(1,\"'\")\n",
        "  s.insert(len(s),\"'\")\n",
        "  k = ''\n",
        "  k = \"<\"+s[0]+\" \"+\"class=\"\n",
        "  for i in range(1,len(s)):\n",
        "    k = k+\" \"+s[i]\n",
        "  k = k+\"</\"+s[0]+\">\"\n",
        "  return k\n",
        "\n",
        "print(secret(\"p.one.two.three\"))\n",
        "print(secret(\"p.one\"))\n",
        "print(secret(\"p.four.five\"))\n"
      ],
      "metadata": {
        "colab": {
          "base_uri": "https://localhost:8080/"
        },
        "id": "Rsi6TFxk1fHE",
        "outputId": "06dc6a40-eebb-40be-8735-335d38b6b2d3"
      },
      "execution_count": null,
      "outputs": [
        {
          "output_type": "stream",
          "name": "stdout",
          "text": [
            "<p class= ' one two three '</p>\n",
            "<p class= ' one '</p>\n",
            "<p class= ' four five '</p>\n"
          ]
        }
      ]
    },
    {
      "cell_type": "markdown",
      "source": [
        "2.Create a function which counts how many lone 1s appear in a given number. Lone means the number doesn't appear twice or more in a row.\n",
        "\n",
        "Examples\n",
        "\n",
        "count_lone_ones(101) ➞ 2\n",
        "\n",
        "count_lone_ones(1191) ➞ 1\n",
        "\n",
        "count_lone_ones(1111) ➞ 0\n",
        "\n",
        "count_lone_ones(462) ➞ 0\n"
      ],
      "metadata": {
        "id": "QNHCe_Gm3Cm3"
      }
    },
    {
      "cell_type": "code",
      "source": [
        "import re\n",
        "def count_lone_ones(in_num):\n",
        "    pattern = r\"(?<!1)1(?!1)\" \n",
        "    output = re.findall(pattern,str(in_num))\n",
        "    print(f'coint_lone_ones({in_num}) ➞ {len(output)}')\n",
        "count_lone_ones(101) \n",
        "count_lone_ones(1191)\n",
        "count_lone_ones(1111) \n",
        "count_lone_ones(462)"
      ],
      "metadata": {
        "colab": {
          "base_uri": "https://localhost:8080/"
        },
        "id": "BFNfhCNI3F7w",
        "outputId": "edb3a4c8-ef95-4ddd-f5ae-d60aa6032bb2"
      },
      "execution_count": null,
      "outputs": [
        {
          "output_type": "stream",
          "name": "stdout",
          "text": [
            "coint_lone_ones(101) ➞ 2\n",
            "coint_lone_ones(1191) ➞ 1\n",
            "coint_lone_ones(1111) ➞ 0\n",
            "coint_lone_ones(462) ➞ 0\n"
          ]
        }
      ]
    },
    {
      "cell_type": "markdown",
      "source": [
        "3. Write a method that accepts two integer parameters rows and cols. The output is a 2d array of numbers displayed in column-major order, meaning the numbers shown increase sequentially down each column and wrap to the top of the next column to the right once the bottom of the current column is reached.\n",
        "\n",
        "Examples\n",
        "\n",
        "printGrid(3, 6) ➞ [\n",
        "  [1, 4, 7, 10, 13, 16],\n",
        "  [2, 5, 8, 11, 14, 17],\n",
        "  [3, 6, 9, 12, 15, 18]\n",
        "]\n",
        "\n",
        "printGrid(5, 3) ➞ [\n",
        "  [1, 6, 11],\n",
        "  [2, 7, 12],\n",
        "  [3, 8, 13],\n",
        "  [4, 9, 14],\n",
        "  [5, 10, 15]\n",
        "]\n",
        "\n",
        "printGrid(4, 1) ➞ [\n",
        "  [1],\n",
        "  [2],\n",
        "  [3],\n",
        "  [4]\n",
        "]\n"
      ],
      "metadata": {
        "id": "CqWleldF5e9N"
      }
    },
    {
      "cell_type": "code",
      "source": [
        "def printGrid(in_one,in_two):\n",
        "    output = []\n",
        "    for ele_1 in range(in_one):\n",
        "        temp = []\n",
        "        for ele_2 in range(in_two):\n",
        "            temp.append(ele_1+(in_one*ele_2)+1)\n",
        "        output.append(temp)\n",
        "    print(f'printGrid{in_one,in_two} ➞ {output}')\n",
        "    \n",
        "printGrid(3, 6)\n",
        "printGrid(5, 3)  \n",
        "printGrid(4, 1)"
      ],
      "metadata": {
        "id": "eSPaCHpP5k6k",
        "colab": {
          "base_uri": "https://localhost:8080/"
        },
        "outputId": "3016421d-79c4-4b26-92f0-4c527166d9ed"
      },
      "execution_count": 1,
      "outputs": [
        {
          "output_type": "stream",
          "name": "stdout",
          "text": [
            "printGrid(3, 6) ➞ [[1, 4, 7, 10, 13, 16], [2, 5, 8, 11, 14, 17], [3, 6, 9, 12, 15, 18]]\n",
            "printGrid(5, 3) ➞ [[1, 6, 11], [2, 7, 12], [3, 8, 13], [4, 9, 14], [5, 10, 15]]\n",
            "printGrid(4, 1) ➞ [[1], [2], [3], [4]]\n"
          ]
        }
      ]
    },
    {
      "cell_type": "markdown",
      "source": [
        "4.Given a list of integers, return the smallest positive integer not present in the list.\n",
        "\n",
        "Here is a representative example. Consider the list:\n",
        "\n",
        "[-2, 6, 4, 5, 7, -1, 7, 1, 3, 6, 6, -2, 9, 10, 2, 2]\n",
        "\n",
        "After reordering, the list becomes:\n",
        "\n",
        "[-2, -2, -1, 1, 2, 2, 3, 4, 5, 6, 6, 6, 7, 7, 9, 10]\n",
        "\n",
        "from which we see that the smallest missing positive integer is 8.\n",
        "\n",
        "Examples\n",
        "\n",
        "min_miss_pos([-2, 6, 4, 5, 7, -1, 1, 3, 6, -2, 9, 10, 2, 2]) ➞ 8\n",
        "After sorting, list becomes [-2, -2, -1, 1, 2, 2, 3, 4, 5, 6, 6, 7, 9, 10]\n",
        "So the smallest missing positive integer is 8\n",
        "\n",
        "min_miss_pos([5, 9, -2, 0, 1, 3, 9, 3, 8, 9]) ➞ 2\n",
        "After sorting, list becomes [-2, 0, 1, 3, 3, 5, 8, 9, 9, 9]\n",
        "So the smallest missing positive integer is 2\n",
        "\n",
        "min_miss_pos([0, 4, 4, -1, 9, 4, 5, 2, 10, 7, 6, 3, 10, 9]) ➞ 1\n",
        "After sorting, list becomes [-1, 0, 2, 3, 4, 4, 4, 5, 6, 7, 9, 9, 10, 10]\n",
        "So the smallest missing positive integer is 1\n"
      ],
      "metadata": {
        "id": "1IK9Si4uypKS"
      }
    },
    {
      "cell_type": "code",
      "source": [
        "def min_miss_pos(in_list):\n",
        "    in_list_clone = in_list.copy()\n",
        "    in_list = sorted(in_list)\n",
        "    output = -1\n",
        "    for ele in range(1,max(in_list)+1):\n",
        "        if ele not in in_list:\n",
        "            output = ele\n",
        "            break\n",
        "    print(f'min_miss_pos({in_list_clone}) ➞ {in_list} ➞ {output}')\n",
        "    \n",
        "min_miss_pos([-2, 6, 4, 5, 7, -1, 1, 3, 6, -2, 9, 10, 2, 2])\n",
        "min_miss_pos([5, 9, -2, 0, 1, 3, 9, 3, 8, 9])\n",
        "min_miss_pos([0, 4, 4, -1, 9, 4, 5, 2, 10, 7, 6, 3, 10, 9])"
      ],
      "metadata": {
        "colab": {
          "base_uri": "https://localhost:8080/"
        },
        "id": "mP_T59Qry7IW",
        "outputId": "e6585e21-8122-43c9-aefb-46614f81565c"
      },
      "execution_count": 2,
      "outputs": [
        {
          "output_type": "stream",
          "name": "stdout",
          "text": [
            "min_miss_pos([-2, 6, 4, 5, 7, -1, 1, 3, 6, -2, 9, 10, 2, 2]) ➞ [-2, -2, -1, 1, 2, 2, 3, 4, 5, 6, 6, 7, 9, 10] ➞ 8\n",
            "min_miss_pos([5, 9, -2, 0, 1, 3, 9, 3, 8, 9]) ➞ [-2, 0, 1, 3, 3, 5, 8, 9, 9, 9] ➞ 2\n",
            "min_miss_pos([0, 4, 4, -1, 9, 4, 5, 2, 10, 7, 6, 3, 10, 9]) ➞ [-1, 0, 2, 3, 4, 4, 4, 5, 6, 7, 9, 9, 10, 10] ➞ 1\n"
          ]
        }
      ]
    },
    {
      "cell_type": "markdown",
      "source": [
        "5.Google is launching a network of autonomous pizza delivery drones and wants you to create a flexible rewards system (Pizza Points™) that can be tweaked in the future. The rules are simple: if a customer has made at least N orders of at least Y price, they get a FREE pizza!\n",
        "\n",
        "Create a function that takes a dictionary of customers, a minimum number of orders and a minimum order price. Return a list of customers that are eligible for a free pizza.\n",
        "\n",
        "Examples\n",
        "\n",
        "customers = {\n",
        "  \"Batman\": [22, 30, 11, 17, 15, 52, 27, 12],\n",
        "  \"Spider-Man\": [5, 17, 30, 33, 40, 22, 26, 10, 11, 45]\n",
        "}\n",
        "\n",
        "  pizza_points(customers, 5, 20) ➞ [\"Spider-Man\"]\n",
        "\n",
        "  pizza_points(customers, 3, 10) ➞ [\"Batman\", \"Spider-Man\"]\n",
        "\n",
        "  pizza_points(customers, 5, 100) ➞ []\n"
      ],
      "metadata": {
        "id": "kJbdPW2ey_t-"
      }
    },
    {
      "cell_type": "code",
      "source": [
        "def pizza_points(in_dict,min_order,min_price):\n",
        "    output = []\n",
        "    for customer in in_dict.keys():\n",
        "        if len([order_price for order_price in in_dict[customer] if order_price > min_price]) > min_order:\n",
        "            output.append(customer)\n",
        "    print(f'pizza_points{\"customers\",min_order,min_price} ➞ {output}')\n",
        "\n",
        "customers = {\n",
        "  \"Batman\": [22, 30, 11, 17, 15, 52, 27, 12],\n",
        "  \"Spider-Man\": [5, 17, 30, 33, 40, 22, 26, 10, 11, 45]\n",
        "}\n",
        "    \n",
        "pizza_points(customers, 5, 20)\n",
        "pizza_points(customers, 3, 10)\n",
        "pizza_points(customers, 5, 100)"
      ],
      "metadata": {
        "colab": {
          "base_uri": "https://localhost:8080/"
        },
        "id": "R1xuiovWzDwv",
        "outputId": "4cdaaf98-2f76-4684-91fd-3bf9e438c55e"
      },
      "execution_count": 3,
      "outputs": [
        {
          "output_type": "stream",
          "name": "stdout",
          "text": [
            "pizza_points('customers', 5, 20) ➞ ['Spider-Man']\n",
            "pizza_points('customers', 3, 10) ➞ ['Batman', 'Spider-Man']\n",
            "pizza_points('customers', 5, 100) ➞ []\n"
          ]
        }
      ]
    }
  ]
}