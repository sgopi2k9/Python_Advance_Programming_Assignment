{
  "nbformat": 4,
  "nbformat_minor": 0,
  "metadata": {
    "colab": {
      "name": "Python_Advance_Programming_Assignment17.ipynb",
      "provenance": [],
      "collapsed_sections": []
    },
    "kernelspec": {
      "name": "python3",
      "display_name": "Python 3"
    },
    "language_info": {
      "name": "python"
    }
  },
  "cells": [
    {
      "cell_type": "markdown",
      "source": [
        "1.Create a function that transposes a 2D matrix.\n",
        "Examples\n",
        "\n",
        "transpose_matrix([\n",
        "\n",
        "[1, 1, 1],\n",
        "\n",
        "[2, 2, 2],\n",
        "\n",
        "[3, 3, 3]\n",
        "\n",
        "]) ➞ [\n",
        "\n",
        "[1, 2, 3],\n",
        "\n",
        "[1, 2, 3],\n",
        "\n",
        "[1, 2, 3]\n",
        "\n",
        "]\n",
        "\n",
        "transpose_matrix([\n",
        "\n",
        "[5, 5],\n",
        "\n",
        "[6, 7],\n",
        "\n",
        "[9, 1]\n",
        "\n",
        "]) ➞ [\n",
        "\n",
        "[5, 6, 9],\n",
        "\n",
        "[5, 7, 1]\n",
        "\n",
        "]"
      ],
      "metadata": {
        "id": "D8AKRgXv2pco"
      }
    },
    {
      "cell_type": "code",
      "source": [
        "def transpose_matrix(l1):\n",
        "  result = [[l1[j][i] for j in range(len(l1))] for i in range(len(l1[0]))  ]\n",
        "  return result\n",
        "\n",
        "print(transpose_matrix([\n",
        "[1, 1, 1],\n",
        "[2, 2, 2],\n",
        "[3, 3, 3]\n",
        "]))\n",
        "\n",
        "print(transpose_matrix([\n",
        "\n",
        "[5, 5],\n",
        "\n",
        "[6, 7],\n",
        "\n",
        "[9, 1]\n",
        "\n",
        "]))\n",
        "\n"
      ],
      "metadata": {
        "colab": {
          "base_uri": "https://localhost:8080/"
        },
        "id": "iE0cdLrr2ylD",
        "outputId": "4bd1f365-568c-408b-8cf9-a9fd31978a74"
      },
      "execution_count": 6,
      "outputs": [
        {
          "output_type": "stream",
          "name": "stdout",
          "text": [
            "[[1, 2, 3], [1, 2, 3], [1, 2, 3]]\n",
            "[[5, 6, 9], [5, 7, 1]]\n"
          ]
        }
      ]
    },
    {
      "cell_type": "markdown",
      "source": [
        "2.Create a function that determines whether a string is a valid hex code.\n",
        "\n",
        "A hex code must begin with a pound key # and is exactly 6 characters in length. Each character must be a digit from 0-9 or an alphabetic character from A-F. All alphabetic characters may be uppercase or lowercase.\n",
        "\n",
        "Examples\n",
        "\n",
        "is_valid_hex_code(\"#CD5C5C\") ➞ True\n",
        "\n",
        "is_valid_hex_code(\"#EAECEE\") ➞ True\n",
        "\n",
        "is_valid_hex_code(\"#eaecee\") ➞ True\n",
        "\n",
        "is_valid_hex_code(\"#CD5C58C\") ➞ False\n",
        "Length exceeds 6\n",
        "\n",
        "is_valid_hex_code(\"#CD5C5Z\") ➞ False\n",
        "Not all alphabetic characters in A-F\n",
        "\n",
        "is_valid_hex_code(\"#CD5C&C\") ➞ False\n",
        "Contains unacceptable character\n",
        "\n",
        "is_valid_hex_code(\"CD5C5C\") ➞ False\n",
        "Missing #\n"
      ],
      "metadata": {
        "id": "kzhimkaV63km"
      }
    },
    {
      "cell_type": "code",
      "source": [
        "def is_valid_hex_code(s):\n",
        "  alpha_digits = ['0','1','2','3','4','5','6','7','8','9','A','B','C','D','E','F']\n",
        "  flag = False\n",
        "  if s[0] == '#' and len(s)==7:\n",
        "    s = s[1:len(s)]\n",
        "    for i in s:\n",
        "      if i.upper() in alpha_digits:\n",
        "        flag = True\n",
        "      else:\n",
        "        flag = False\n",
        "        break\n",
        "    return flag\n",
        "  else:\n",
        "    return flag\n",
        "print(is_valid_hex_code(\"#CD5C5C\"))\n",
        "\n",
        "print(is_valid_hex_code(\"#EAECEE\")) \n",
        "\n",
        "print(is_valid_hex_code(\"#eaecee\"))\n",
        "\n",
        "print(is_valid_hex_code(\"#CD5C58C\"))\n",
        "\n",
        "print(is_valid_hex_code(\"#CD5C5Z\") )\n",
        "\n",
        "print(is_valid_hex_code(\"#CD5C&C\"))\n",
        "\n",
        "print(is_valid_hex_code(\"CD5C5C\") )\n",
        "\n",
        "\n"
      ],
      "metadata": {
        "colab": {
          "base_uri": "https://localhost:8080/"
        },
        "id": "PixTyg0I7EOA",
        "outputId": "54cff1aa-d40d-4921-aa59-42674456a968"
      },
      "execution_count": 11,
      "outputs": [
        {
          "output_type": "stream",
          "name": "stdout",
          "text": [
            "True\n",
            "True\n",
            "True\n",
            "False\n",
            "False\n",
            "False\n",
            "False\n"
          ]
        }
      ]
    },
    {
      "cell_type": "markdown",
      "source": [
        "3.Given a list of math equations (given as strings), return the percentage of correct answers as a string. Round to the nearest whole number.\n",
        "\n",
        "Examples\n",
        "\n",
        "mark_maths([\"2+2=4\", \"3+2=5\", \"10-3=3\", \"5+5=10\"]) ➞ \"75%\"\n",
        "\n",
        "mark_maths([\"1-2=-2\"]), \"0%\"\n",
        "\n",
        "mark_maths([\"2+3=5\", \"4+4=9\", \"3-1=2\"]) ➞ \"67%\"\n"
      ],
      "metadata": {
        "id": "0YtpofPv-fsn"
      }
    },
    {
      "cell_type": "code",
      "source": [
        "def mark_maths(l1):\n",
        "  total = len(l1)\n",
        "  count = 0\n",
        "  for i in l1:\n",
        "    l2 = i.split(\"=\")\n",
        "    if eval(l2[0]) == eval(l2[1]):\n",
        "      count+=1\n",
        "  return str((count/total)*100)+\"%\"\n",
        "\n",
        "print(mark_maths([\"2+2=4\", \"3+2=5\", \"10-3=3\", \"5+5=10\"]))\n",
        "print(mark_maths([\"1-2=-2\"]))\n",
        "print(mark_maths([\"2+3=5\", \"4+4=9\", \"3-1=2\"]))\n",
        "\n"
      ],
      "metadata": {
        "colab": {
          "base_uri": "https://localhost:8080/"
        },
        "id": "y1tJ0qRt-kOF",
        "outputId": "63a2cd66-6173-4998-acbc-a2d7bac46f8b"
      },
      "execution_count": 22,
      "outputs": [
        {
          "output_type": "stream",
          "name": "stdout",
          "text": [
            "75.0%\n",
            "0.0%\n",
            "66.66666666666666%\n"
          ]
        }
      ]
    },
    {
      "cell_type": "markdown",
      "source": [
        "4.There are two players, Alice and Bob, each with a 3-by-3 grid. A referee tells Alice to fill out one particular row in the grid (say the second row) by putting either a 1 or a 0 in each box, such that the sum of the numbers in that row is odd. The referee tells Bob to fill out one column in the grid (say the first column) by putting either a 1 or a 0 in each box, such that the sum of the numbers in that column is even.\n",
        "\n",
        "Alice and Bob win the game if Alice’s numbers give an odd sum, Bob’s give an even sum, and (most important) they’ve each written down the same number in the one square where their row and column intersect.\n",
        "\n",
        "Examples\n",
        "\n",
        "magic_square_game([2, \"100\"], [1, \"101\"]) ➞ False\n",
        "\n",
        "magic_square_game([2, \"001\"], [1, \"101\"]) ➞ True\n",
        "\n",
        "magic_square_game([3, \"111\"], [2, \"011\"]) ➞ True\n",
        "\n",
        "magic_square_game([1, \"010\"], [3, \"101\"]) ➞ False\n",
        "\n",
        "Two lists, Alice [row, \"her choice\"], Bob [column, \"his choice\"]\n"
      ],
      "metadata": {
        "id": "nWwHN30yBW-g"
      }
    },
    {
      "cell_type": "code",
      "source": [
        "def magic_square_game(in_one,in_two):\n",
        "    output = False\n",
        "    if in_two[1][in_one[0]-1] == in_one[1][in_two[0]-1]:\n",
        "        output = True\n",
        "    print(f'magic_square_game{in_one,in_two} ➞ {output}')\n",
        "\n",
        "magic_square_game([2, \"100\"], [1, \"101\"])\n",
        "magic_square_game([2, \"001\"], [1, \"101\"])\n",
        "magic_square_game([3, \"111\"], [2, \"011\"])\n",
        "magic_square_game([1, \"010\"], [3, \"101\"])"
      ],
      "metadata": {
        "colab": {
          "base_uri": "https://localhost:8080/"
        },
        "id": "BU9ywAcHBbYe",
        "outputId": "f3adeee5-97f2-43e0-e11c-17dfe58c161d"
      },
      "execution_count": 28,
      "outputs": [
        {
          "output_type": "stream",
          "name": "stdout",
          "text": [
            "magic_square_game([2, '100'], [1, '101']) ➞ False\n",
            "magic_square_game([2, '001'], [1, '101']) ➞ True\n",
            "magic_square_game([3, '111'], [2, '011']) ➞ True\n",
            "magic_square_game([1, '010'], [3, '101']) ➞ False\n"
          ]
        }
      ]
    },
    {
      "cell_type": "markdown",
      "source": [
        "5.From point A, an object is moving towards point B at constant velocity va (in km/hr). From point B, another object is moving towards point A at constant velocity vb (in km/hr). Knowing this and the distance between point A and B (in km), write a function that returns how much time passes until both objects meet.\n",
        "\n",
        "Format the output like this:\n",
        "\n",
        "\"2h 23min 34s\"\n",
        "\n",
        "Examples\n",
        "\n",
        "lets_meet(100, 10, 30) ➞ \"2h 30min 0s\"\n",
        "\n",
        "lets_meet(280, 70, 80) ➞ \"1h 52min 0s\"\n",
        "\n",
        "lets_meet(90, 75, 65) ➞ \"0h 38min 34s\"\n"
      ],
      "metadata": {
        "id": "w3yI0ma9EW6H"
      }
    },
    {
      "cell_type": "code",
      "source": [
        "import datetime\n",
        "def lets_meet(distance,speed_a,speed_b):\n",
        "  t = distance/(speed_a+speed_b)\n",
        "  t = t*60*60\n",
        "  res = str(datetime.timedelta(seconds = t))\n",
        "  res = res.split(\":\")\n",
        "  return res[0]+\"h \"+res[1]+\"min \"+res[2]+\"s \"\n",
        "\n",
        "print(lets_meet(100,10,30))\n",
        "print(lets_meet(280,70,80))\n",
        "print(lets_meet(90,75,65))\n"
      ],
      "metadata": {
        "colab": {
          "base_uri": "https://localhost:8080/"
        },
        "id": "oysJp2b-EYmr",
        "outputId": "d5a39e2b-a152-4619-a9f3-c5cde456aea0"
      },
      "execution_count": 27,
      "outputs": [
        {
          "output_type": "stream",
          "name": "stdout",
          "text": [
            "2h 30min 00s \n",
            "1h 52min 00s \n",
            "0h 38min 34.285714s \n"
          ]
        }
      ]
    }
  ]
}