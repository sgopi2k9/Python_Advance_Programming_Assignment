{
  "nbformat": 4,
  "nbformat_minor": 0,
  "metadata": {
    "colab": {
      "name": "Python_Advance_Programming_Assignment4.ipynb",
      "provenance": [],
      "collapsed_sections": []
    },
    "kernelspec": {
      "name": "python3",
      "display_name": "Python 3"
    },
    "language_info": {
      "name": "python"
    }
  },
  "cells": [
    {
      "cell_type": "markdown",
      "source": [
        "1. In mathematics, the Fibonacci numbers, commonly denoted Fn, form a\n",
        "sequence, called the Fibonacci sequence, such that each number is the sum\n",
        "of the two preceding ones, starting from 0 and 1:\n",
        "\n",
        "The beginning of the sequence is this:\n",
        "\n",
        "0, 1, 1, 2, 3, 5, 8, 13, 21, 34, 55, 89, 144, ...\n",
        "\n",
        "The function fastFib(num) returns the fibonacci number Fn, of the given num\n",
        "as an argument.\n",
        "\n",
        "Examples\n",
        "\n",
        "fib_fast(5) ➞ 5\n",
        "\n",
        "fib_fast(10) ➞ 55\n",
        "\n",
        "fib_fast(20) ➞ 6765\n",
        "\n",
        "fib_fast(50) ➞ 12586269025"
      ],
      "metadata": {
        "id": "1YU97Yuk5cgE"
      }
    },
    {
      "cell_type": "code",
      "source": [
        "def fib_gen(n):\n",
        "  for i in range(0,n-1):\n",
        "    yield i\n",
        "def fib_fast(n):\n",
        "  a=0\n",
        "  b=1\n",
        "  for i in fib_gen(n):\n",
        "    a,b = b,a+b\n",
        "  return b\n",
        "\n",
        "print(fib_fast(5))\n",
        "print(fib_fast(10))\n",
        "print(fib_fast(20))\n",
        "print(fib_fast(50))"
      ],
      "metadata": {
        "colab": {
          "base_uri": "https://localhost:8080/"
        },
        "id": "WWo34kts5k8g",
        "outputId": "04e87e3b-f5ff-4e4d-c864-768dfe5987a4"
      },
      "execution_count": null,
      "outputs": [
        {
          "output_type": "stream",
          "name": "stdout",
          "text": [
            "5\n",
            "55\n",
            "6765\n",
            "12586269025\n"
          ]
        }
      ]
    },
    {
      "cell_type": "markdown",
      "source": [
        "2.Create a function that takes a strings characters as ASCII and returns each\n",
        "characters hexadecimal value as a string.\n",
        "\n",
        "Examples\n",
        "\n",
        "convert_to_hex(&quot;hello world&quot;) ➞ &quot;68 65 6c 6c 6f 20 77 6f 72 6c 64&quot;\n",
        "\n",
        "convert_to_hex(&quot;Big Boi&quot;) ➞ &quot;42 69 67 20 42 6f 69&quot;\n",
        "\n",
        "convert_to_hex(&quot;Marty Poppinson&quot;) ➞ &quot;4d 61 72 74 79 20 50 6f 70 70 69 6e\n",
        "73 6f 6e&quot;"
      ],
      "metadata": {
        "id": "vdvFbUBv_aRD"
      }
    },
    {
      "cell_type": "code",
      "source": [
        "def decimaltohex(d):\n",
        "  convert_table={0:'0',1:'1',2:'2',3:'3',4:'4',5:'5',6:'6',7:'7',8:'8',9:'9',10:'a',11:'b',12:'c',13:'d',14:'e',15:'f'}\n",
        "  h = ''\n",
        "  while (d>0):\n",
        "    r = d%16\n",
        "    h = convert_table[r]+h\n",
        "    d = int(d/16)\n",
        "  return h\n",
        "\n",
        "def convert_to_hex(s):\n",
        "  p=''\n",
        "  for i in s:\n",
        "    p = p+\" \"+decimaltohex(ord(i))\n",
        "  return p\n",
        "\n",
        "print(convert_to_hex(\"hello world\"))\n",
        "print(convert_to_hex(\"Big Boi\"))\n",
        "print(convert_to_hex(\"Marty Poppinson\"))\n",
        "\n",
        "  \n",
        "\n"
      ],
      "metadata": {
        "id": "2rT07Ly4_kjL",
        "colab": {
          "base_uri": "https://localhost:8080/"
        },
        "outputId": "0dfa6ef4-c5e1-495d-9e2b-afb2bff8b76c"
      },
      "execution_count": 40,
      "outputs": [
        {
          "output_type": "stream",
          "name": "stdout",
          "text": [
            " 68 65 6c 6c 6f 20 77 6f 72 6c 64\n",
            " 42 69 67 20 42 6f 69\n",
            " 4d 61 72 74 79 20 50 6f 70 70 69 6e 73 6f 6e\n"
          ]
        }
      ]
    },
    {
      "cell_type": "markdown",
      "source": [
        "3.Someone has attempted to censor my strings by replacing every vowel\n",
        "with a *, l*k* th*s. Luckily, I&#39;ve been able to find the vowels that were\n",
        "removed.\n",
        "Given a censored string and a string of the censored vowels, return the\n",
        "original uncensored string.\n",
        "\n",
        "Example\n",
        "\n",
        "uncensor(&quot;Wh*r* d*d my v*w*ls g*?&quot;, &quot;eeioeo&quot;) ➞ &quot;Where did my vowels go?&quot;\n",
        "\n",
        "uncensor(&quot;abcd&quot;, &quot;&quot;) ➞ &quot;abcd&quot;\n",
        "\n",
        "uncensor(&quot;*PP*RC*S*&quot;, &quot;UEAE&quot;) ➞ &quot;UPPERCASE&quot;"
      ],
      "metadata": {
        "id": "PsRSAovVYYYL"
      }
    },
    {
      "cell_type": "code",
      "source": [
        "def uncensor(s,r):\n",
        "  l1 = list(r)\n",
        "  l2=list(s)\n",
        "  j=0\n",
        "  for i in range(0,len(l2)):\n",
        "    if l2[i] == '*':\n",
        "      l2[i]=l1[j]\n",
        "      j+=1\n",
        "  return \"\".join(l2)\n",
        "print(uncensor(\"Wh*r* d*d my v*w*ls g*?\", \"eeioeo\"))\n",
        "print(uncensor(\"abcd\", \"\"))\n",
        "print(uncensor(\"*PP*RC*S*\", \"UEAE\"))\n"
      ],
      "metadata": {
        "colab": {
          "base_uri": "https://localhost:8080/"
        },
        "id": "rlYQyY-qYcN5",
        "outputId": "993f8e72-6aae-4735-eb35-e2a7dc9800fe"
      },
      "execution_count": 14,
      "outputs": [
        {
          "output_type": "stream",
          "name": "stdout",
          "text": [
            "Where did my vowels go?\n",
            "abcd\n",
            "UPPERCASE\n"
          ]
        }
      ]
    },
    {
      "cell_type": "markdown",
      "source": [
        "4.Write a function that takes an IP address and returns the domain name using PTR DNS records.\n",
        "\n",
        "Example\n",
        "\n",
        "get_domain(\"8.8.8.8\") ➞ \"dns.google\"\n",
        "\n",
        "get_domain(\"8.8.4.4\") ➞ \"dns.google\"\n"
      ],
      "metadata": {
        "id": "WERkiwSrZu7d"
      }
    },
    {
      "cell_type": "code",
      "source": [
        "pip install dnspython"
      ],
      "metadata": {
        "colab": {
          "base_uri": "https://localhost:8080/"
        },
        "id": "iRxUfNs2Z_qg",
        "outputId": "0806e928-011b-4f4a-c5d1-d34fd3e86029"
      },
      "execution_count": 16,
      "outputs": [
        {
          "output_type": "stream",
          "name": "stdout",
          "text": [
            "Collecting dnspython\n",
            "  Downloading dnspython-2.1.0-py3-none-any.whl (241 kB)\n",
            "\u001b[?25l\r\u001b[K     |█▍                              | 10 kB 25.8 MB/s eta 0:00:01\r\u001b[K     |██▊                             | 20 kB 35.0 MB/s eta 0:00:01\r\u001b[K     |████                            | 30 kB 25.7 MB/s eta 0:00:01\r\u001b[K     |█████▍                          | 40 kB 16.8 MB/s eta 0:00:01\r\u001b[K     |██████▊                         | 51 kB 18.9 MB/s eta 0:00:01\r\u001b[K     |████████▏                       | 61 kB 15.9 MB/s eta 0:00:01\r\u001b[K     |█████████▌                      | 71 kB 14.0 MB/s eta 0:00:01\r\u001b[K     |██████████▉                     | 81 kB 15.0 MB/s eta 0:00:01\r\u001b[K     |████████████▏                   | 92 kB 15.1 MB/s eta 0:00:01\r\u001b[K     |█████████████▌                  | 102 kB 13.7 MB/s eta 0:00:01\r\u001b[K     |███████████████                 | 112 kB 13.7 MB/s eta 0:00:01\r\u001b[K     |████████████████▎               | 122 kB 13.7 MB/s eta 0:00:01\r\u001b[K     |█████████████████▋              | 133 kB 13.7 MB/s eta 0:00:01\r\u001b[K     |███████████████████             | 143 kB 13.7 MB/s eta 0:00:01\r\u001b[K     |████████████████████▎           | 153 kB 13.7 MB/s eta 0:00:01\r\u001b[K     |█████████████████████▋          | 163 kB 13.7 MB/s eta 0:00:01\r\u001b[K     |███████████████████████         | 174 kB 13.7 MB/s eta 0:00:01\r\u001b[K     |████████████████████████▍       | 184 kB 13.7 MB/s eta 0:00:01\r\u001b[K     |█████████████████████████▊      | 194 kB 13.7 MB/s eta 0:00:01\r\u001b[K     |███████████████████████████     | 204 kB 13.7 MB/s eta 0:00:01\r\u001b[K     |████████████████████████████▍   | 215 kB 13.7 MB/s eta 0:00:01\r\u001b[K     |█████████████████████████████▉  | 225 kB 13.7 MB/s eta 0:00:01\r\u001b[K     |███████████████████████████████▏| 235 kB 13.7 MB/s eta 0:00:01\r\u001b[K     |████████████████████████████████| 241 kB 13.7 MB/s \n",
            "\u001b[?25hInstalling collected packages: dnspython\n",
            "Successfully installed dnspython-2.1.0\n"
          ]
        }
      ]
    },
    {
      "cell_type": "code",
      "source": [
        "import dns.resolver\n",
        "import socket\n",
        "def get_domain(ipval):\n",
        "   n,a,ad = socket.gethostbyaddr(ipval)\n",
        "   return n\n",
        "\n",
        "print(get_domain(\"8.8.4.4\"))\n",
        "print(get_domain(\"8.8.8.8\"))"
      ],
      "metadata": {
        "colab": {
          "base_uri": "https://localhost:8080/"
        },
        "id": "2qLtqxrIalYL",
        "outputId": "3ce5401d-752b-4461-f0b8-214ccd807dda"
      },
      "execution_count": 25,
      "outputs": [
        {
          "output_type": "stream",
          "name": "stdout",
          "text": [
            "dns.google\n",
            "dns.google\n"
          ]
        }
      ]
    },
    {
      "cell_type": "markdown",
      "source": [
        "5.Create a function that takes an integer n and returns the factorial of factorials. See below examples for a better understanding:\n",
        "\n",
        "Examples\n",
        "\n",
        "fact_of_fact(4) ➞ 288\n",
        "4! * 3! * 2! * 1! = 288\n",
        "\n",
        "fact_of_fact(5) ➞ 34560\n",
        "\n",
        "fact_of_fact(6) ➞ 24883200\n"
      ],
      "metadata": {
        "id": "5mECQmGLd9X7"
      }
    },
    {
      "cell_type": "code",
      "source": [
        "def fact(n):\n",
        "  if n==0 or n==1:\n",
        "    return 1\n",
        "  else:\n",
        "    return n*fact(n-1)\n",
        "def fact_of_fact(n):\n",
        "  p=1\n",
        "  for i in range(1,n+1):\n",
        "    p = p * fact(i)\n",
        "  return p\n",
        "print(fact_of_fact(4))\n",
        "print(fact_of_fact(5))\n",
        "print(fact_of_fact(6))"
      ],
      "metadata": {
        "colab": {
          "base_uri": "https://localhost:8080/"
        },
        "id": "SP0SHzOleQGE",
        "outputId": "28863270-3c13-47f5-bfc1-6aa835d6b780"
      },
      "execution_count": 28,
      "outputs": [
        {
          "output_type": "stream",
          "name": "stdout",
          "text": [
            "288\n",
            "34560\n",
            "24883200\n"
          ]
        }
      ]
    }
  ]
}