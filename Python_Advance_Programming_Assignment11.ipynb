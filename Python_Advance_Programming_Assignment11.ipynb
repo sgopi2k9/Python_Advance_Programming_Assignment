{
  "nbformat": 4,
  "nbformat_minor": 0,
  "metadata": {
    "colab": {
      "name": "Python_Advance_Programming_Assignment11.ipynb",
      "provenance": [],
      "collapsed_sections": []
    },
    "kernelspec": {
      "name": "python3",
      "display_name": "Python 3"
    },
    "language_info": {
      "name": "python"
    }
  },
  "cells": [
    {
      "cell_type": "markdown",
      "source": [
        "1.Create a function that takes a list and returns a new list containing only prime numbers.\n",
        "\n",
        "Examples\n",
        "\n",
        "filter_primes([7, 9, 3, 9, 10, 11, 27]) ➞ [7, 3, 11]\n",
        "\n",
        "filter_primes([10007, 1009, 1007, 27, 147, 77, 1001, 70]) ➞ [10007, 1009]\n",
        "\n",
        "filter_primes([1009, 10, 10, 10, 3, 33, 9, 4, 1, 61, 63, 69, 1087, 1091, 1093, 1097]) ➞ [1009, 3, 61, 1087, 1091, 1093, 1097]\n"
      ],
      "metadata": {
        "id": "ECnub1_Virxw"
      }
    },
    {
      "cell_type": "code",
      "source": [
        "def gen_func(n):\n",
        "  for k in range(2,int(n/2)+1):\n",
        "    yield k\n",
        "def filter_primes(l1):\n",
        "  l2=[]\n",
        "  for i in l1:\n",
        "    if i>1:\n",
        "      for j in gen_func(i):\n",
        "        if i%j==0:\n",
        "          break\n",
        "      else:\n",
        "        l2.append(i)\n",
        "  return l2\n",
        "\n",
        "print(filter_primes([7, 9, 3, 9, 10, 11, 27]))\n",
        "print(filter_primes([10007, 1009, 1007, 27, 147, 77, 1001, 70]))\n",
        "print(filter_primes([1009, 10, 10, 10, 3, 33, 9, 4, 1, 61, 63, 69, 1087, 1091, 1093, 1097]))"
      ],
      "metadata": {
        "colab": {
          "base_uri": "https://localhost:8080/"
        },
        "id": "wTIJp9XjivQQ",
        "outputId": "281c8ecc-25e9-4180-9875-734588da0858"
      },
      "execution_count": 9,
      "outputs": [
        {
          "output_type": "stream",
          "name": "stdout",
          "text": [
            "[7, 3, 11]\n",
            "[10007, 1009]\n",
            "[1009, 3, 61, 1087, 1091, 1093, 1097]\n"
          ]
        }
      ]
    },
    {
      "cell_type": "markdown",
      "source": [
        "2.Once a water balloon pops, is soaks the area around it. The ground gets drier the further away you travel from the balloon.\n",
        "\n",
        "The effect of a water balloon popping can be modeled using a list. Create a function that takes a list which takes the pre-pop state and returns the state after the balloon is popped. The pre-pop state will contain at most a single balloon, whose size is represented by the only non-zero element.\n",
        "\n",
        "Examples\n",
        "\n",
        "pop([0, 0, 0, 0, 4, 0, 0, 0, 0]) ➞ [0, 1, 2, 3, 4, 3, 2, 1, 0]\n",
        "\n",
        "pop([0, 0, 0, 3, 0, 0, 0]) ➞ [0, 1, 2, 3, 2, 1, 0]\n",
        "\n",
        "pop([0, 0, 2, 0, 0]) ➞ [0, 1, 2, 1, 0]\n",
        "\n",
        "pop([0]) ➞ [0]\n"
      ],
      "metadata": {
        "id": "KJJpokXflN2v"
      }
    },
    {
      "cell_type": "code",
      "source": [
        "def pop1(l1):\n",
        "  m = max(l1)\n",
        "  ind = l1.index(m)\n",
        "  lef_l=[]\n",
        "  rig_l=[]\n",
        "  for i in range(0,ind):\n",
        "    lef_l.append(i)\n",
        "  for j in range(ind-1,-1,-1):\n",
        "    rig_l.append(j)\n",
        "  lef_l.append(m)\n",
        "  return (lef_l+rig_l)\n",
        "\n",
        "print(pop1([0, 0, 0, 0, 4, 0, 0, 0, 0]))\n",
        "print(pop1([0,0,0,3,0,0,0]))\n",
        "print(pop1([0, 0, 2, 0, 0]))\n",
        "print(pop1([0]))\n",
        "\n"
      ],
      "metadata": {
        "colab": {
          "base_uri": "https://localhost:8080/"
        },
        "id": "cs8QWPtblgfK",
        "outputId": "a8eb6cc0-42e4-4f57-f10d-14ebd8c64240"
      },
      "execution_count": 42,
      "outputs": [
        {
          "output_type": "stream",
          "name": "stdout",
          "text": [
            "[0, 1, 2, 3, 4, 3, 2, 1, 0]\n",
            "[0, 1, 2, 3, 2, 1, 0]\n",
            "[0, 1, 2, 1, 0]\n",
            "[0]\n"
          ]
        }
      ]
    },
    {
      "cell_type": "markdown",
      "source": [
        "3.\"Loves me, loves me not\" is a traditional game in which a person plucks off all the petals of a flower one by one, saying the phrase \"Loves me\" and \"Loves me not\" when determining whether the one that they love, loves them back.\n",
        "\n",
        "Given a number of petals, return a string which repeats the phrases \"Loves me\" and \"Loves me not\" for every alternating petal, and return the last phrase in all caps. Remember to put a comma and space between phrases.\n",
        "\n",
        "Examples\n",
        "\n",
        "loves_me(3) ➞ \"Loves me, Loves me not, LOVES ME\"\n",
        "\n",
        "loves_me(6) ➞ \"Loves me, Loves me not, Loves me, Loves me not, Loves me, LOVES ME NOT\"\n",
        "\n",
        "loves_me(1) ➞ \"LOVES ME\"\n"
      ],
      "metadata": {
        "id": "TOuUMCtBluId"
      }
    },
    {
      "cell_type": "code",
      "source": [
        "def loves_me(n):\n",
        "  e=\"Loves me\"\n",
        "  o=\"Loves me not\"\n",
        "  l1=[]\n",
        "  for i in range(0,n):\n",
        "    if i%2==0:\n",
        "      if i!=n-1:\n",
        "        l1.append(e)\n",
        "      else:\n",
        "        l1.append(e.upper())\n",
        "    else:\n",
        "      if i!=n-1:\n",
        "        l1.append(o)\n",
        "      else:\n",
        "        l1.append(o.upper())\n",
        "  return \",\".join(l1)\n",
        "print(loves_me(3))\n",
        "print(loves_me(6))\n",
        "print(loves_me(1))"
      ],
      "metadata": {
        "colab": {
          "base_uri": "https://localhost:8080/"
        },
        "id": "RqEMIRool1oQ",
        "outputId": "fd452d10-49f4-419e-b461-56c4a8ec3045"
      },
      "execution_count": 13,
      "outputs": [
        {
          "output_type": "stream",
          "name": "stdout",
          "text": [
            "Loves me,Loves me not,LOVES ME\n",
            "Loves me,Loves me not,Loves me,Loves me not,Loves me,LOVES ME NOT\n",
            "LOVES ME\n"
          ]
        }
      ]
    },
    {
      "cell_type": "markdown",
      "source": [
        "4.Write a function that sorts each string in a list by the letter in alphabetic ascending order (a-z).\n",
        "\n",
        "Examples\n",
        "\n",
        "sort_by_letter([\"932c\", \"832u32\", \"2344b\"])\n",
        "➞ [\"2344b\", \"932c\", \"832u32\"]\n",
        "\n",
        "sort_by_letter([\"99a\", \"78b\", \"c2345\", \"11d\"])\n",
        "➞ [\"99a\", \"78b\", \"c2345\", \"11d\"]\n",
        "\n",
        "sort_by_letter([\"572z\", \"5y5\", \"304q2\"])\n",
        "➞ [\"304q2\", \"5y5\", \"572z\"]\n",
        "\n",
        "sort_by_letter([])\n",
        "➞ []\n"
      ],
      "metadata": {
        "id": "S4qM1gTrn5h5"
      }
    },
    {
      "cell_type": "code",
      "source": [
        "import re\n",
        "def sort_by_letter(l1):\n",
        "  l2=[]\n",
        "  l3=[]\n",
        "  l2= [\"\".join(re.findall(\"\\D\",i)) for i in l1]\n",
        "  l2.sort()\n",
        "  for i in l2:\n",
        "    for j in l1:\n",
        "      if i in j:\n",
        "        l3.append(j)\n",
        "  return l3\n",
        "print(sort_by_letter([\"932c\",\"832u32\",\"2344b\"]))\n",
        "print(sort_by_letter([\"99a\", \"78b\", \"c2345\", \"11d\"]))\n",
        "print(sort_by_letter([\"572z\", \"5y5\", \"304q2\"]))\n",
        "print(sort_by_letter([]))\n",
        "\n"
      ],
      "metadata": {
        "colab": {
          "base_uri": "https://localhost:8080/"
        },
        "id": "gYvnPuQjoPuW",
        "outputId": "04dba450-5e39-46ef-d82a-57e76d9b94fe"
      },
      "execution_count": 34,
      "outputs": [
        {
          "output_type": "stream",
          "name": "stdout",
          "text": [
            "['2344b', '932c', '832u32']\n",
            "['99a', '78b', 'c2345', '11d']\n",
            "['304q2', '5y5', '572z']\n",
            "[]\n"
          ]
        }
      ]
    },
    {
      "cell_type": "markdown",
      "source": [
        "5.There are three cups on a table, at positions A, B, and C. At the start, there is a ball hidden under the cup at position B.\n",
        "\n",
        "However, I perform several swaps on the cups, which is notated as two letters. For example, if I swap the cups at positions A and B, I could notate this as AB or BA.\n",
        "\n",
        "Create a function that returns the letter position that the ball is at, once I finish swapping the cups. The swaps will be given to you as a list.\n",
        "\n",
        "Example\n",
        "\n",
        "cup_swapping([\"AB\", \"CA\", \"AB\"]) ➞ \"C\"\n",
        "\n",
        "Ball begins at position B.\n",
        "\n",
        "Cups A and B swap, so the ball is at position A.\n",
        "\n",
        "Cups C and A swap, so the ball is at position C.\n",
        "\n",
        "Cups A and B swap, but the ball is at position C, so it doesn't move.\n"
      ],
      "metadata": {
        "id": "An8Nlya9s8w1"
      }
    },
    {
      "cell_type": "code",
      "source": [
        "def cup_swapping(l1):\n",
        "  pos_1 = 'A'\n",
        "  pos_2 = 'B'\n",
        "  pos_3 = 'C'\n",
        "  l2=[]\n",
        "  ball=''\n",
        "  for i in l1:\n",
        "    if i == 'AB' or i == 'BA':\n",
        "      pos_1,pos_2 = pos_2,pos_1\n",
        "    if i == 'AC' or i == 'CA':\n",
        "      pos_1,pos_3 = pos_3,pos_1\n",
        "    if i == 'BC' or i == 'CB':\n",
        "      pos_2,pos_3 = pos_3,pos_2\n",
        "  if pos_1=='B':\n",
        "    return 'A'\n",
        "  if pos_2=='B':\n",
        "    return 'B'\n",
        "  if pos_3=='B':\n",
        "    return 'C'\n",
        "\n",
        "print(\"Ball position: \",cup_swapping(['AB','CA','AB']))\n",
        "print(\"Ball position: \",cup_swapping(['AB']))"
      ],
      "metadata": {
        "colab": {
          "base_uri": "https://localhost:8080/"
        },
        "id": "ExnwYXpsterE",
        "outputId": "5f37484a-8a38-4526-e586-1739eee6b6e6"
      },
      "execution_count": 48,
      "outputs": [
        {
          "output_type": "stream",
          "name": "stdout",
          "text": [
            "Ball position:  C\n",
            "Ball position:  A\n"
          ]
        }
      ]
    }
  ]
}