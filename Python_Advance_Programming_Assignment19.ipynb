{
  "nbformat": 4,
  "nbformat_minor": 0,
  "metadata": {
    "colab": {
      "name": "Python_Advance_Programming_Assignment19.ipynb",
      "provenance": []
    },
    "kernelspec": {
      "name": "python3",
      "display_name": "Python 3"
    },
    "language_info": {
      "name": "python"
    }
  },
  "cells": [
    {
      "cell_type": "markdown",
      "source": [
        "1.Create a checker board generator, which takes as inputs n and 2 elements to generate an n x n checkerboard with those two elements as alternating squares.\n",
        "\n",
        "Examples\n",
        "\n",
        "checker_board(2, 7, 6) ➞ [\n",
        "  [7, 6],\n",
        "  [6, 7]\n",
        "]\n",
        "\n",
        "checker_board(3, \"A\", \"B\") ➞ [\n",
        "  [\"A\", \"B\", \"A\"],\n",
        "  [\"B\", \"A\", \"B\"],\n",
        "  [\"A\", \"B\", \"A\"]\n",
        "]\n",
        "\n",
        "checker_board(4, \"c\", \"d\") ➞ [\n",
        "  [\"c\", \"d\", \"c\", \"d\"],\n",
        "  [\"d\", \"c\", \"d\", \"c\"],\n",
        "  [\"c\", \"d\", \"c\", \"d\"],\n",
        "  [\"d\", \"c\", \"d\", \"c\"]\n",
        "]\n",
        "\n",
        "checker_board(4, \"c\", \"c\") ➞ \"invalid\"\n"
      ],
      "metadata": {
        "id": "SKbskqGyiIOG"
      }
    },
    {
      "cell_type": "code",
      "source": [
        "def checker_board(grid_size,in_one,in_two):\n",
        "    if in_one != in_two:\n",
        "        input = [in_one,in_two]\n",
        "        output = []\n",
        "        for ele_1 in range(grid_size):\n",
        "            output.append([])\n",
        "            for ele_2 in range(grid_size):\n",
        "                output[ele_1].append(input[(ele_1+ele_2)%2])\n",
        "    else:\n",
        "        output = 'Invalid'\n",
        "    print(f'checker_board{grid_size,in_one,in_two} ➞ {output}')\n",
        "\n",
        "checker_board(2, 7, 6)\n",
        "checker_board(3, \"A\", \"B\")\n",
        "checker_board(4, \"c\", \"d\")\n",
        "checker_board(4, \"c\", \"c\")"
      ],
      "metadata": {
        "colab": {
          "base_uri": "https://localhost:8080/"
        },
        "id": "nY9wYQiSjt9I",
        "outputId": "6d828c27-f145-48a8-d744-3a14c3bc6b25"
      },
      "execution_count": 48,
      "outputs": [
        {
          "output_type": "stream",
          "name": "stdout",
          "text": [
            "checker_board(2, 7, 6) ➞ [[7, 6], [6, 7]]\n",
            "checker_board(3, 'A', 'B') ➞ [['A', 'B', 'A'], ['B', 'A', 'B'], ['A', 'B', 'A']]\n",
            "checker_board(4, 'c', 'd') ➞ [['c', 'd', 'c', 'd'], ['d', 'c', 'd', 'c'], ['c', 'd', 'c', 'd'], ['d', 'c', 'd', 'c']]\n",
            "checker_board(4, 'c', 'c') ➞ Invalid\n"
          ]
        }
      ]
    },
    {
      "cell_type": "markdown",
      "source": [
        "2.A string is an almost-palindrome if, by changing only one character, you can make it a palindrome. Create a function that returns True if a string is an almost-palindrome and False otherwise.\n",
        "\n",
        "Examples\n",
        "\n",
        "almost_palindrome(\"abcdcbg\") ➞ True\n",
        "Transformed to \"abcdcba\" by changing \"g\" to \"a\".\n",
        "\n",
        "almost_palindrome(\"abccia\") ➞ True\n",
        "Transformed to \"abccba\" by changing \"i\" to \"b\".\n",
        "\n",
        "almost_palindrome(\"abcdaaa\") ➞ False\n",
        "Can't be transformed to a palindrome in exactly 1 turn.\n",
        "\n",
        "almost_palindrome(\"1234312\") ➞ False\n"
      ],
      "metadata": {
        "id": "um3VxaOHqxor"
      }
    },
    {
      "cell_type": "code",
      "source": [
        "def almost_palindrome(in_string):\n",
        "    in_string_rev = in_string[::-1]\n",
        "    count = 0\n",
        "    for ele in range(len(in_string)):\n",
        "        if in_string[ele] != in_string_rev[ele]:\n",
        "            count +=1\n",
        "    output = True if count == 2 else False\n",
        "    print(f'almost_palindrome({in_string}) ➞ {output}')\n",
        "    \n",
        "almost_palindrome(\"abcdcbg\")\n",
        "almost_palindrome(\"abccia\")\n",
        "almost_palindrome(\"abcdaaa\")\n",
        "almost_palindrome(\"1234312\")"
      ],
      "metadata": {
        "colab": {
          "base_uri": "https://localhost:8080/"
        },
        "id": "DL6IaShvq6Bx",
        "outputId": "6f251778-a7f2-4912-f8f1-304685e8436e"
      },
      "execution_count": 49,
      "outputs": [
        {
          "output_type": "stream",
          "name": "stdout",
          "text": [
            "almost_palindrome(abcdcbg) ➞ True\n",
            "almost_palindrome(abccia) ➞ True\n",
            "almost_palindrome(abcdaaa) ➞ False\n",
            "almost_palindrome(1234312) ➞ False\n"
          ]
        }
      ]
    },
    {
      "cell_type": "markdown",
      "source": [
        "3.Create a function that finds how many prime numbers there are, up to the given integer.\n",
        "\n",
        "Examples\n",
        "\n",
        "prime_numbers(10) ➞ 4\n",
        "2, 3, 5 and 7\n",
        "\n",
        "prime_numbers(20) ➞ 8\n",
        "2, 3, 5, 7, 11, 13, 17 and 19\n",
        "\n",
        "prime_numbers(30) ➞ 10\n",
        "2, 3, 5, 7, 11, 13, 17, 19, 23 and 29\n"
      ],
      "metadata": {
        "id": "hIFJIB2jrJmL"
      }
    },
    {
      "cell_type": "code",
      "source": [
        "def is_prime(n):\n",
        "  count=0\n",
        "  if(n==1 or n==0):\n",
        "    return False\n",
        "  for i in range(2,n):\n",
        "    if(n%i==0):\n",
        "      return False\n",
        "  return True\n",
        "def prime_numbers(n):\n",
        "  count=0\n",
        "  for i in range(1,n+1):\n",
        "    if is_prime(i):\n",
        "      count+=1\n",
        "  return count\n",
        "print(prime_numbers(10))\n",
        "print(prime_numbers(20))\n",
        "print(prime_numbers(30))\n"
      ],
      "metadata": {
        "colab": {
          "base_uri": "https://localhost:8080/"
        },
        "id": "0_JHkjdRrM-s",
        "outputId": "7fe52549-aa36-4b83-cefe-60436a098785"
      },
      "execution_count": 33,
      "outputs": [
        {
          "output_type": "stream",
          "name": "stdout",
          "text": [
            "4\n",
            "8\n",
            "10\n"
          ]
        }
      ]
    },
    {
      "cell_type": "markdown",
      "source": [
        "4.If today was Monday, in two days, it would be Wednesday.\n",
        "\n",
        "Create a function that takes in a list of days as input and the number of days to increment by. Return a list of days after n number of days has passed.\n",
        "\n",
        "Examples\n",
        "\n",
        "after_n_days([\"Thursday\", \"Monday\"], 4) ➞ [\"Monday\", \"Friday\"]\n",
        "\n",
        "after_n_days([\"Sunday\", \"Sunday\", \"Sunday\"], 1) ➞ [\"Monday\", \"Monday\", \"Monday\"]\n",
        "\n",
        "after_n_days([\"Monday\", \"Tuesday\", \"Friday\"], 1) ➞ [\"Tuesday\", \"Wednesday\", \"Saturday\"]\n"
      ],
      "metadata": {
        "id": "lqM5giEIs7HM"
      }
    },
    {
      "cell_type": "code",
      "source": [
        "def after_n_days(l1,n):\n",
        "  l2=[]\n",
        "  d={\n",
        "      1:\"Monday\",\n",
        "      2:\"Tuesday\",\n",
        "      3:\"Wednesday\",\n",
        "      4:\"Thursday\",\n",
        "      5:\"Friday\",\n",
        "      6:\"Saturday\",\n",
        "      7:\"Sunday\"\n",
        "  }\n",
        "  for i in l1:\n",
        "    for k,v in d.items():\n",
        "      if v==i:\n",
        "        l2.append(d[(k+n)%7])\n",
        "  return l2\n",
        "print(after_n_days([\"Thursday\", \"Monday\"], 4))\n",
        "print(after_n_days([\"Sunday\", \"Sunday\", \"Sunday\"], 1))\n",
        "print(after_n_days([\"Monday\", \"Tuesday\", \"Friday\"], 1))"
      ],
      "metadata": {
        "colab": {
          "base_uri": "https://localhost:8080/"
        },
        "id": "wYYUUoaCs8wp",
        "outputId": "e81a7a14-f69e-42c9-8f4d-fa78b7f65547"
      },
      "execution_count": 37,
      "outputs": [
        {
          "output_type": "stream",
          "name": "stdout",
          "text": [
            "['Monday', 'Friday']\n",
            "['Monday', 'Monday', 'Monday']\n",
            "['Tuesday', 'Wednesday', 'Saturday']\n"
          ]
        }
      ]
    },
    {
      "cell_type": "markdown",
      "source": [
        "5.You are in the process of creating a chat application and want to add an anonymous name feature. This anonymous name feature will create an alias that consists of two capitalized words beginning with the same letter as the users first name.\n",
        "\n",
        "Create a function that determines if the list of users is mapped to a list of anonymous names correctly.\n",
        "\n",
        "Examples\n",
        "\n",
        "is_correct_aliases([\"Adrian M.\", \"Harriet S.\", \"Mandy T.\"], [\"Amazing Artichoke\", \"Hopeful Hedgehog\", \"Marvelous Mouse\"]) ➞ True\n",
        "\n",
        "is_correct_aliases([\"Rachel F.\", \"Pam G.\", \"Fred Z.\", \"Nancy K.\"], [\"Reassuring Rat\", \"Peaceful Panda\", \"Fantastic Frog\", \"Notable Nickel\"]) ➞ True\n",
        "\n",
        "is_correct_aliases([\"Beth T.\"], [\"Brandishing Mimosa\"]) ➞ False\n",
        "Both words in \"Brandishing Mimosa\" should begin with a \"B\" - \"Brandishing Beaver\" would do the trick.\n",
        "\n"
      ],
      "metadata": {
        "id": "alHTY8d-wVAr"
      }
    },
    {
      "cell_type": "code",
      "source": [
        "def is_correct_aliases(l1,l2):\n",
        "  l3 = [x[0] for x in l1]\n",
        "  l4 = [x.split(\" \") for x in l2]\n",
        "  flag = False\n",
        "  for i in range(0,len(l3)):\n",
        "    if l3[i]!=l4[i][0][0] or l3[i]!=l4[i][1][0]:\n",
        "      flag = False\n",
        "      break\n",
        "    else:\n",
        "      flag = True\n",
        "  return flag\n",
        "print(is_correct_aliases([\"Adrian M.\", \"Harriet S.\", \"Mandy T.\"], [\"Amazing Artichoke\", \"Hopeful Hedgehog\", \"Marvelous Mouse\"]))\n",
        "print(is_correct_aliases([\"Rachel F.\", \"Pam G.\", \"Fred Z.\", \"Nancy K.\"], [\"Reassuring Rat\", \"Peaceful Panda\", \"Fantastic Frog\", \"Notable Nickel\"]))\n",
        "print(is_correct_aliases([\"Beth T.\"], [\"Brandishing Mimosa\"]))"
      ],
      "metadata": {
        "colab": {
          "base_uri": "https://localhost:8080/"
        },
        "id": "ibbttpwNwXOn",
        "outputId": "e26f4f03-e105-488f-d74a-12c3ed8ab7ba"
      },
      "execution_count": 46,
      "outputs": [
        {
          "output_type": "stream",
          "name": "stdout",
          "text": [
            "True\n",
            "True\n",
            "False\n"
          ]
        }
      ]
    }
  ]
}