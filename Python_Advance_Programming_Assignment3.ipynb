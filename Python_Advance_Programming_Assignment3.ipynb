{
  "nbformat": 4,
  "nbformat_minor": 0,
  "metadata": {
    "colab": {
      "name": "Python_Advance_Programming_Assignment3.ipynb",
      "provenance": [],
      "collapsed_sections": []
    },
    "kernelspec": {
      "name": "python3",
      "display_name": "Python 3"
    },
    "language_info": {
      "name": "python"
    }
  },
  "cells": [
    {
      "cell_type": "markdown",
      "source": [
        "1. Create a function to perform basic arithmetic operations that includes\n",
        "addition, subtraction, multiplication and division on a string number (e.g. &quot;12 +\n",
        "24&quot; or &quot;23 - 21&quot; or &quot;12 // 12&quot; or &quot;12 * 21&quot;).\n",
        "Here, we have 1 followed by a space, operator followed by another space\n",
        "and 2. For the challenge, we are going to have only two numbers between 1\n",
        "valid operator. The return value should be a number.\n",
        "eval() is not allowed. In case of division, whenever the second number equals\n",
        "&quot;0&quot; return -1.\n",
        "\n",
        "For example:\n",
        "\n",
        "&quot;15 // 0&quot; ➞ -1\n",
        "\n",
        "Examples\n",
        "\n",
        "arithmetic_operation(&quot;12 + 12&quot;) ➞ 24 // 12 + 12 = 24\n",
        "\n",
        "arithmetic_operation(&quot;12 - 12&quot;) ➞ 24 // 12 - 12 = 0\n",
        "\n",
        "arithmetic_operation(&quot;12 * 12&quot;) ➞ 144 // 12 * 12 = 144\n",
        "\n",
        "arithmetic_operation(&quot;12 // 0&quot;) ➞ -1 // 12 / 0 = -1"
      ],
      "metadata": {
        "id": "84mCYKZ5IL_X"
      }
    },
    {
      "cell_type": "code",
      "source": [
        "def arithmetic_operation(s):\n",
        "  s=s.split(\" \")\n",
        "  m=0\n",
        "  if s[1]=='+':\n",
        "    return int(s[0])+int(s[2])\n",
        "  elif s[1]=='-':\n",
        "    return int(s[0])-int(s[2])\n",
        "  elif s[1]=='*':\n",
        "    return int(s[0])*int(s[2])\n",
        "  else:\n",
        "    if int(s[2])!=0:\n",
        "      return int(s[0])/int(s[2])\n",
        "    else:\n",
        "      return -1\n",
        "\n",
        "print(arithmetic_operation(\"12 + 12\"))\n",
        "print(arithmetic_operation(\"12 - 12\"))\n",
        "print(arithmetic_operation(\"12 * 12\"))\n",
        "print(arithmetic_operation(\"12 // 0\"))\n"
      ],
      "metadata": {
        "colab": {
          "base_uri": "https://localhost:8080/"
        },
        "id": "lkmgL2uLIQJj",
        "outputId": "a9d86225-43fc-4ee9-d7fb-3c3c3adfcb50"
      },
      "execution_count": null,
      "outputs": [
        {
          "output_type": "stream",
          "name": "stdout",
          "text": [
            "24\n",
            "0\n",
            "144\n",
            "-1\n"
          ]
        }
      ]
    },
    {
      "cell_type": "markdown",
      "source": [
        "2. Write a function that takes the coordinates of three points in the form of a\n",
        "2d array and returns the perimeter of the triangle. The given points are the\n",
        "vertices of a triangle on a two-dimensional plane.\n",
        "\n",
        "Examples\n",
        "\n",
        "perimeter( [ [15, 7], [5, 22], [11, 1] ] ) ➞ 47.08\n",
        "\n",
        "perimeter( [ [0, 0], [0, 1], [1, 0] ] ) ➞ 3.42\n",
        "\n",
        "perimeter( [ [-10, -10], [10, 10 ], [-10, 10] ] ) ➞ 68.28"
      ],
      "metadata": {
        "id": "6UJNtsgRJnsP"
      }
    },
    {
      "cell_type": "code",
      "source": [
        "from math import sqrt\n",
        "def distance(a,b):\n",
        "  return sqrt((a[0]-b[0])**2+(a[1]-b[1])**2)\n",
        "def perimeter(l):\n",
        "  l1=l[0]\n",
        "  l2=l[1]\n",
        "  l3=l[2]\n",
        "  d1=distance(l1,l2)\n",
        "  d2=distance(l2,l3)\n",
        "  d3=distance(l3,l1)\n",
        "  return d1+d2+d3\n",
        " \n",
        "print(format(perimeter( [ [15, 7], [5, 22], [11, 1] ] ),\".2f\"))\n",
        "print(format(perimeter( [ [0, 0], [0, 1], [1, 0] ] ),\".2f\"))\n",
        "print(format(perimeter( [ [-10, -10], [10, 10 ], [-10, 10] ]),\".2f\"))"
      ],
      "metadata": {
        "colab": {
          "base_uri": "https://localhost:8080/"
        },
        "id": "sVrLaf8MJsKm",
        "outputId": "d5884ac4-10bd-40c7-d7ce-8b23abead7f3"
      },
      "execution_count": null,
      "outputs": [
        {
          "output_type": "stream",
          "name": "stdout",
          "text": [
            "47.08\n",
            "3.41\n",
            "68.28\n"
          ]
        }
      ]
    },
    {
      "cell_type": "markdown",
      "source": [
        "3. A city skyline can be represented as a 2-D list with 1s representing\n",
        "buildings. In the example below, the height of the tallest building is 4 \n",
        "(second-\n",
        "most right column).\n",
        "\n",
        "[[0, 0, 0, 0, 0, 0],\n",
        "\n",
        "[0, 0, 0, 0, 1, 0],\n",
        "\n",
        "[0, 0, 1, 0, 1, 0],\n",
        "\n",
        "[0, 1, 1, 1, 1, 0],\n",
        "\n",
        "[1, 1, 1, 1, 1, 1]]\n",
        "\n",
        "Create a function that takes a skyline (2-D list of 0&#39;s and 1&#39;s) and returns the\n",
        "height of the tallest skyscraper.\n",
        "\n",
        "Examples\n",
        "\n",
        "tallest_skyscraper([\n",
        "[0, 0, 0, 0],\n",
        "\n",
        "[0, 1, 0, 0],\n",
        "\n",
        "[0, 1, 1, 0],\n",
        "\n",
        "[1, 1, 1, 1]\n",
        "]) ➞ 3\n",
        "\n",
        "tallest_skyscraper([\n",
        "\n",
        "[0, 1, 0, 0],\n",
        "\n",
        "[0, 1, 0, 0],\n",
        "\n",
        "[0, 1, 1, 0],\n",
        "\n",
        "[1, 1, 1, 1]\n",
        "]) ➞ 4\n",
        "\n",
        "tallest_skyscraper([\n",
        "\n",
        "[0, 0, 0, 0],\n",
        "\n",
        "[0, 0, 0, 0],\n",
        "\n",
        "[1, 1, 1, 0],\n",
        "\n",
        "[1, 1, 1, 1]\n",
        "]) ➞ 2"
      ],
      "metadata": {
        "id": "BJjGFaIsLiaB"
      }
    },
    {
      "cell_type": "code",
      "source": [
        "def tallest_skyscraper(l1):\n",
        "  l2=[]\n",
        "  row_len = len(l1)\n",
        "  col_len=0\n",
        "  for k in l1:\n",
        "    col_len = len(k)\n",
        "\n",
        "  for i in range(0,col_len):\n",
        "    s=0\n",
        "    for j in range(0,row_len):\n",
        "      s = s+l1[j][i]\n",
        "    l2.append(s)\n",
        "  \n",
        "  return max(l2)\n",
        "\n",
        "print(tallest_skyscraper([\n",
        "\n",
        "[0, 0, 0, 0],\n",
        "\n",
        "[0, 0, 0, 0],\n",
        "\n",
        "[1, 1, 1, 0],\n",
        "\n",
        "[1, 1, 1, 1] ]))  \n",
        "\n",
        "print(tallest_skyscraper([\n",
        "\n",
        "[0, 1, 0, 0],\n",
        "\n",
        "[0, 1, 0, 0],\n",
        "\n",
        "[0, 1, 1, 0],\n",
        "\n",
        "[1, 1, 1, 1]  ]))"
      ],
      "metadata": {
        "id": "sNKChUENLx5k",
        "colab": {
          "base_uri": "https://localhost:8080/"
        },
        "outputId": "e5861dc6-d1d5-4cce-c634-ff83cc8ece77"
      },
      "execution_count": 3,
      "outputs": [
        {
          "output_type": "stream",
          "name": "stdout",
          "text": [
            "2\n",
            "4\n"
          ]
        }
      ]
    },
    {
      "cell_type": "markdown",
      "source": [
        "4. A financial institution provides professional services to banks and claims\n",
        "charges from the customers based on the number of man-days provided.\n",
        "Internally, it has set a scheme to motivate and reward staff to meet and\n",
        "exceed targeted billable utilization and revenues by paying a bonus for each\n",
        "day claimed from customers in excess of a threshold target.\n",
        "This quarterly scheme is calculated with a threshold target of 32 days per\n",
        "quarter, and the incentive payment for each billable day in excess of such\n",
        "threshold target is shown as follows:\n",
        "\n",
        "Days Bonus\n",
        "\n",
        "0 to 32 days Zero\n",
        "\n",
        "33 to 40 days SGD$325 per billable day\n",
        "\n",
        "41 to 48 days SGD$550 per billable day\n",
        "\n",
        "Greater than 48 days SGD$600 per billable day\n",
        "\n",
        "Please note that incentive payment is calculated progressively. As an\n",
        "example, if an employee reached total billable days of 45 in a quarter, his/her\n",
        "incentive payment is computed as follows:\n",
        "32\\*0 + 8\\*325 + 5*550 = 5350\n",
        "Write a function to read the billable days of an employee and return the bonus\n",
        "he/she has obtained in that quarter.\n",
        "\n",
        "Examples\n",
        "bonus(15) ➞ 0\n",
        "\n",
        "bonus(37) ➞ 1625\n",
        "\n",
        "bonus(50) ➞ 8200"
      ],
      "metadata": {
        "id": "47830Jhqvaz2"
      }
    },
    {
      "cell_type": "code",
      "source": [
        "def bonus(bill_days):\n",
        "  b=0\n",
        "  if bill_days>=0 and bill_days<=32:\n",
        "    b=0\n",
        "  elif bill_days>=33 and bill_days<=40:\n",
        "    b=0*32+325*((bill_days-33)+1)\n",
        "  elif bill_days>=41 and bill_days<=48:\n",
        "    b=0*32+325*8+550*((bill_days-41)+1)\n",
        "  else:\n",
        "    b=0*32+325*8+550*8+600*((bill_days-48)+1)\n",
        "  return b\n",
        "\n",
        "print(bonus(45))\n",
        "print(bonus(5))\n",
        "print(bonus(37))\n",
        "print(bonus(50))"
      ],
      "metadata": {
        "colab": {
          "base_uri": "https://localhost:8080/"
        },
        "id": "zGsix4IBwJD-",
        "outputId": "52d54fe7-321a-4db9-d659-194dd3d318eb"
      },
      "execution_count": 16,
      "outputs": [
        {
          "output_type": "stream",
          "name": "stdout",
          "text": [
            "5350\n",
            "0\n",
            "1625\n",
            "8800\n"
          ]
        }
      ]
    },
    {
      "cell_type": "markdown",
      "source": [
        "5. A number is said to be Disarium if the sum of its digits raised to their\n",
        "respective positions is the number itself.\n",
        "Create a function that determines whether a number is a Disarium or not.\n",
        "\n",
        "Examples\n",
        "\n",
        "is_disarium(75) ➞ False\n",
        "\n",
        "7^1 + 5^2 = 7 + 25 = 32\n",
        "\n",
        "is_disarium(135) ➞ True\n",
        "\n",
        "1^1 + 3^2 + 5^3 = 1 + 9 + 125 = 135\n",
        "\n",
        "is_disarium(544) ➞ False\n",
        "\n",
        "is_disarium(518) ➞ True\n",
        "\n",
        "is_disarium(466) ➞ False\n",
        "\n",
        "is_disarium(8) ➞ True"
      ],
      "metadata": {
        "id": "RtDPOV510-t7"
      }
    },
    {
      "cell_type": "code",
      "source": [
        "def is_disarium(n):\n",
        "  num = n\n",
        "  s=0\n",
        "  l = len(str(n))\n",
        "  while(l>0):\n",
        "    s=s+(num%10)**(l)\n",
        "    l = l-1\n",
        "    num = int(num/10)\n",
        "  if s == n:\n",
        "    return True\n",
        "  else:\n",
        "    return False\n",
        "print(is_disarium(75))\n",
        "print(is_disarium(135))\n",
        "print(is_disarium(544))\n",
        "print(is_disarium(518))\n",
        "print(is_disarium(466))\n",
        "print(is_disarium(8))"
      ],
      "metadata": {
        "colab": {
          "base_uri": "https://localhost:8080/"
        },
        "id": "6qQiU5qx1Ge5",
        "outputId": "809b30f1-3836-4903-e547-b61a2d461f08"
      },
      "execution_count": 10,
      "outputs": [
        {
          "output_type": "stream",
          "name": "stdout",
          "text": [
            "False\n",
            "True\n",
            "False\n",
            "True\n",
            "False\n",
            "True\n"
          ]
        }
      ]
    }
  ]
}