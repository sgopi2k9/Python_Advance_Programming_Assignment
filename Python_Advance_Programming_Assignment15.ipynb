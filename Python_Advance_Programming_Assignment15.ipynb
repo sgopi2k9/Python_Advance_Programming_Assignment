{
  "nbformat": 4,
  "nbformat_minor": 0,
  "metadata": {
    "colab": {
      "name": "Python_Advance_Programming_Assignment15.ipynb",
      "provenance": [],
      "collapsed_sections": []
    },
    "kernelspec": {
      "name": "python3",
      "display_name": "Python 3"
    },
    "language_info": {
      "name": "python"
    }
  },
  "cells": [
    {
      "cell_type": "markdown",
      "source": [
        "1.Write a function that returns True if a given name can generate an array of words.\n",
        "\n",
        "Examples\n",
        "\n",
        "anagram(\"Justin Bieber\", [\"injures\", \"ebb\", \"it\"]) ➞ True\n",
        "\n",
        "anagram(\"Natalie Portman\", [\"ornamental\", \"pita\"]) ➞ True\n",
        "\n",
        "anagram(\"Chris Pratt\", [\"chirps\", \"rat\"]) ➞ False\n",
        "Not all letters are used\n",
        "\n",
        "anagram(\"Jeff Goldblum\", [\"jog\", \"meld\", \"bluffs\"]) ➞ False\n",
        "\"s\" does not exist in the original name\n"
      ],
      "metadata": {
        "id": "Ppduhf8lyBwg"
      }
    },
    {
      "cell_type": "code",
      "source": [
        "def anagram(s,l1):\n",
        "  s = s.lower()\n",
        "  x = False\n",
        "  l2=[]\n",
        "  for i in l1:\n",
        "    for j in i:\n",
        "      if j in s:\n",
        "        x = True\n",
        "      else:\n",
        "        x = False\n",
        "        break\n",
        "    l2.append(x)\n",
        "  if False in l2:\n",
        "    return False\n",
        "  else:\n",
        "    return True\n",
        "print(anagram(\"Justin Bieber\", [\"injures\", \"ebb\", \"it\"])) \n",
        "print(anagram(\"Natalie Portman\", [\"ornamental\", \"pita\"]))\n",
        "print(anagram(\"Chris Pratt\", [\"chirps\", \"rat\"]))\n",
        "print(anagram(\"Jeff Goldblum\", [\"jog\", \"meld\", \"bluffs\"]))      "
      ],
      "metadata": {
        "colab": {
          "base_uri": "https://localhost:8080/"
        },
        "id": "PE2auqISyHdu",
        "outputId": "1bb4f1e7-5d20-42cc-b88f-459d5700dfdc"
      },
      "execution_count": 6,
      "outputs": [
        {
          "output_type": "stream",
          "name": "stdout",
          "text": [
            "True\n",
            "True\n",
            "True\n",
            "False\n"
          ]
        }
      ]
    },
    {
      "cell_type": "markdown",
      "source": [
        "2.Given an array of users, each defined by an object with the following properties: name, score, reputation create a function that sorts the array to form the correct leaderboard.\n",
        "\n",
        "The leaderboard takes into consideration the score of each user of course, but an emphasis is put on their reputation in the community, so to get the trueScore, you should add the reputation multiplied by 2 to the score.\n",
        "\n",
        "Once you know the trueScore of each user, sort the array according to it in descending order.\n",
        "\n",
        "Examples\n",
        "\n",
        "leaderboards([\n",
        "  { \"name\": \"a\", \"score\": 100, \"reputation\": 20 },\n",
        "  { \"name\": \"b\", \"score\": 90, \"reputation\": 40 },\n",
        "  { \"name\": \"c\", \"score\": 115, \"reputation\": 30 },\n",
        "]) ➞ [\n",
        "  { \"name\": \"c\", \"score\": 115, \"reputation\": 30 },  # trueScore = 175\n",
        "  { \"name\": \"b\", \"score\": 90, \"reputation\": 40 },   # trueScore = 170\n",
        "  { \"name\": \"a\", \"score\": 100, \"reputation\": 20 }   # trueScore = 140\n",
        "]\n"
      ],
      "metadata": {
        "id": "y2IYDUYe0hf0"
      }
    },
    {
      "cell_type": "code",
      "source": [
        "def leaderboards(l1):\n",
        "  l2 = []\n",
        "  for i in l1:\n",
        "    trueScore = i['score']+2*i['reputation']\n",
        "    i['trueScore'] = trueScore\n",
        "  l2 = sorted(l1, key = lambda k: k['trueScore'],reverse=True)\n",
        "  for j in l2:\n",
        "    j.pop('trueScore')\n",
        "  return l2\n",
        "\n",
        "leaderboards([\n",
        "  { \"name\": \"a\", \"score\": 100, \"reputation\": 20 },\n",
        "  { \"name\": \"b\", \"score\": 90, \"reputation\": 40 },\n",
        "  { \"name\": \"c\", \"score\": 115, \"reputation\": 30 },\n",
        "])"
      ],
      "metadata": {
        "colab": {
          "base_uri": "https://localhost:8080/"
        },
        "id": "uH0Lm2VS0qXR",
        "outputId": "1f12a171-fb6d-4451-9b7b-df1ce1a45547"
      },
      "execution_count": 14,
      "outputs": [
        {
          "output_type": "execute_result",
          "data": {
            "text/plain": [
              "[{'name': 'c', 'reputation': 30, 'score': 115},\n",
              " {'name': 'b', 'reputation': 40, 'score': 90},\n",
              " {'name': 'a', 'reputation': 20, 'score': 100}]"
            ]
          },
          "metadata": {},
          "execution_count": 14
        }
      ]
    },
    {
      "cell_type": "markdown",
      "source": [
        "3. Create a function that, given a phrase and a number of letters guessed, returns a string with hyphens - for every letter of the phrase not guessed, and each letter guessed in place.\n",
        "\n",
        "Examples\n",
        "\n",
        "hangman(\"helicopter\", [\"o\", \"e\", \"s\"]) ➞ \"-e---o--e-\"\n",
        "\n",
        "hangman(\"tree\", [\"r\", \"t\", \"e\"]) ➞ \"tree\"\n",
        "\n",
        "hangman(\"Python rules\", [\"a\", \"n\", \"p\", \"r\", \"z\"]) ➞ \"P----n r----\"\n",
        "\n",
        "hangman(\"He\"s a very naughty boy!\", [\"e\", \"a\", \"y\"]) ➞ \"-e\"- a -e-y -a----y –y!\"\n"
      ],
      "metadata": {
        "id": "Hidd5tQH3-GE"
      }
    },
    {
      "cell_type": "code",
      "source": [
        "def hangman(s,l1):\n",
        "  k = ''\n",
        "  for i in s:\n",
        "    if i.lower() in l1:\n",
        "      k = k+i\n",
        "    else:\n",
        "      k = k+'-'\n",
        "  return k\n",
        "print(hangman(\"helicopter\",['o','e','s']))\n",
        "print(hangman(\"tree\", [\"r\", \"t\", \"e\"]))\n",
        "print(hangman(\"Python rules\", [\"a\", \"n\", \"p\", \"r\", \"z\"]))\n",
        "print(hangman(\"He's a very naughty boy!\", [\"e\", \"a\", \"y\"]))\n",
        "\n"
      ],
      "metadata": {
        "colab": {
          "base_uri": "https://localhost:8080/"
        },
        "id": "cmOxyKTs4Dvi",
        "outputId": "77d7b6b0-c330-4339-b9be-b55a06e8b5e5"
      },
      "execution_count": 17,
      "outputs": [
        {
          "output_type": "stream",
          "name": "stdout",
          "text": [
            "-e---o--e-\n",
            "tree\n",
            "P----n-r----\n",
            "-e---a--e-y--a----y---y-\n"
          ]
        }
      ]
    },
    {
      "cell_type": "markdown",
      "source": [
        "4.The Collatz sequence is as follows:\n",
        "\n",
        "  - Start with some given integer n.\n",
        "  - If it is even, the next number will be n divided by 2.\n",
        "  - If it is odd, multiply it by 3 and add 1 to make the next number.\n",
        "  - The sequence stops when it reaches 1.\n",
        "\n",
        "According to the Collatz conjecture, it will always reach 1. If that's true, you can construct a finite sequence following the aforementioned method for any given integer.\n",
        "\n",
        "Write a function that takes in an integer n and returns the highest integer in the corresponding Collatz sequence.\n",
        "\n",
        "Examples\n",
        "\n",
        "max_collatz(10) ➞ 16\n",
        "Collatz sequence: 10, 5, 16, 8, 4, 2, 1\n",
        "\n",
        "max_collatz(32) ➞ 32\n",
        "Collatz sequence: 32, 16, 8, 4, 2, 1\n",
        "\n",
        "max_collatz(85) ➞ 256\n",
        "Collatz sequence: 85, 256, 128, 64, 32, 16, 8, 4, 2, 1\n"
      ],
      "metadata": {
        "id": "RyZDy6em5tSQ"
      }
    },
    {
      "cell_type": "code",
      "source": [
        "def max_collatz(n):\n",
        "  l2 = []\n",
        "  while(n!=1):\n",
        "    if n%2==0:\n",
        "      n = n//2\n",
        "      l2.append(n)\n",
        "    else:\n",
        "      n = n*3+1\n",
        "      l2.append(n)\n",
        "  return max(l2)\n",
        "\n",
        "print(max_collatz(10))\n",
        "print(max_collatz(32))\n",
        "print(max_collatz(85))"
      ],
      "metadata": {
        "colab": {
          "base_uri": "https://localhost:8080/"
        },
        "id": "PzZ97L3k5zu0",
        "outputId": "6f01e2ce-7c73-4345-fa76-324666ada4c9"
      },
      "execution_count": 21,
      "outputs": [
        {
          "output_type": "stream",
          "name": "stdout",
          "text": [
            "16\n",
            "16\n",
            "256\n"
          ]
        }
      ]
    },
    {
      "cell_type": "markdown",
      "source": [
        "5.Write a function that sorts a list of integers by their digit length in descending order, then settles ties by sorting numbers with the same digit length in ascending order.\n",
        "\n",
        "Examples\n",
        "\n",
        "digit_sort([77, 23, 5, 7, 101])\n",
        "➞ [101, 23, 77, 5, 7]\n",
        "\n",
        "digit_sort([1, 5, 9, 2, 789, 563, 444])\n",
        "➞ [444, 563, 789, 1, 2, 5, 9]\n",
        "\n",
        "digit_sort([53219, 3772, 564, 32, 1])\n",
        "➞ [53219, 3772, 564, 32, 1]\n"
      ],
      "metadata": {
        "id": "_lP34TnTAKXc"
      }
    },
    {
      "cell_type": "code",
      "source": [
        "def digit_sort(in_list):\n",
        "  max_len = len(str(max(in_list)))\n",
        "  output = []\n",
        "  for item in range(max_len,0,-1):\n",
        "      temp = []\n",
        "      for ele in in_list:\n",
        "          if len(str(ele)) == item:\n",
        "              temp.append(ele)\n",
        "      output.extend(sorted(temp))\n",
        "  return (f'digit_sort({in_list}) ➞ {output}')\n",
        "print(digit_sort([77, 23, 5, 7, 101]))\n",
        "print(digit_sort([1, 5, 9, 2, 789, 563, 444]))\n",
        "print(digit_sort([53219, 3772, 564, 32, 1]))"
      ],
      "metadata": {
        "colab": {
          "base_uri": "https://localhost:8080/"
        },
        "id": "wAw8w89SAL8R",
        "outputId": "4f130094-241f-4923-bd22-22d47153509c"
      },
      "execution_count": 28,
      "outputs": [
        {
          "output_type": "stream",
          "name": "stdout",
          "text": [
            "digit_sort([77, 23, 5, 7, 101]) ➞ [101, 23, 77, 5, 7]\n",
            "digit_sort([1, 5, 9, 2, 789, 563, 444]) ➞ [444, 563, 789, 1, 2, 5, 9]\n",
            "digit_sort([53219, 3772, 564, 32, 1]) ➞ [53219, 3772, 564, 32, 1]\n"
          ]
        }
      ]
    }
  ]
}