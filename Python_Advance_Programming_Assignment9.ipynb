{
  "nbformat": 4,
  "nbformat_minor": 0,
  "metadata": {
    "colab": {
      "name": "Python_Advance_Programming_Assignment9.ipynb",
      "provenance": [],
      "collapsed_sections": []
    },
    "kernelspec": {
      "name": "python3",
      "display_name": "Python 3"
    },
    "language_info": {
      "name": "python"
    }
  },
  "cells": [
    {
      "cell_type": "markdown",
      "source": [
        "1.YouTube offers different playback speed options for users. This allows users to increase or decrease the speed of the video content. Given the actual duration and playback speed of the video, calculate the playback duration of the video.\n",
        "\n",
        "Examples\n",
        "\n",
        "playback_duration(\"00:30:00\", 2) ➞ \"00:15:00\"\n",
        "\n",
        "playback_duration(\"01:20:00\", 1.5) ➞ \"00:53:20\"\n",
        "\n",
        "playback_duration(\"51:20:09\", 0.5) ➞ \"102:40:18\"\n"
      ],
      "metadata": {
        "id": "z8HP3F9Mekbx"
      }
    },
    {
      "cell_type": "code",
      "source": [
        "import time\n",
        "def playback_duration(t,sp):\n",
        "  t = t.split(\":\")\n",
        "  h = int(t[0])\n",
        "  m = int(t[1])\n",
        "  s = int(t[2])\n",
        "  total = (h*60*60+m*60+s)/sp\n",
        "  return time.strftime(\"%H:%M:%S\", time.gmtime(total))\n",
        "print(playback_duration(\"00:30:00\",2))\n",
        "print(playback_duration(\"01:20:00\",1.5))\n",
        "print(playback_duration(\"51:20:09\",0.5))\n",
        "\n"
      ],
      "metadata": {
        "colab": {
          "base_uri": "https://localhost:8080/"
        },
        "id": "krpd-F-FmMEz",
        "outputId": "e8d79d34-e258-425e-cfd9-bfb891b2e351"
      },
      "execution_count": null,
      "outputs": [
        {
          "output_type": "stream",
          "name": "stdout",
          "text": [
            "00:15:00\n",
            "00:53:20\n",
            "06:40:18\n"
          ]
        }
      ]
    },
    {
      "cell_type": "markdown",
      "source": [
        "2.We needs your help to construct a building which will be a pile of n cubes. The cube at the bottom will have a volume of n^3, the cube above will have volume of (n-1)^3 and so on until the top which will have a volume of 1^3.\n",
        "\n",
        "Given the total volume m of the building, can you find the number of cubes n required for the building?\n",
        "\n",
        "In other words, you have to return an integer n such that:\n",
        "\n",
        "n^3 + (n-1)^3 + ... + 1^3 == m\n",
        "\n",
        "Return None if there is no such number.\n",
        "\n",
        "Examples\n",
        "\n",
        "pile_of_cubes(1071225) ➞ 45\n",
        "\n",
        "pile_of_cubes(4183059834009) ➞ 2022\n",
        "\n",
        "pile_of_cubes(16) ➞ None\n",
        "\n"
      ],
      "metadata": {
        "id": "hBj-5ec7oyEZ"
      }
    },
    {
      "cell_type": "code",
      "source": [
        "def pile_of_cubes(m):\n",
        "  total = 0\n",
        "  n = 0\n",
        "  while(total<m):\n",
        "    n+=1\n",
        "    total = total+n**3\n",
        "  return n if total == m else None\n",
        "  \n",
        "print(pile_of_cubes(1071225))\n",
        "print(pile_of_cubes(4183059834009))\n",
        "print(pile_of_cubes(16))\n",
        "\n"
      ],
      "metadata": {
        "colab": {
          "base_uri": "https://localhost:8080/"
        },
        "id": "WJrEArzXqx8q",
        "outputId": "efbff8aa-2a6c-40bd-98a8-2d5c769fe800"
      },
      "execution_count": null,
      "outputs": [
        {
          "output_type": "stream",
          "name": "stdout",
          "text": [
            "45\n",
            "2022\n",
            "None\n"
          ]
        }
      ]
    },
    {
      "cell_type": "markdown",
      "source": [
        "3.A fulcrum of a list is an integer such that all elements to the left of it and all elements to the right of it sum to the same value. Write a function that finds the fulcrum of a list.\n",
        "\n",
        "To illustrate:\n",
        "\n",
        "find_fulcrum([3, 1, 5, 2, 4, 6, -1]) ➞ 2\n",
        "// Since [3, 1, 5] and [4, 6, -1] both sum to 9\n",
        "\n",
        "Examples\n",
        "\n",
        "find_fulcrum([1, 2, 4, 9, 10, -10, -9, 3]) ➞ 4\n",
        "\n",
        "find_fulcrum([9, 1, 9]) ➞ 1\n",
        "\n",
        "find_fulcrum([7, -1, 0, -1, 1, 1, 2, 3]) ➞ 0\n",
        "\n",
        "find_fulcrum([8, 8, 8, 8]) ➞ -1\n"
      ],
      "metadata": {
        "id": "wi4-yrKytmy2"
      }
    },
    {
      "cell_type": "code",
      "source": [
        "def find_fulcrum(l1):\n",
        "\n",
        "\tright_sum, left_sum = 0, 0\n",
        "\tfor i in range(1, len(l1)) :\n",
        "\t\tright_sum += l1[i]\n",
        "\ti, j = 0, 1\n",
        "\twhile j < len(l1) :\n",
        "\t\tright_sum -= l1[j]\n",
        "\t\tleft_sum += l1[i]\n",
        "\t\tif left_sum == right_sum :\n",
        "\t\t\treturn l1[i + 1]\n",
        "\n",
        "\t\tj += 1\n",
        "\t\ti += 1\n",
        "\n",
        "\treturn -1\n",
        "\n",
        "\n",
        "\n",
        "print(find_fulcrum([1,2,4,9,10,-10,-9,3]))\n",
        "print(find_fulcrum([9, 1, 9]))\n",
        "print(find_fulcrum([7, -1, 0, -1, 1, 1, 2, 3]))\n",
        "print(find_fulcrum([8, 8, 8, 8]))"
      ],
      "metadata": {
        "colab": {
          "base_uri": "https://localhost:8080/"
        },
        "id": "xMxf3c8JtsBS",
        "outputId": "e1eb7dc4-70ba-4e18-943f-561f1c6f17ff"
      },
      "execution_count": 21,
      "outputs": [
        {
          "output_type": "stream",
          "name": "stdout",
          "text": [
            "4\n",
            "1\n",
            "0\n",
            "-1\n"
          ]
        }
      ]
    },
    {
      "cell_type": "markdown",
      "source": [
        "4.Given a list of integers representing the color of each sock, determine how many pairs of socks with matching colors there are. For example, there are 7 socks with colors [1, 2, 1, 2, 1, 3, 2]. There is one pair of color 1 and one of color 2. There are three odd socks left, one of each color. The number of pairs is 2.\n",
        "\n",
        "Create a function that returns an integer representing the number of matching pairs of socks that are available.\n",
        "\n",
        "Examples\n",
        "\n",
        "sock_merchant([10, 20, 20, 10, 10, 30, 50, 10, 20]) ➞ 3\n",
        "\n",
        "sock_merchant([50, 20, 30, 90, 30, 20, 50, 20, 90]) ➞ 4\n",
        "\n",
        "sock_merchant([]) ➞ 0\n"
      ],
      "metadata": {
        "id": "lch9OJ08u7mq"
      }
    },
    {
      "cell_type": "code",
      "source": [
        "def sock_merchant(l1):\n",
        "  d={}\n",
        "  for i in l1:\n",
        "    if i in d.keys():\n",
        "      d[i]=d[i]+1\n",
        "    else:\n",
        "      d[i]=1\n",
        "  no_pairs=0\n",
        "  for k,v in d.items():\n",
        "    no_pairs = no_pairs+int(v/2)\n",
        "  return no_pairs\n",
        "print(sock_merchant([10, 20, 20, 10, 10, 30, 50, 10, 20]))\n",
        "print(sock_merchant([50, 20, 30, 90, 30, 20, 50, 20, 90]))\n",
        "print(sock_merchant([]))"
      ],
      "metadata": {
        "id": "SQRcAt-Cu9ET",
        "colab": {
          "base_uri": "https://localhost:8080/"
        },
        "outputId": "acce25f8-9c53-4e9e-f005-4d606b302d3a"
      },
      "execution_count": 17,
      "outputs": [
        {
          "output_type": "stream",
          "name": "stdout",
          "text": [
            "3\n",
            "4\n",
            "0\n"
          ]
        }
      ]
    },
    {
      "cell_type": "markdown",
      "source": [
        "5.Create a function that takes a string containing integers as well as other characters and return the sum of the negative integers only.\n",
        "\n",
        "Examples\n",
        "\n",
        "negative_sum(\"-12 13%14&-11\") ➞ -23\n",
        "-12 + -11 = -23\n",
        "\n",
        "negative_sum(\"22 13%14&-11-22 13 12\") ➞ -33\n",
        "-11 + -22 = -33\n"
      ],
      "metadata": {
        "id": "PGMR7qVeu9S6"
      }
    },
    {
      "cell_type": "code",
      "source": [
        "import re\n",
        "def negative_sum(s):\n",
        "  #k = re.findall('(?<!\\d)-\\d+',s)\n",
        "  k = re.findall('[-]?\\d+',s)\n",
        "  s=0\n",
        "  for i in k:\n",
        "    if int(i)<0:\n",
        "      s = s+int(i)\n",
        "  return s\n",
        "print(negative_sum(\"-12 13%14&-11\"))\n",
        "print(negative_sum(\"22 13%14&-11-22 13 12\"))\n",
        "\n",
        "\n",
        "  "
      ],
      "metadata": {
        "id": "HlZTVXbMvCaF",
        "colab": {
          "base_uri": "https://localhost:8080/"
        },
        "outputId": "21d6f7c2-371e-417f-a396-d4e063c87402"
      },
      "execution_count": 13,
      "outputs": [
        {
          "output_type": "stream",
          "name": "stdout",
          "text": [
            "-23\n",
            "-33\n"
          ]
        }
      ]
    }
  ]
}