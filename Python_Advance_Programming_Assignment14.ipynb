{
  "nbformat": 4,
  "nbformat_minor": 0,
  "metadata": {
    "colab": {
      "name": "Python_Advance_Programming_Assignment14.ipynb",
      "provenance": []
    },
    "kernelspec": {
      "name": "python3",
      "display_name": "Python 3"
    },
    "language_info": {
      "name": "python"
    }
  },
  "cells": [
    {
      "cell_type": "markdown",
      "source": [
        "1.Given a list of numbers, create a function that removes 25% from every number in the list except the smallest number, and adds the total amount removed to the smallest number.\n",
        "\n",
        "Examples\n",
        "\n",
        "show_the_love([4, 1, 4]) ➞ [3, 3, 3]\n",
        "\n",
        "show_the_love([16, 10, 8]) ➞ [12, 7.5, 14.5]\n",
        "\n",
        "show_the_love([2, 100]) ➞ [27, 75]\n"
      ],
      "metadata": {
        "id": "f9d5p09P9f9X"
      }
    },
    {
      "cell_type": "code",
      "source": [
        "def show_the_love(l1):\n",
        "  m = min(l1)\n",
        "  c=0\n",
        "  for i in l1:\n",
        "    if i!=m:\n",
        "      c = c + 0.25*i\n",
        "      k = 0.75*i\n",
        "      l1[l1.index(i)]=k\n",
        "  l1[l1.index(m)] = c+m\n",
        "  return l1\n",
        "print(show_the_love([4, 1, 4]))\n",
        "print(show_the_love([16, 10, 8]))\n",
        "print(show_the_love([2,100]))\n"
      ],
      "metadata": {
        "colab": {
          "base_uri": "https://localhost:8080/"
        },
        "id": "F7tcbZX79iXK",
        "outputId": "478aa8f0-7ed7-4a7a-84c5-feda71cf9da7"
      },
      "execution_count": 17,
      "outputs": [
        {
          "output_type": "stream",
          "name": "stdout",
          "text": [
            "[3.0, 3.0, 3.0]\n",
            "[12.0, 7.5, 14.5]\n",
            "[27.0, 75.0]\n"
          ]
        }
      ]
    },
    {
      "cell_type": "markdown",
      "source": [
        "2.Create a function that takes in two words as input and returns a list of three elements, in the following order:\n",
        "\n",
        "   1.Shared letters between two words.\n",
        "   2.Letters unique to word 1.\n",
        "   3.Letters unique to word 2.\n",
        "\n",
        "Each element should have unique letters, and have each letter be alphabetically sorted.\n",
        "\n",
        "Examples\n",
        "\n",
        "letters(\"sharp\", \"soap\") ➞ [\"aps\", \"hr\", \"o\"]\n",
        "\n",
        "letters(\"board\", \"bored\") ➞ [\"bdor\", \"a\", \"e\"]\n",
        "\n",
        "letters(\"happiness\", \"envelope\") ➞ [\"enp\", \"ahis\", \"lov\"]\n",
        "\n",
        "letters(\"kerfuffle\", \"fluffy\") ➞ [\"flu\", \"ekr\", \"y\"]\n",
        "\n",
        "Even with multiple matching letters (e.g. 3 f's), there should \n",
        "\n",
        "only exist a single \"f\" in your first element.\n",
        "\n",
        "letters(\"match\", \"ham\") ➞ [\"ahm\", \"ct\", \"\"]\n",
        "\n",
        "\"ham\" does not contain any letters that are not found already \n",
        "\n",
        "in \"match\".\n"
      ],
      "metadata": {
        "id": "hcaviRJ5BnxE"
      }
    },
    {
      "cell_type": "code",
      "source": [
        "def letters(s1,s2):\n",
        "  s1 = list(s1)\n",
        "  s2 = list(s2)\n",
        "  unique_word1 = set([x for x in s1 if x not in s2])\n",
        "  unique_word2 = set([x for x in s2 if x not in s1])\n",
        "  shared_word = set([x for x in s1 if x in s2])\n",
        "\n",
        "  unique_word1 = list(unique_word1)\n",
        "  unique_word2 = list(unique_word2)\n",
        "  shared_word = list(shared_word)\n",
        "\n",
        "  unique_word1.sort()\n",
        "  unique_word2.sort()\n",
        "  shared_word.sort()\n",
        "  return \"\".join(shared_word),\"\".join(unique_word1),\"\".join(unique_word2)\n",
        "print(letters(\"sharp\", \"soap\"))\n",
        "print(letters(\"board\", \"bored\"))\n",
        "print(letters(\"happiness\", \"envelope\"))\n",
        "print(letters(\"kerfuffle\", \"fluffy\"))\n",
        "print(letters(\"match\", \"ham\"))"
      ],
      "metadata": {
        "colab": {
          "base_uri": "https://localhost:8080/"
        },
        "id": "HqP22cJsBvw8",
        "outputId": "1f7e0b77-e766-417a-bb03-5f83fb9c7a67"
      },
      "execution_count": 29,
      "outputs": [
        {
          "output_type": "stream",
          "name": "stdout",
          "text": [
            "('aps', 'hr', 'o')\n",
            "('bdor', 'a', 'e')\n",
            "('enp', 'ahis', 'lov')\n",
            "('flu', 'ekr', 'y')\n",
            "('ahm', 'ct', '')\n"
          ]
        }
      ]
    },
    {
      "cell_type": "markdown",
      "source": [
        "3.Write a function that pairs the first number in an array with the last, the second number with the second to last, etc.\n",
        "\n",
        "Examples\n",
        "\n",
        "pairs([1, 2, 3, 4, 5, 6, 7]) ➞ [[1, 7], [2, 6], [3, 5], [4, 4]]\n",
        "\n",
        "pairs([1, 2, 3, 4, 5, 6]) ➞ [[1, 6], [2, 5], [3, 4]]\n",
        "\n",
        "pairs([5, 9, 8, 1, 2]) ➞ [[5, 2], [9, 1], [8, 8]]\n",
        "\n",
        "pairs([]) ➞ []\n"
      ],
      "metadata": {
        "id": "DFW9RESNGDhz"
      }
    },
    {
      "cell_type": "code",
      "source": [
        "def pairs(l1):\n",
        "  l2=[]\n",
        "  for i in range(0,len(l1)-1):\n",
        "    if i!=len(l1)//2 +1:\n",
        "      l2.append([l1[i],l1[len(l1)-1-i]])\n",
        "    else:\n",
        "      break\n",
        "  return l2\n",
        "\n",
        "print(pairs([1, 2, 3, 4, 5, 6, 7]))\n",
        "print(pairs([1, 2, 3, 4, 5, 6]))\n",
        "print(pairs([5, 9, 8, 1, 2]))\n",
        "print([])"
      ],
      "metadata": {
        "colab": {
          "base_uri": "https://localhost:8080/"
        },
        "id": "DoQCkHfcGIHt",
        "outputId": "a0ea7d53-3b03-4c61-acf1-cf9d93268348"
      },
      "execution_count": 38,
      "outputs": [
        {
          "output_type": "stream",
          "name": "stdout",
          "text": [
            "[[1, 7], [2, 6], [3, 5], [4, 4]]\n",
            "[[1, 6], [2, 5], [3, 4], [4, 3]]\n",
            "[[5, 2], [9, 1], [8, 8]]\n",
            "[]\n"
          ]
        }
      ]
    },
    {
      "cell_type": "markdown",
      "source": [
        "4.Write a function that adds two numbers. The catch, however, is that the numbers will be strings.\n",
        "\n",
        "Examples\n",
        "\n",
        "add_str_nums(\"4\", \"5\") ➞ \"9\"\n",
        "\n",
        "add_str_nums(\"abcdefg\", \"3\") ➞ \"-1\"\n",
        "\n",
        "add_str_nums(\"1\", \"\") ➞ \"1\"\n",
        "\n",
        "add_str_nums(\"1874682736267235927359283579235789257\", \"32652983572985729\") ➞ \"1874682736267235927391936562808774986\"\n"
      ],
      "metadata": {
        "id": "mGOgetXVHw6J"
      }
    },
    {
      "cell_type": "code",
      "source": [
        "def add_str_nums(in_one,in_two):\n",
        "    in_one = in_one if len(in_one) > 0 else \"0\"\n",
        "    in_two = in_two if len(in_two) > 0 else \"0\"\n",
        "    if in_one.isdigit() == False or in_two.isdigit() == False:\n",
        "        output = -1\n",
        "    else: \n",
        "        output = int(in_one)+int(in_two)\n",
        "    return output\n",
        "print(add_str_nums(\"4\", \"5\"))\n",
        "print(add_str_nums(\"abcdefg\", \"3\"))\n",
        "print(add_str_nums(\"1\", \"\"))\n",
        "print(add_str_nums(\"1874682736267235927359283579235789257\", \"32652983572985729\"))"
      ],
      "metadata": {
        "colab": {
          "base_uri": "https://localhost:8080/"
        },
        "id": "m6D90zckHyYK",
        "outputId": "8e57ab5e-e611-460a-d451-ff098f3c2089"
      },
      "execution_count": 40,
      "outputs": [
        {
          "output_type": "stream",
          "name": "stdout",
          "text": [
            "9\n",
            "-1\n",
            "1\n",
            "1874682736267235927391936562808774986\n"
          ]
        }
      ]
    },
    {
      "cell_type": "markdown",
      "source": [
        "5.lPaeesh le pemu mnxit ehess rtnisg! Oh, sorry, that was supposed to say: Please help me unmix these strings!\n",
        "\n",
        "Somehow my strings have all become mixed up; every pair of characters has been swapped. Help me undo this so I can understand my strings again.\n",
        "\n",
        "Examples\n",
        "\n",
        "unmix(\"123456\") ➞ \"214365\"\n",
        "\n",
        "unmix(\"hTsii  s aimex dpus rtni.g\") ➞ \"This is a mixed up string.\"\n",
        "\n",
        "unmix(\"badce\") ➞ \"abcde\"\n"
      ],
      "metadata": {
        "id": "EK3ruwrsJboQ"
      }
    },
    {
      "cell_type": "code",
      "source": [
        "def unmix(s1):\n",
        "  s = ''\n",
        "  for i in range(0,len(s1)-1,2):\n",
        "        s += s1[i+1]+s1[i]\n",
        "        if (len(s1)%2 != 0 and i == len(s1)//2 ):\n",
        "            s += s1[-1] \n",
        "\n",
        "  return s\n",
        "print(unmix(\"123456\"))\n",
        "print(unmix(\"hTsii  s aimex dpus rtni.g\"))\n",
        "print(unmix(\"badce\"))"
      ],
      "metadata": {
        "colab": {
          "base_uri": "https://localhost:8080/"
        },
        "id": "A2N2EKXBJgx3",
        "outputId": "f0ea1ae0-8268-477c-dca8-c4cc243ec049"
      },
      "execution_count": 57,
      "outputs": [
        {
          "output_type": "stream",
          "name": "stdout",
          "text": [
            "214365\n",
            "This is a mixed up string.\n",
            "abcde\n"
          ]
        }
      ]
    }
  ]
}