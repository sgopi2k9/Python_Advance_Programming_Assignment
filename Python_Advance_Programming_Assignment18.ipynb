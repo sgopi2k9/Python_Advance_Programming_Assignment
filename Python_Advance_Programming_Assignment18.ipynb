{
  "nbformat": 4,
  "nbformat_minor": 0,
  "metadata": {
    "colab": {
      "name": "Python_Advance_Programming_Assignment18.ipynb",
      "provenance": []
    },
    "kernelspec": {
      "name": "python3",
      "display_name": "Python 3"
    },
    "language_info": {
      "name": "python"
    }
  },
  "cells": [
    {
      "cell_type": "markdown",
      "source": [
        "1. A robot has been given a list of movement instructions. Each instruction is either left, right, up or down, followed by a distance to move. The robot starts at [0, 0]. You want to calculate where the robot will end up and return its final position as a list.\n",
        "\n",
        "To illustrate, if the robot is given the following instructions:\n",
        "\n",
        "[\"right 10\", \"up 50\", \"left 30\", \"down 10\"]\n",
        "\n",
        "It will end up 20 left and 40 up from where it started, so we return [-20, 40].\n",
        "\n",
        "Examples\n",
        "\n",
        "track_robot([\"right 10\", \"up 50\", \"left 30\", \"down 10\"]) ➞ [-20, 40]\n",
        "\n",
        "track_robot([]) ➞ [0, 0]\n",
        "// If there are no instructions, the robot doesn't move.\n",
        "\n",
        "track_robot([\"right 100\", \"right 100\", \"up 500\", \"up 10000\"]) ➞ [200, 10500]\n"
      ],
      "metadata": {
        "id": "GSSs661ZXYTC"
      }
    },
    {
      "cell_type": "code",
      "source": [
        "def track_robot(in_list):\n",
        "    output = [0,0]\n",
        "    for ele in in_list:\n",
        "        ele = ele.split(\" \")\n",
        "        if ele[0] in ['right','left']:\n",
        "            output[0] = output[0]-int(ele[1]) if ele[0] == 'left' else output[0]+int(ele[1])\n",
        "        else:\n",
        "            output[1] = output[1]-int(ele[1]) if ele[0] == 'down' else output[1]+int(ele[1])\n",
        "    print(f'track_robot({in_list}) ➞ {output}')\n",
        "        \n",
        "track_robot([\"right 10\", \"up 50\", \"left 30\", \"down 10\"])\n",
        "track_robot([])\n",
        "track_robot([\"right 100\", \"right 100\", \"up 500\", \"up 10000\"])"
      ],
      "metadata": {
        "id": "0L0DUV0nXmmI",
        "colab": {
          "base_uri": "https://localhost:8080/"
        },
        "outputId": "f7efceaf-c592-4b46-985f-9a7b0cccc2c1"
      },
      "execution_count": 33,
      "outputs": [
        {
          "output_type": "stream",
          "name": "stdout",
          "text": [
            "track_robot(['right 10', 'up 50', 'left 30', 'down 10']) ➞ [-20, 40]\n",
            "track_robot([]) ➞ [0, 0]\n",
            "track_robot(['right 100', 'right 100', 'up 500', 'up 10000']) ➞ [200, 10500]\n"
          ]
        }
      ]
    },
    {
      "cell_type": "markdown",
      "source": [
        "2.Write a function that will return the longest word in a sentence. In cases where more than one word is found, return the first one.\n",
        "\n",
        "Examples\n",
        "\n",
        "find_longest(\"A thing of beauty is a joy forever.\") ➞ \"forever\"\n",
        "\n",
        "find_longest(\"Forgetfulness is by all means powerless!\") ➞ \"forgetfulness\"\n",
        "\n",
        "find_longest(\"\\\"Strengths\\\" is the longest and most commonly used word that contains only a single vowel.\") ➞ \"strengths\"\n"
      ],
      "metadata": {
        "id": "ZJgr8-7zXm9L"
      }
    },
    {
      "cell_type": "code",
      "source": [
        "def find_longest(s):\n",
        "  s = s.split(\" \")\n",
        "  l1 = [len(x) for x in s]\n",
        "  max_l1 = max(l1)\n",
        "  for i in s:\n",
        "    if len(i) == max_l1:\n",
        "      return i\n",
        "print(find_longest(\"A thing of beauty is a joy forever.\"))\n",
        "print(find_longest(\"Forgetfulness is by all means powerless!\"))\n",
        "print(find_longest(\"'Strengths' is the longest and most commonly used word that contains only a single vowel.\"))"
      ],
      "metadata": {
        "colab": {
          "base_uri": "https://localhost:8080/"
        },
        "id": "9cSPFGuxXoK4",
        "outputId": "aff4984d-1a46-49ad-90e9-7d61d4785b38"
      },
      "execution_count": null,
      "outputs": [
        {
          "output_type": "stream",
          "name": "stdout",
          "text": [
            "forever.\n",
            "Forgetfulness\n",
            "'Strengths'\n"
          ]
        }
      ]
    },
    {
      "cell_type": "markdown",
      "source": [
        "3.Create a function to check if a candidate is qualified in an imaginary coding interview of an imaginary tech startup.\n",
        "\n",
        "The criteria for a candidate to be qualified in the coding interview is:\n",
        "\n",
        "   1. The candidate should have complete all the questions.\n",
        "   2. The maximum time given to complete the interview is 120 minutes.\n",
        "   3. The maximum time given for very easy questions is 5 minutes each.\n",
        "   4. The maximum time given for easy questions is 10 minutes each.\n",
        "   5. The maximum time given for medium questions is 15 minutes each.\n",
        "   6. The maximum time given for hard questions is 20 minutes each.\n",
        "\n",
        "If all the above conditions are satisfied, return \"qualified\", else return \"disqualified\".\n",
        "\n",
        "You will be given a list of time taken by a candidate to solve a particular question and the total time taken by the candidate to complete the interview.\n",
        "\n",
        "Given a list , in a true condition will always be in the format [very easy, very easy, easy, easy, medium, medium, hard, hard].\n",
        "\n",
        "The maximum time to complete the interview includes a buffer time of 20 minutes.\n",
        "\n",
        "Examples\n",
        "\n",
        "interview([5, 5, 10, 10, 15, 15, 20, 20], 120) ➞ \"qualified\"\n",
        "\n",
        "interview([2, 3, 8, 6, 5, 12, 10, 18], 64) ➞  \"qualified\"\n",
        "\n",
        "interview([5, 5, 10, 10, 25, 15, 20, 20], 120) ➞ \"disqualified\"\n",
        "Exceeded the time limit for a medium question.\n",
        "\n",
        "interview([5, 5, 10, 10, 15, 15, 20], 120) ➞ \"disqualified\"\n",
        "Did not complete all the questions.\n",
        "\n",
        "interview([5, 5, 10, 10, 15, 15, 20, 20], 130) ➞ \"disqualified\"\n",
        "Solved all the questions in their respected time limits but exceeded the total time limit of the interview.\n"
      ],
      "metadata": {
        "id": "c-G1RiYFY0bn"
      }
    },
    {
      "cell_type": "code",
      "source": [
        "def interview(l1,t):\n",
        "  no_of_questions = len(l1)\n",
        "  if no_of_questions == 8:\n",
        "    if t<=120:\n",
        "      if l1[0]<=5 and l1[1]<=5 and l1[2]<=10 and l1[3]<=10 and l1[4]<=15 and l1[5]<=15 and l1[6]<=20 and l1[7]<=20:\n",
        "        return \"qualified\"\n",
        "      else:\n",
        "        return \"disqualified\"\n",
        "    else:\n",
        "      return \"disqualified\"\n",
        "  else:\n",
        "    return \"disqualified\"\n",
        "print(interview([5, 5, 10, 10, 15, 15, 20, 20], 120))\n",
        "print(interview([2, 3, 8, 6, 5, 12, 10, 18], 64))\n",
        "print(interview([5, 5, 10, 10, 25, 15, 20, 20], 120))\n",
        "print(interview([5, 5, 10, 10, 15, 15, 20], 120))\n",
        "print(interview([5, 5, 10, 10, 15, 15, 20, 20], 130))"
      ],
      "metadata": {
        "colab": {
          "base_uri": "https://localhost:8080/"
        },
        "id": "jdMtywgAY9aP",
        "outputId": "d19538b9-a246-4974-ea33-35124839fc1b"
      },
      "execution_count": null,
      "outputs": [
        {
          "output_type": "stream",
          "name": "stdout",
          "text": [
            "qualified\n",
            "qualified\n",
            "disqualified\n",
            "disqualified\n",
            "disqualified\n"
          ]
        }
      ]
    },
    {
      "cell_type": "markdown",
      "source": [
        "4. Write a function that divides a list into chunks of size n, where n is the length of each chunk.\n",
        "\n",
        "Examples\n",
        "\n",
        "chunkify([2, 3, 4, 5], 2) ➞ [[2, 3], [4, 5]]\n",
        "\n",
        "chunkify([2, 3, 4, 5, 6], 2) ➞ [[2, 3], [4, 5], [6]]\n",
        "\n",
        "chunkify([2, 3, 4, 5, 6, 7], 3) ➞ [[2, 3, 4], [5, 6, 7]]\n",
        "\n",
        "chunkify([2, 3, 4, 5, 6, 7], 1) ➞ [[2], [3], [4], [5], [6], [7]]\n",
        "\n",
        "chunkify([2, 3, 4, 5, 6, 7], 7) ➞ [[2, 3, 4, 5, 6, 7]]\n"
      ],
      "metadata": {
        "id": "TmgolyHxdsrP"
      }
    },
    {
      "cell_type": "code",
      "source": [
        "def chunkify(l1,size):\n",
        "  l2=[]\n",
        "  for i in range(0,len(l1),size):\n",
        "    l2.append(l1[i:i+size])   \n",
        "  return(l2)\n",
        "print(chunkify([2, 3, 4, 5], 2))\n",
        "print(chunkify([2, 3, 4, 5, 6], 2))\n",
        "print(chunkify([2, 3, 4, 5, 6, 7], 3))\n",
        "print(chunkify([2, 3, 4, 5, 6, 7], 1))\n",
        "print(chunkify([2, 3, 4, 5, 6, 7], 7))\n",
        "\n",
        "  "
      ],
      "metadata": {
        "id": "hxRd4Sv9dy1S",
        "colab": {
          "base_uri": "https://localhost:8080/"
        },
        "outputId": "fdd77fba-5f66-4d25-9e9d-c5ff92fd7435"
      },
      "execution_count": 32,
      "outputs": [
        {
          "output_type": "stream",
          "name": "stdout",
          "text": [
            "[[2, 3], [4, 5]]\n",
            "[[2, 3], [4, 5], [6]]\n",
            "[[2, 3, 4], [5, 6, 7]]\n",
            "[[2], [3], [4], [5], [6], [7]]\n",
            "[[2, 3, 4, 5, 6, 7]]\n"
          ]
        }
      ]
    },
    {
      "cell_type": "markdown",
      "source": [
        "5.You are given a list of strings consisting of grocery items, with prices in parentheses. Return a list of prices in float format.\n",
        "\n",
        "Examples\n",
        "\n",
        "get_prices([\"salad ($4.99)\"]) ➞ [4.99]\n",
        "\n",
        "get_prices([\n",
        "  \"artichokes ($1.99)\",\n",
        "  \"rotiserrie chicken ($5.99)\",\n",
        "  \"gum ($0.75)\"\n",
        "])\n",
        "\n",
        "➞ [1.99, 5.99, 0.75]\n",
        "\n",
        "get_prices([\n",
        "  \"ice cream ($5.99)\",\n",
        "  \"banana ($0.20)\",\n",
        "  \"sandwich ($8.50)\",\n",
        "  \"soup ($1.99)\"\n",
        "])\n",
        "\n",
        "➞ [5.99, 0.2, 8.50, 1.99]\n"
      ],
      "metadata": {
        "id": "tZXJXckUMBGN"
      }
    },
    {
      "cell_type": "code",
      "source": [
        "import re"
      ],
      "metadata": {
        "id": "EzwnohbVM0dw"
      },
      "execution_count": 2,
      "outputs": []
    },
    {
      "cell_type": "code",
      "source": [
        "def get_prices(l1):\n",
        "  l2=[]\n",
        "  for i in l1:\n",
        "    l2.append(re.findall(r\"\\d.\\d+\",i))\n",
        "  return l2\n",
        "print(get_prices([\"salad ($4.99)\"]))\n",
        "print(get_prices([\n",
        "  \"artichokes ($1.99)\",\n",
        "  \"rotiserrie chicken ($5.99)\",\n",
        "  \"gum ($0.75)\"\n",
        "])\n",
        ")\n",
        "print(get_prices([\n",
        "  \"ice cream ($5.99)\",\n",
        "  \"banana ($0.20)\",\n",
        "  \"sandwich ($8.50)\",\n",
        "  \"soup ($1.99)\"\n",
        "])\n",
        ")"
      ],
      "metadata": {
        "colab": {
          "base_uri": "https://localhost:8080/"
        },
        "id": "fGjfevByMDaq",
        "outputId": "d3bcbe32-06c4-42df-c22a-988f706c0c1c"
      },
      "execution_count": 9,
      "outputs": [
        {
          "output_type": "stream",
          "name": "stdout",
          "text": [
            "[['4.99']]\n",
            "[['1.99'], ['5.99'], ['0.75']]\n",
            "[['5.99'], ['0.20'], ['8.50'], ['1.99']]\n"
          ]
        }
      ]
    }
  ]
}