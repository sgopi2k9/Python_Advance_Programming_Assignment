{
  "nbformat": 4,
  "nbformat_minor": 0,
  "metadata": {
    "colab": {
      "name": "Python_Advance_Programming_Assignment12.ipynb",
      "provenance": [],
      "collapsed_sections": []
    },
    "kernelspec": {
      "name": "python3",
      "display_name": "Python 3"
    },
    "language_info": {
      "name": "python"
    }
  },
  "cells": [
    {
      "cell_type": "markdown",
      "source": [
        "1.For this challenge, forget how to add two numbers together. The best\n",
        "explanation on what to do for this function is this meme:\n",
        "\n",
        "Examples\n",
        "\n",
        "meme_sum(26, 39) ➞ 515\n",
        "\n",
        "2+3 = 5, 6+9 = 15\n",
        "\n",
        "26 + 39 = 515\n",
        "\n",
        "meme_sum(122, 81) ➞ 1103\n",
        "\n",
        "1+0 = 1, 2+8 = 10, 2+1 = 3\n",
        "\n",
        "122 + 81 = 1103\n",
        "\n",
        "meme_sum(1222, 30277) ➞ 31499\n"
      ],
      "metadata": {
        "id": "0hT-wO6hXV7g"
      }
    },
    {
      "cell_type": "code",
      "source": [
        "def meme_sum(n1,n2):\n",
        "  n1 = str(n1)\n",
        "  n2 = str(n2)\n",
        "  m = max(len(n1),len(n2))\n",
        "  n1 = n1.rjust(m,'0')\n",
        "  n2 = n2.rjust(m,'0')\n",
        "  l1 = list(n1)\n",
        "  l2 = list(n2)\n",
        "  s=''\n",
        "  for i in range(0,m):\n",
        "    s = s+str(int(l1[i])+int(l2[i]))\n",
        "  return s\n",
        "print(meme_sum(122,81))\n",
        "print(meme_sum(26,39))\n",
        "print(meme_sum(1222,30277))"
      ],
      "metadata": {
        "colab": {
          "base_uri": "https://localhost:8080/"
        },
        "id": "CtLj4qh4XfUJ",
        "outputId": "bb28fb91-ccc0-45f3-cf57-92c464d884f2"
      },
      "execution_count": 7,
      "outputs": [
        {
          "output_type": "stream",
          "name": "stdout",
          "text": [
            "1103\n",
            "515\n",
            "31499\n"
          ]
        }
      ]
    },
    {
      "cell_type": "markdown",
      "source": [
        "2.Given an integer, create a function that returns the next prime. If the number is prime, return the number itself.\n",
        "\n",
        "Examples\n",
        "\n",
        "next_prime(12) ➞ 13\n",
        "\n",
        "next_prime(24) ➞ 29\n",
        "\n",
        "next_prime(11) ➞ 11\n",
        "\n",
        "11 is a prime, so we return the number itself.\n"
      ],
      "metadata": {
        "id": "avNPkvGYZn7W"
      }
    },
    {
      "cell_type": "code",
      "source": [
        "def next_prime(in_num):\n",
        "    in_num_clone = in_num\n",
        "    while True:\n",
        "        if (in_num-1)%6 == 0 or (in_num+1)%6 ==0 :\n",
        "            temp = in_num\n",
        "            for ele in range(3,in_num+1):\n",
        "                if in_num%ele == 0 and ele != in_num:\n",
        "                    in_num = in_num+1\n",
        "                    break\n",
        "            if temp == in_num:\n",
        "                break\n",
        "        else:\n",
        "            in_num += 1\n",
        "    \n",
        "    print(f'next_prime({in_num_clone}) ➞ {in_num}')\n",
        "\n",
        "\n",
        "next_prime(12)\n",
        "next_prime(24)\n",
        "next_prime(11)\n"
      ],
      "metadata": {
        "colab": {
          "base_uri": "https://localhost:8080/"
        },
        "id": "Q5Z9laVBZ4m9",
        "outputId": "60fa0c04-5daa-48c1-ad37-b11ca6977e52"
      },
      "execution_count": 18,
      "outputs": [
        {
          "output_type": "stream",
          "name": "stdout",
          "text": [
            "next_prime(12) ➞ 13\n",
            "next_prime(24) ➞ 29\n",
            "next_prime(11) ➞ 11\n"
          ]
        }
      ]
    },
    {
      "cell_type": "markdown",
      "source": [
        "3.If a person traveled up a hill for 18mins at 20mph and then traveled back down the same path at 60mph then their average speed traveled was 30mph.\n",
        "\n",
        "Write a function that returns the average speed traveled given an uphill time, uphill rate and a downhill rate. Uphill time is given in minutes. Return the rate as an integer (mph). No rounding is necessary.\n",
        "\n",
        "Examples\n",
        "\n",
        "ave_spd(18, 20, 60) ➞ 30\n",
        "\n",
        "ave_spd(30, 10, 30) ➞ 15\n",
        "\n",
        "ave_spd(30, 8, 24) ➞ 12\n"
      ],
      "metadata": {
        "id": "hxvSTxhVgUtG"
      }
    },
    {
      "cell_type": "code",
      "source": [
        "def ave_spd(ut,us,ds):\n",
        "  d = us*(ut/60)\n",
        "  dt = d/ds\n",
        "  output = (2*d)/((ut/60)+dt)\n",
        "  return output\n",
        "\n",
        "print(ave_spd(18,20,60))\n",
        "print(ave_spd(30,10,30))\n",
        "print(ave_spd(30,8,24))"
      ],
      "metadata": {
        "colab": {
          "base_uri": "https://localhost:8080/"
        },
        "id": "0w5-zwsNgb_w",
        "outputId": "b1480c66-58ff-4556-fe31-cb69defc69fe"
      },
      "execution_count": 22,
      "outputs": [
        {
          "output_type": "stream",
          "name": "stdout",
          "text": [
            "30.0\n",
            "15.0\n",
            "12.0\n"
          ]
        }
      ]
    },
    {
      "cell_type": "markdown",
      "source": [
        "4. The Kempner Function, applied to a composite number, permits to find the smallest integer greater than zero whose factorial is exactly divided by the number.\n",
        "\n",
        "kempner(6) ➞ 3\n",
        "\n",
        "1! = 1 % 6 > 0\n",
        "\n",
        "2! = 2 % 6 > 0\n",
        "\n",
        "3! = 6 % 6 === 0\n",
        "\n",
        "kempner(10) ➞ 5\n",
        "\n",
        "1! = 1 % 10 > 0\n",
        "\n",
        "2! = 2 % 10 > 0\n",
        "\n",
        "3! = 6 % 10 > 0\n",
        "\n",
        "4! = 24 % 10 > 0\n",
        "\n",
        "5! = 120 % 10 === 0\n",
        "\n",
        "A Kempner Function applied to a prime will always return the prime itself.\n",
        "\n",
        "kempner(2) ➞ 2\n",
        "\n",
        "kempner(5) ➞ 5\n",
        "\n",
        "Given an integer n, implement a Kempner Function.\n",
        "\n",
        "Examples\n",
        "\n",
        "kempner(6) ➞ 3\n",
        "\n",
        "kempner(10) ➞ 5\n",
        "\n",
        "kempner(2) ➞ 2\n"
      ],
      "metadata": {
        "id": "GhuDkaqpkKr2"
      }
    },
    {
      "cell_type": "code",
      "source": [
        "def fact(k):\n",
        "  if k == 1:\n",
        "    return 1\n",
        "  else:\n",
        "    return k*fact(k-1)\n",
        "def kempner(n):\n",
        "  for i in range(1,n+1):\n",
        "    if fact(i)%n==0:\n",
        "      return i\n",
        "    #else:\n",
        "    #  return n\n",
        "\n",
        "print(kempner(6))\n",
        "print(kempner(10))\n",
        "print(kempner(2))\n",
        "    \n"
      ],
      "metadata": {
        "colab": {
          "base_uri": "https://localhost:8080/"
        },
        "id": "Dk5UblXukUEs",
        "outputId": "279a790d-5108-40bf-c9fa-775ac3bc1b58"
      },
      "execution_count": 31,
      "outputs": [
        {
          "output_type": "stream",
          "name": "stdout",
          "text": [
            "3\n",
            "5\n",
            "2\n"
          ]
        }
      ]
    },
    {
      "cell_type": "markdown",
      "source": [
        "5.You work in a factory, and your job is to take items from a conveyor belt and pack them into boxes. Each box can hold a maximum of 10 kgs. Given a list containing the weight (in kg) of each item, how many boxes would you need to pack all of the items?\n",
        "\n",
        "Example\n",
        "\n",
        "boxes([2, 1, 2, 5, 4, 3, 6, 1, 1, 9, 3, 2]) ➞ 5\n",
        "\n",
        "Box 1 = [2, 1, 2, 5] (10kg)\n",
        "\n",
        "Box 2 = [4, 3] (7kg)\n",
        "\n",
        "Box 3 = [6, 1, 1] (8kg)\n",
        "\n",
        "Box 4 = [9] (9kg)\n",
        "\n",
        "Box 5 = [3, 2] (5kg)\n"
      ],
      "metadata": {
        "id": "_kEbzbCkolox"
      }
    },
    {
      "cell_type": "code",
      "source": [
        "def boxes(in_list):\n",
        "    in_list_clone = in_list.copy()\n",
        "    output = []\n",
        "    temp_box = []\n",
        "    while True:\n",
        "        if len(in_list) != 0:\n",
        "            if sum(temp_box) <= 10:\n",
        "                temp_box.append(in_list.pop(0))\n",
        "            else:\n",
        "                in_list.insert(0,temp_box.pop())\n",
        "                output.append(temp_box)\n",
        "                temp_box = []\n",
        "        else:\n",
        "            output.append(temp_box)\n",
        "            temp_box = []\n",
        "            break\n",
        "    return len(output)\n",
        "\n",
        "print(boxes([2, 1, 2, 5, 4, 3, 6, 1, 1, 9, 3, 2]))\n",
        "\n"
      ],
      "metadata": {
        "colab": {
          "base_uri": "https://localhost:8080/"
        },
        "id": "VpPAedT7pReM",
        "outputId": "f723037a-2187-4a06-c7c2-8caf31feb7ab"
      },
      "execution_count": 33,
      "outputs": [
        {
          "output_type": "stream",
          "name": "stdout",
          "text": [
            "5\n"
          ]
        }
      ]
    }
  ]
}