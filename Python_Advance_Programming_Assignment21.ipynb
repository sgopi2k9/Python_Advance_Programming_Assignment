{
  "nbformat": 4,
  "nbformat_minor": 0,
  "metadata": {
    "colab": {
      "name": "Python_Advance_Programming_Assignment21.ipynb",
      "provenance": []
    },
    "kernelspec": {
      "name": "python3",
      "display_name": "Python 3"
    },
    "language_info": {
      "name": "python"
    }
  },
  "cells": [
    {
      "cell_type": "markdown",
      "source": [
        "1.Given a sentence, return the number of words which have the same first and last letter.\n",
        "\n",
        "Examples\n",
        "\n",
        "count_same_ends(\"Pop! goes the balloon\") ➞ 1\n",
        "\n",
        "count_same_ends(\"And the crowd goes wild!\") ➞ 0\n",
        "\n",
        "count_same_ends(\"No I am not in a gang.\") ➞ 1\n",
        "\n"
      ],
      "metadata": {
        "id": "04Dj5gtBkPKW"
      }
    },
    {
      "cell_type": "code",
      "source": [
        "import re\n",
        "def count_same_ends(s):\n",
        "  s = re.sub('[^A-Za-z0-9\\\\s]+', '', s)\n",
        "  s = s.split(\" \")\n",
        "  count = 0\n",
        "  for i in s:\n",
        "    if len(i)>1:\n",
        "      if i[0].lower() == i[-1].lower():\n",
        "        count+=1\n",
        "  return count\n",
        "\n",
        "print(count_same_ends(\"Pop! goes the balloon\"))\n",
        "print(count_same_ends(\"And the crowd goes wild!\"))\n",
        "print(count_same_ends(\"No I am not in a gang.\"))\n"
      ],
      "metadata": {
        "colab": {
          "base_uri": "https://localhost:8080/"
        },
        "id": "eExMWX3wkSSN",
        "outputId": "d8227965-9120-4146-ab42-0ec776d01059"
      },
      "execution_count": 7,
      "outputs": [
        {
          "output_type": "stream",
          "name": "stdout",
          "text": [
            "1\n",
            "0\n",
            "1\n"
          ]
        }
      ]
    },
    {
      "cell_type": "markdown",
      "source": [
        "2.The Atbash cipher is an encryption method in which each letter of a word is replaced with its \"mirror\" letter in the alphabet: A <=> Z; B <=> Y; C <=> X; etc.\n",
        "\n",
        "Create a function that takes a string and applies the Atbash cipher to it.\n",
        "\n",
        "Examples\n",
        "\n",
        "atbash(\"apple\") ➞ \"zkkov\"\n",
        "\n",
        "atbash(\"Hello world!\") ➞ \"Svool dliow!\"\n",
        "\n",
        "atbash(\"Christmas is the 25th of December\") ➞ \"Xsirhgnzh rh gsv 25gs lu Wvxvnyvi\"\n"
      ],
      "metadata": {
        "id": "apg56LJNl3WK"
      }
    },
    {
      "cell_type": "code",
      "source": [
        "def atbash(s):\n",
        "  result = ''\n",
        "  for i in s:\n",
        "    if i.islower() and i !=\" \":\n",
        "      k = ord(i)-97\n",
        "      result = result+chr(122-k)\n",
        "    elif i.isupper() and i != \" \":\n",
        "      k = ord(i)-65\n",
        "      result = result+chr(90-k)\n",
        "    elif ord(i) not in range(65,91):\n",
        "      result = result+i\n",
        "    elif ord(i) not in range(97,123):\n",
        "      result = result+i\n",
        "  return result\n",
        "print(atbash(\"apple\"))\n",
        "print(atbash(\"Hello world!\"))\n",
        "print(atbash(\"Christmas is the 25th of December\"))"
      ],
      "metadata": {
        "colab": {
          "base_uri": "https://localhost:8080/"
        },
        "id": "s1IXapiumq9j",
        "outputId": "923dfb94-a30c-47ac-da64-271121f6bb1b"
      },
      "execution_count": 20,
      "outputs": [
        {
          "output_type": "stream",
          "name": "stdout",
          "text": [
            "zkkov\n",
            "Svool dliow!\n",
            "Xsirhgnzh rh gsv 25gs lu Wvxvnyvi\n"
          ]
        }
      ]
    },
    {
      "cell_type": "markdown",
      "source": [
        "3.Create a class Employee that will take a full name as argument, as well as a set of none, one or more keywords. Each instance should have a name and a lastname attributes plus one more attribute for each of the keywords, if any.\n",
        "\n",
        "Examples\n",
        "\n",
        "john = Employee(\"John Doe\")\n",
        "mary = Employee(\"Mary Major\", salary=120000)\n",
        "richard = Employee(\"Richard Roe\", salary=110000, height=178)\n",
        "giancarlo = Employee(\"Giancarlo Rossi\", salary=115000, height=182, nationality=\"Italian\")\n",
        "\n",
        "john.name ➞ \"John\"\n",
        "mary.lastname ➞ \"Major\"\n",
        "richard.height ➞ 178\n",
        "giancarlo.nationality ➞ \"Italian\"\n"
      ],
      "metadata": {
        "id": "bnTqoRrfpJyf"
      }
    },
    {
      "cell_type": "code",
      "source": [
        "class Employee(object):\n",
        "  def __init__(self,name,**kwargs):\n",
        "    self.name1 = name.split(\" \")\n",
        "    self.name = self.name1[0]\n",
        "    self.lastname = self.name1[1]\n",
        "    self.salary = kwargs.get(\"salary\",None)\n",
        "    self.height = kwargs.get(\"height\",None)\n",
        "    self.nationality = kwargs.get(\"nationality\",None)\n",
        "  \"\"\"def __getattr__(self, item):\n",
        "    return object.__getattribute__(self,item)\n",
        "  def __getattr__(self, attr):\n",
        "    value = 42\n",
        "    self.__dict__[attr] = value\n",
        "    return value\"\"\"\n",
        "\n",
        "john = Employee(\"John Doe\")\n",
        "mary = Employee(\"Mary Major\", salary=120000)\n",
        "richard = Employee(\"Richard Roe\", salary=110000, height=178)\n",
        "giancarlo = Employee(\"Giancarlo Rossi\", salary=115000, height=182, nationality=\"Italian\")\n",
        "\n",
        "print(john.name)\n",
        "print(mary.lastname) \n",
        "print(richard.height)\n",
        "print(giancarlo.nationality)\n",
        "\n"
      ],
      "metadata": {
        "colab": {
          "base_uri": "https://localhost:8080/"
        },
        "id": "wO4dhJYPpOYr",
        "outputId": "06b1d203-c9b3-4d15-be77-e1df2ebda3ca"
      },
      "execution_count": 31,
      "outputs": [
        {
          "output_type": "stream",
          "name": "stdout",
          "text": [
            "John\n",
            "Major\n",
            "178\n",
            "Italian\n"
          ]
        }
      ]
    },
    {
      "cell_type": "markdown",
      "source": [
        "4.Create a function that determines whether each seat can \"see\" the front-stage. A number can \"see\" the front-stage if it is strictly greater than the number before it.\n",
        "\n",
        "Everyone can see the front-stage in the example below:\n",
        "\n",
        "FRONT STAGE\n",
        "[[1, 2, 3, 2, 1, 1],\n",
        "[2, 4, 4, 3, 2, 2],\n",
        "[5, 5, 5, 5, 4, 4],\n",
        "[6, 6, 7, 6, 5, 5]]\n",
        "\n",
        "Starting from the left, the 6 > 5 > 2 > 1, so all numbers can see.\n",
        "6 > 5 > 4 > 2 - so all numbers can see, etc.\n",
        "\n",
        "Not everyone can see the front-stage in the example below:\n",
        "\n",
        "FRONT STAGE\n",
        "[[1, 2, 3, 2, 1, 1], \n",
        "[2, 4, 4, 3, 2, 2], \n",
        "[5, 5, 5, 10, 4, 4], \n",
        "[6, 6, 7, 6, 5, 5]]\n",
        "\n",
        "The 10 is directly in front of the 6 and blocking its view.\n",
        "\n",
        "The function should return True if every number can see the front-stage, and False if even a single number cannot.\n",
        "\n",
        "Examples\n",
        "\n",
        "can_see_stage([\n",
        "  [1, 2, 3],\n",
        "  [4, 5, 6],\n",
        "  [7, 8, 9]\n",
        "]) ➞ True\n",
        "\n",
        "can_see_stage([\n",
        "  [0, 0, 0],\n",
        "  [1, 1, 1],\n",
        "  [2, 2, 2]\n",
        "]) ➞ True\n",
        "\n",
        "can_see_stage([\n",
        "  [2, 0, 0], \n",
        "  [1, 1, 1], \n",
        "  [2, 2, 2]\n",
        "]) ➞ False\n",
        "\n",
        "can_see_stage([\n",
        "  [1, 0, 0],\n",
        "  [1, 1, 1],\n",
        "  [2, 2, 2]\n",
        "]) ➞ False\n",
        "\n",
        "Number must be strictly smaller than \n",
        "the number directly behind it.\n"
      ],
      "metadata": {
        "id": "-ab9Swr0ucOt"
      }
    },
    {
      "cell_type": "code",
      "source": [
        "def can_see_stage(l1):\n",
        "  flag = False\n",
        "  outer_len = len(l1)\n",
        "  inner_len = len(l1[0])\n",
        "  for i in range(0,outer_len):\n",
        "    for j in range(0,inner_len-1):\n",
        "      if l1[j+1][i]<=l1[j][i]:\n",
        "        flag = False\n",
        "        return flag\n",
        "    else:\n",
        "      flag = True\n",
        "  return flag\n",
        "\n",
        "print(can_see_stage([ [1, 2, 3], [4, 5, 6], [7, 8, 9] ]))\n",
        "print(can_see_stage([ [0, 0, 0], [1, 1, 1], [2, 2, 2] ]))\n",
        "print(can_see_stage([ [2, 0, 0], [1, 1, 1], [2, 2, 2] ]))\n",
        "print(can_see_stage([ [1, 0, 0], [1, 1, 1], [2, 2, 2] ]))"
      ],
      "metadata": {
        "colab": {
          "base_uri": "https://localhost:8080/"
        },
        "id": "mxtuJKWpun9y",
        "outputId": "90ca5684-cb98-4678-b238-48450ea2075a"
      },
      "execution_count": 42,
      "outputs": [
        {
          "output_type": "stream",
          "name": "stdout",
          "text": [
            "True\n",
            "True\n",
            "False\n",
            "False\n"
          ]
        }
      ]
    },
    {
      "cell_type": "markdown",
      "source": [
        "5.Create a Pizza class with the attributes order_number and ingredients (which is given as a list). Only the ingredients will be given as input.\n",
        "\n",
        "You should also make it so that its possible to choose a ready made pizza flavour rather than typing out the ingredients manually! As well as creating this Pizza class, hard-code the following pizza flavours.\n",
        "\n",
        "Name\t                    Ingredients\n",
        "hawaiian\t          ham, pineapple\n",
        "meat_festival\tbeef, meatball, bacon\n",
        "garden_feast\tspinach, olives, mushroom\n",
        "\n",
        "Examples\n",
        "\n",
        "p1 = Pizza([\"bacon\", \"parmesan\", \"ham\"])    # order 1\n",
        "p2 = Pizza.garden_feast()                  # order 2\n",
        "\n",
        "p1.ingredients ➞ [\"bacon\", \"parmesan\", \"ham\"]\n",
        "\n",
        "p2.ingredients ➞ [\"spinach\", \"olives\", \"mushroom\"]\n",
        "\n",
        "p1.order_number ➞ 1\n",
        "\n",
        "p2.order_number ➞ 2\n"
      ],
      "metadata": {
        "id": "NjNdP1RQx0Q8"
      }
    },
    {
      "cell_type": "code",
      "source": [
        "class Pizza:\n",
        "    order_count = 0\n",
        "    def __init__(self,ingredients=None):\n",
        "        self.ingredients = ingredients\n",
        "        self.order_number = Pizza.order_count+1\n",
        "        Pizza.order_count = self.order_number\n",
        "    def hawaiian(self):\n",
        "        self.ingredients = ['ham', 'pineapple']\n",
        "    def meat_festival(self):\n",
        "        self.ingredients = ['beef', 'meatball', 'bacon']\n",
        "    def garden_feast(self):\n",
        "        self.ingredients = ['spinach', 'olives', 'mushroom']\n",
        "        \n",
        "p1 = Pizza([\"bacon\", \"parmesan\", \"ham\"])\n",
        "p2 = Pizza()\n",
        "p2.garden_feast()\n",
        "print(f'p1.ingredients ➞ {p1.ingredients}')\n",
        "print(f'p2.ingredients ➞ {p2.ingredients}')\n",
        "print(f'p1.order_number ➞ {p1.order_number}')\n",
        "print(f'p2.order_number ➞ {p2.order_number}')"
      ],
      "metadata": {
        "colab": {
          "base_uri": "https://localhost:8080/"
        },
        "id": "SviF7leYyguG",
        "outputId": "c9ec58cf-4ee5-4acb-e412-8aa9a3a2ca3c"
      },
      "execution_count": 43,
      "outputs": [
        {
          "output_type": "stream",
          "name": "stdout",
          "text": [
            "p1.ingredients ➞ ['bacon', 'parmesan', 'ham']\n",
            "p2.ingredients ➞ ['spinach', 'olives', 'mushroom']\n",
            "p1.order_number ➞ 1\n",
            "p2.order_number ➞ 2\n"
          ]
        }
      ]
    }
  ]
}