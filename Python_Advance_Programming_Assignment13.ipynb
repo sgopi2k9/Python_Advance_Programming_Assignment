{
  "nbformat": 4,
  "nbformat_minor": 0,
  "metadata": {
    "colab": {
      "name": "Python_Advance_Programming_Assignment13.ipynb",
      "provenance": []
    },
    "kernelspec": {
      "name": "python3",
      "display_name": "Python 3"
    },
    "language_info": {
      "name": "python"
    }
  },
  "cells": [
    {
      "cell_type": "markdown",
      "source": [
        "1. Create a function that takes a list and string. The function should remove the letters in the string from the list, and return the list.\n",
        "\n",
        "Examples\n",
        "\n",
        "remove_letters([\"s\", \"t\", \"r\", \"i\", \"n\", \"g\", \"w\"], \"string\") ➞ [\"w\"]\n",
        "\n",
        "remove_letters([\"b\", \"b\", \"l\", \"l\", \"g\", \"n\", \"o\", \"a\", \"w\"], \"balloon\") ➞ [\"b\", \"g\", \"w\"]\n",
        "\n",
        "remove_letters([\"d\", \"b\", \"t\", \"e\", \"a\", \"i\"], \"edabit\") ➞ []\n"
      ],
      "metadata": {
        "id": "0qa456Z3stnm"
      }
    },
    {
      "cell_type": "code",
      "source": [
        "def remove_letters(l1,s1):\n",
        "  s1 = list(s1)\n",
        "  for i in s1:\n",
        "    if i in l1:\n",
        "      l1.remove(i)\n",
        "  return l1\n",
        "print(remove_letters([\"s\", \"t\", \"r\", \"i\", \"n\", \"g\", \"w\"], \"string\"))\n",
        "print(remove_letters([\"b\", \"b\", \"l\", \"l\", \"g\", \"n\", \"o\", \"a\", \"w\"], \"balloon\"))\n",
        "print(remove_letters([\"d\", \"b\", \"t\", \"e\", \"a\", \"i\"], \"edabit\"))"
      ],
      "metadata": {
        "colab": {
          "base_uri": "https://localhost:8080/"
        },
        "id": "GrUpNbyHsz_f",
        "outputId": "22ffd462-8415-45c6-8c50-ea79953f3f1b"
      },
      "execution_count": 6,
      "outputs": [
        {
          "output_type": "stream",
          "name": "stdout",
          "text": [
            "['w']\n",
            "['b', 'g', 'w']\n",
            "[]\n"
          ]
        }
      ]
    },
    {
      "cell_type": "markdown",
      "source": [
        "2.A block sequence in three dimensions. We can write a formula for this one:\n",
        "\n",
        "Create a function that takes a number (step) as an argument and returns the amount of blocks in that step.\n",
        "\n",
        "Examples\n",
        "\n",
        "blocks(1) ➞ 5\n",
        "\n",
        "blocks(5) ➞ 39\n",
        "\n",
        "blocks(2) ➞ 12\n"
      ],
      "metadata": {
        "id": "0G499e0kxhn9"
      }
    },
    {
      "cell_type": "code",
      "source": [
        "def blocks(in_num):\n",
        "    depth = in_num*3+((in_num)-1)*1\n",
        "    height = [x for x in range(2,in_num+2)]\n",
        "    return depth+sum(height)\n",
        "print(blocks(1))\n",
        "print(blocks(5))\n",
        "print(blocks(2))"
      ],
      "metadata": {
        "colab": {
          "base_uri": "https://localhost:8080/"
        },
        "id": "Y9HUaZrLxkO-",
        "outputId": "29b7305b-34ca-4407-d8ce-cdc7deee20ba"
      },
      "execution_count": 7,
      "outputs": [
        {
          "output_type": "stream",
          "name": "stdout",
          "text": [
            "5\n",
            "39\n",
            "12\n"
          ]
        }
      ]
    },
    {
      "cell_type": "markdown",
      "source": [
        "3.Create a function that subtracts one positive integer from another, without using any arithmetic operators such as -, %, /, +, etc.\n",
        "\n",
        "Examples\n",
        "\n",
        "my_sub(5, 9) ➞ 4\n",
        "\n",
        "my_sub(10, 30) ➞ 20\n",
        "\n",
        "my_sub(0, 0) ➞ 0\n"
      ],
      "metadata": {
        "id": "sx_Q-ZmXyQTM"
      }
    },
    {
      "cell_type": "code",
      "source": [
        "from operator import sub\n",
        "def my_sub(n1,n2):\n",
        "  if n1>n2:\n",
        "    return sub(n1,n2)\n",
        "  else:\n",
        "    return sub(n2,n1)\n",
        "print(my_sub(5,9))\n",
        "print(my_sub(10,30))\n",
        "print(my_sub(0,0))"
      ],
      "metadata": {
        "colab": {
          "base_uri": "https://localhost:8080/"
        },
        "id": "LclIUk4oyUUB",
        "outputId": "083c90b5-9cb9-4df3-d6ce-95da7f47eda0"
      },
      "execution_count": 10,
      "outputs": [
        {
          "output_type": "stream",
          "name": "stdout",
          "text": [
            "4\n",
            "20\n",
            "0\n"
          ]
        }
      ]
    },
    {
      "cell_type": "markdown",
      "source": [
        "4.Create a function that takes a string containing money in dollars and pounds sterling (seperated by comma) and returns the sum of dollar bills only, as an integer.\n",
        "\n",
        "For the input string:\n",
        "\n",
        "   - Each amount is prefixed by the currency symbol: $ for dollars and £ for pounds.\n",
        "   - Thousands are represented by the suffix k.\n",
        "\n",
        "i.e. $4k = $4,000 and £40k = £40,000\n",
        "\n",
        "Examples\n",
        "\n",
        "add_bill(\"d20,p40,p60,d50\") ➞ 20 + 50 = 70\n",
        "\n",
        "add_bill(\"p30,d20,p60,d150,p360\") ➞ 20  + 150 = 170\n",
        "\n",
        "add_bill(\"p30,d2k,p60,d200,p360\") ➞ 2 * 1000 + 200 = 2200\n"
      ],
      "metadata": {
        "id": "erYGOaN3yv_v"
      }
    },
    {
      "cell_type": "code",
      "source": [
        "import re\n",
        "def add_bill(l1):\n",
        "  l2 = l1.split(\",\")\n",
        "  s = 0\n",
        "  for i in l2:\n",
        "    if \"d\" in i:\n",
        "      if \"k\" not in i:\n",
        "        s+=int(i.replace(\"d\",\"\"))\n",
        "      else:\n",
        "        s+=int(i.replace(\"d\",\"\").replace(\"k\",\"\"))*1000\n",
        "  return s\n",
        "print(add_bill(\"d20,p40,p60,d50\"))\n",
        "print(add_bill(\"p30,d20,p60,d150,p360\"))\n",
        "print(add_bill(\"p30,d2k,p60,d200,p360\"))"
      ],
      "metadata": {
        "colab": {
          "base_uri": "https://localhost:8080/"
        },
        "id": "-j_kSf0_y1DB",
        "outputId": "1a1c4394-2a88-4a35-af72-c9064c0fcaa4"
      },
      "execution_count": 22,
      "outputs": [
        {
          "output_type": "stream",
          "name": "stdout",
          "text": [
            "70\n",
            "170\n",
            "2200\n"
          ]
        }
      ]
    },
    {
      "cell_type": "markdown",
      "source": [
        "5.Create a function that flips a horizontal list into a vertical list, and a vertical list into a horizontal list.\n",
        "\n",
        "In other words, take an 1 x n list (1 row + n columns) and flip it into a n x 1 list (n rows and 1 column), and vice versa.\n",
        "\n",
        "Examples\n",
        "\n",
        "flip_list([1, 2, 3, 4]) ➞ [[1], [2], [3], [4]]\n",
        "\n",
        "Take a horizontal list and flip it vertical.\n",
        "\n",
        "flip_list([[5], [6], [9]]) ➞ [5, 6, 9]\n",
        "\n",
        "Take a vertical list and flip it horizontal.\n",
        "\n",
        "flip_list([]) ➞ []\n"
      ],
      "metadata": {
        "id": "oMHJt3Ei40Z3"
      }
    },
    {
      "cell_type": "code",
      "source": [
        "def flip_list(l1):\n",
        "  if len(l1) > 0:\n",
        "      l2 = [ele[0] for ele in l1] if isinstance(l1[0],list) else [[ele] for ele in l1]\n",
        "  else:\n",
        "      l2 = []\n",
        "  return l2\n",
        "\n",
        "print(flip_list([1, 2, 3, 4]))\n",
        "print(flip_list([[5], [6], [9]]))\n",
        "print(flip_list([]))\n"
      ],
      "metadata": {
        "colab": {
          "base_uri": "https://localhost:8080/"
        },
        "id": "4Q0PcB6346vX",
        "outputId": "0408407f-6b26-4bba-d89c-82f431fe2af8"
      },
      "execution_count": 37,
      "outputs": [
        {
          "output_type": "stream",
          "name": "stdout",
          "text": [
            "[[1], [2], [3], [4]]\n",
            "[5, 6, 9]\n",
            "[]\n"
          ]
        }
      ]
    }
  ]
}