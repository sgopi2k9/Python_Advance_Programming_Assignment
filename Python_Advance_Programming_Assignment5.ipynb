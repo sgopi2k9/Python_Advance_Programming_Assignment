{
  "nbformat": 4,
  "nbformat_minor": 0,
  "metadata": {
    "colab": {
      "name": "Python_Advance_Programming_Assignment5.ipynb",
      "provenance": [],
      "collapsed_sections": []
    },
    "kernelspec": {
      "name": "python3",
      "display_name": "Python 3"
    },
    "language_info": {
      "name": "python"
    }
  },
  "cells": [
    {
      "cell_type": "markdown",
      "source": [
        "1. Create a function that takes a number n (integer greater than zero) as an argument, and returns 2 if n is odd and 8 if n is even.\n",
        "\n",
        "You can only use the following arithmetic operators: addition of numbers +, subtraction of numbers -, multiplication of number *, division of number /, and exponentiation **.\n",
        "\n",
        "You are not allowed to use any other methods in this challenge (i.e. no if statements, comparison operators, etc).\n",
        "\n",
        "Examples\n",
        "\n",
        "f(1) ➞ 2\n",
        "\n",
        "f(2) ➞ 8\n",
        "\n",
        "f(3) ➞ 2\n"
      ],
      "metadata": {
        "id": "y7uTX4pXAkFu"
      }
    },
    {
      "cell_type": "code",
      "source": [
        "def f(num):\n",
        "  arr=[8,2]\n",
        "  return arr[num%2]\n",
        "\n",
        "print(f(1))\n",
        "print(f(2))\n",
        "print(f(3))"
      ],
      "metadata": {
        "id": "wZDG1boKAr_f",
        "colab": {
          "base_uri": "https://localhost:8080/"
        },
        "outputId": "7861c4ce-1e54-444f-c029-33aa7830c6f6"
      },
      "execution_count": 26,
      "outputs": [
        {
          "output_type": "stream",
          "name": "stdout",
          "text": [
            "2\n",
            "8\n",
            "2\n"
          ]
        }
      ]
    },
    {
      "cell_type": "markdown",
      "source": [
        "2. Create a function that returns the majority vote in a list. A majority vote is an element that occurs > N/2 times in a list (where N is the length of the list).\n",
        "\n",
        "Examples\n",
        "\n",
        "majority_vote([\"A\", \"A\", \"B\"]) ➞ \"A\"\n",
        "\n",
        "majority_vote([\"A\", \"A\", \"A\", \"B\", \"C\", \"A\"]) ➞ \"A\"\n",
        "\n",
        "majority_vote([\"A\", \"B\", \"B\", \"A\", \"C\", \"C\"]) ➞ None\n"
      ],
      "metadata": {
        "id": "MxfmdVxnAwiR"
      }
    },
    {
      "cell_type": "code",
      "source": [
        "def majority_vote(l1):\n",
        "  maj_len = len(l1)//2\n",
        "  d={}\n",
        "  maj_vote=None\n",
        "  for i in l1:\n",
        "    if i in d.keys():\n",
        "      d[i] = d[i]+1\n",
        "    else:\n",
        "      d[i] = 1\n",
        "  for i,j in d.items():\n",
        "    if j>maj_len:\n",
        "      maj_vote = i\n",
        "  return maj_vote\n",
        "\n",
        "print(majority_vote(['A','A','B']))\n",
        "print(majority_vote([\"A\", \"A\", \"A\", \"B\", \"C\", \"A\"]))\n",
        "print(majority_vote([\"A\", \"B\", \"B\", \"A\", \"C\", \"C\"]))\n",
        "\n"
      ],
      "metadata": {
        "colab": {
          "base_uri": "https://localhost:8080/"
        },
        "id": "On9yqb2PA0w9",
        "outputId": "a8cf5887-d7f6-45fe-fc40-c3f7d949d4b7"
      },
      "execution_count": null,
      "outputs": [
        {
          "output_type": "stream",
          "name": "stdout",
          "text": [
            "A\n",
            "A\n",
            "None\n"
          ]
        }
      ]
    },
    {
      "cell_type": "markdown",
      "source": [
        "3. Create a function that takes a string txt and censors any word from a given list lst. The text removed must be replaced by the given character char.\n",
        "\n",
        "Examples\n",
        "\n",
        "censor_string(\"Today is a Wednesday!\", [\"Today\", \"a\"], \"-\") ➞ \"----- is - Wednesday!\"\n",
        "\n",
        "censor_string(\"The cow jumped over the moon.\", [\"cow\", \"over\"], \"*\"), \"The *** jumped **** the moon.\")\n",
        "\n",
        "censor_string(\"Why did the chicken cross the road?\", [\"Did\", \"chicken\", \"road\"], \"*\") ➞ \"Why *** the ******* cross the ****?\"\n"
      ],
      "metadata": {
        "id": "ySnZdGylB4gQ"
      }
    },
    {
      "cell_type": "code",
      "source": [
        "def censor_string(s,l,c):\n",
        "  l2 = s.split(\" \")\n",
        "  for i in range(0,len(l2)):\n",
        "    s=''\n",
        "    if l2[i] in l:\n",
        "      for k in l2[i]:\n",
        "        s=s+c\n",
        "      l2[i]=s\n",
        "  return \" \".join(l2)\n",
        "print(censor_string(\"Today is a Wednesday!\", [\"Today\", \"a\"], \"-\"))\n",
        "print(censor_string(\"The cow jumped over the moon.\", [\"cow\", \"over\"], \"*\"))\n",
        "print(censor_string(\"Why did the chicken cross the road?\", [\"did\", \"chicken\", \"road\"], \"*\"))"
      ],
      "metadata": {
        "colab": {
          "base_uri": "https://localhost:8080/"
        },
        "id": "0tX7_xvwB-pP",
        "outputId": "5734aeee-f6fe-426d-9c56-ec757e6059aa"
      },
      "execution_count": 14,
      "outputs": [
        {
          "output_type": "stream",
          "name": "stdout",
          "text": [
            "----- is - Wednesday!\n",
            "The *** jumped **** the moon.\n",
            "Why *** the ******* cross the road?\n"
          ]
        }
      ]
    },
    {
      "cell_type": "markdown",
      "source": [
        "4.In mathematics a Polydivisible Number (or magic number) is a number in a given number base with digits abcde... that has the following properties:\n",
        "\n",
        "-  Its first digit a is not 0.\n",
        "- The number formed by its first two digits ab is a multiple of 2.\n",
        "- The number formed by its first three digits abc is a multiple of 3.\n",
        "- The number formed by its first four digits abcd is a multiple of 4.\n",
        "\n",
        "Create a function which takes an integer n and returns True if the given number is a Polydivisible Number and False otherwise.\n",
        "\n",
        "Examples\n",
        "\n",
        "is_polydivisible(1232) ➞ True\n",
        "1     / 1 = 1\n",
        "12    / 2 = 6\n",
        "123   / 3 = 41\n",
        "1232  / 4 = 308\n",
        "\n",
        "is_polydivisible(123220 ) ➞ False\n",
        "1   / 1 = 1\n",
        "12   / 2 = 6\n",
        "123   / 3 = 41\n",
        "1232   / 4 = 308\n",
        "12322   / 5 = 2464.4         # Not a Whole Number\n",
        "123220   /6 = 220536.333...  # Not a Whole Number\n"
      ],
      "metadata": {
        "id": "YMJ0AYsIJIKH"
      }
    },
    {
      "cell_type": "code",
      "source": [
        "def is_polydivisible(num):\n",
        "  n = num\n",
        "  while(num>0):\n",
        "    r = num%len(str(num))\n",
        "    if r == 0:\n",
        "      num = int(num/10)\n",
        "    else:\n",
        "      return False\n",
        "  return True\n",
        "\n",
        "print(is_polydivisible(1232)) \n",
        "print(is_polydivisible(123220))"
      ],
      "metadata": {
        "colab": {
          "base_uri": "https://localhost:8080/"
        },
        "id": "j0HCHV1YJS36",
        "outputId": "e3ac0cc8-f8b9-49d8-db19-17760b8db9a1"
      },
      "execution_count": 18,
      "outputs": [
        {
          "output_type": "stream",
          "name": "stdout",
          "text": [
            "True\n",
            "False\n"
          ]
        }
      ]
    },
    {
      "cell_type": "markdown",
      "source": [
        "5.Create a function that takes a list of numbers and returns the sum of all prime numbers in the list.\n",
        "\n",
        "Examples\n",
        "\n",
        "sum_primes([1, 2, 3, 4, 5, 6, 7, 8, 9, 10]) ➞ 17\n",
        "\n",
        "sum_primes([2, 3, 4, 11, 20, 50, 71]) ➞ 87\n",
        "\n",
        "sum_primes([]) ➞ None\n"
      ],
      "metadata": {
        "id": "a5skHH-9KtIE"
      }
    },
    {
      "cell_type": "code",
      "source": [
        "def isprime(l1):\n",
        "  l2=[]\n",
        "  for i in l1:\n",
        "    if i>1:\n",
        "    \n",
        "      for j in range(2,int(i/2)+1):\n",
        "        if i%j == 0:\n",
        "          break\n",
        "      else:\n",
        "        l2.append(i)\n",
        "  return l2\n",
        "\n",
        "def sum_primes(l1):\n",
        "  l3=[]\n",
        "  l3=isprime(l1)\n",
        "  s=0\n",
        "  for i in l3:\n",
        "    s=s+i\n",
        "  if s>0:\n",
        "    return s\n",
        "  else:\n",
        "    return None\n",
        "\n",
        "print(sum_primes([1, 2, 3, 4, 5, 6, 7, 8, 9, 10]))\n",
        "print(sum_primes([2, 3, 4, 11, 20, 50, 71]))\n",
        "print(sum_primes([]))\n"
      ],
      "metadata": {
        "colab": {
          "base_uri": "https://localhost:8080/"
        },
        "id": "RDpFYTIOK0Wu",
        "outputId": "1aeffb0f-7879-4e2d-8f1c-cc366998e6ca"
      },
      "execution_count": 25,
      "outputs": [
        {
          "output_type": "stream",
          "name": "stdout",
          "text": [
            "17\n",
            "87\n",
            "None\n"
          ]
        }
      ]
    }
  ]
}