{
  "nbformat": 4,
  "nbformat_minor": 0,
  "metadata": {
    "colab": {
      "name": "Python_Advance_Programming_Assignment10.ipynb",
      "provenance": [],
      "collapsed_sections": []
    },
    "kernelspec": {
      "name": "python3",
      "display_name": "Python 3"
    },
    "language_info": {
      "name": "python"
    }
  },
  "cells": [
    {
      "cell_type": "markdown",
      "source": [
        "1. Create a function that takes the width, height and character and returns a picture frame as a 2D list.\n",
        "\n",
        "Examples\n",
        "\n",
        "get_frame(4, 5, \"#\") ➞ [\n",
        "  [\"####\"],\n",
        "  [\"#  #\"],\n",
        "  [\"#  #\"],\n",
        "  [\"#  #\"],\n",
        "  [\"####\"]\n",
        "]\n",
        "Frame is 4 characters wide and 5 characters tall.\n",
        "\n",
        "\n",
        "get_frame(10, 3, \"*\") ➞ [\n",
        "  [\"**********\"],\n",
        "  [\"*        *\"],\n",
        "  [\"**********\"]\n",
        "]\n",
        "Frame is 10 characters and wide and 3 characters tall.\n",
        "\n",
        "\n",
        "get_frame(2, 5, \"0\") ➞ \"invalid\"\n",
        "Frame's width is not more than 2.\n"
      ],
      "metadata": {
        "id": "IxWyYTu9Xq8m"
      }
    },
    {
      "cell_type": "code",
      "source": [
        "def get_frame(c,r,s):\n",
        "  l1=[]\n",
        "  l2=[]\n",
        "  if c<=2:\n",
        "    return \"invalid\"\n",
        "  else:\n",
        "    for i in range(1,r+1):\n",
        "      l1=[]\n",
        "      for j in range(1,c+1):\n",
        "        if((i==1 or i==r) and (j==1 or j==c)):\n",
        "          w=s*c\n",
        "        else:\n",
        "          w=s*2\n",
        "      l1.append(w)\n",
        "      l2.append(l1)\n",
        "    print(l2)\n",
        "\n",
        "get_frame(4,5,'#')\n",
        "get_frame(10,3,'*')\n",
        "get_frame(2,5,\"0\")\n",
        "\n"
      ],
      "metadata": {
        "colab": {
          "base_uri": "https://localhost:8080/",
          "height": 70
        },
        "id": "sR2L1lLTX_xA",
        "outputId": "d66d8db0-a56d-4f1b-db31-2ac7c89ec211"
      },
      "execution_count": 77,
      "outputs": [
        {
          "output_type": "stream",
          "name": "stdout",
          "text": [
            "[['####'], ['##'], ['##'], ['##'], ['####']]\n",
            "[['**********'], ['**'], ['**********']]\n"
          ]
        },
        {
          "output_type": "execute_result",
          "data": {
            "application/vnd.google.colaboratory.intrinsic+json": {
              "type": "string"
            },
            "text/plain": [
              "'invalid'"
            ]
          },
          "metadata": {},
          "execution_count": 77
        }
      ]
    },
    {
      "cell_type": "markdown",
      "source": [
        "2.Write three functions:\n",
        "\n",
        "  1.boolean_and\n",
        "  2.boolean_or\n",
        "  3.boolean_xor\n",
        "These functions should evaluate a list of True and False values, starting from the leftmost element and evaluating pairwise.\n",
        "\n",
        "Examples\n",
        "\n",
        "boolean_and([True, True, False, True]) ➞ False\n",
        "[True, True, False, True] => [True, False, True] => [False, True] => False\n",
        "\n",
        "boolean_or([True, True, False, False]) ➞ True\n",
        "[True, True, False, True] => [True, False, False] => [True, False] => True\n",
        "\n",
        "boolean_xor([True, True, False, False]) ➞ False\n",
        "[True, True, False, False] => [False, False, False] => [False, False] => False\n"
      ],
      "metadata": {
        "id": "GMK66HA2YAHE"
      }
    },
    {
      "cell_type": "code",
      "source": [
        "def boolean_and(l1):\n",
        "  if len(l1)>=2:\n",
        "    x = l1[0] and l1[1]\n",
        "    for i in range(2,len(l1)+1):\n",
        "      x = x and l1[i]\n",
        "    return x\n",
        "  else:\n",
        "    return \"Invalid input\"\n",
        "\n",
        "def boolean_or(l1):\n",
        "  if len(l1)>=2:\n",
        "    x = l1[0] or l1[1]\n",
        "    for i in range(2,len(l1)+1):\n",
        "      x = x or l1[i]\n",
        "    return x\n",
        "  else:\n",
        "    return \"Invalid input\"\n",
        "\n",
        "\n",
        "def boolean_xor(l1):\n",
        "  if len(l1)>=2:\n",
        "    x = l1[0] ^ l1[1]\n",
        "    for i in range(2,len(l1)):\n",
        "      x = x ^ l1[i]\n",
        "    return x\n",
        "  else:\n",
        "    return \"Invalid input\"\n",
        "\n",
        "print(boolean_and([True, True, False, True]))\n",
        "print(boolean_or([True, True, False, False]))\n",
        "print(boolean_xor([True, True, False, False]))\n"
      ],
      "metadata": {
        "colab": {
          "base_uri": "https://localhost:8080/"
        },
        "id": "b5JBPKGfYE8Y",
        "outputId": "0ce591c8-a756-48d8-b1e0-916bc9d34e7b"
      },
      "execution_count": 22,
      "outputs": [
        {
          "output_type": "stream",
          "name": "stdout",
          "text": [
            "False\n",
            "True\n",
            "False\n"
          ]
        }
      ]
    },
    {
      "cell_type": "markdown",
      "source": [
        "3.Create a function that creates a box based on dimension n.\n",
        "\n",
        "Examples\n",
        "\n",
        "make_box(5) ➞ [\n",
        "  \"#####\",\n",
        "  \"#   #\",\n",
        "  \"#   #\",\n",
        "  \"#   #\",\n",
        "  \"#####\"\n",
        "]\n",
        "\n",
        "make_box(3) ➞ [\n",
        "  \"###\",\n",
        "  \"# #\",\n",
        "  \"###\"\n",
        "]\n",
        "\n",
        "make_box(2) ➞ [\n",
        "  \"##\",\n",
        "  \"##\"\n",
        "]\n",
        "\n",
        "make_box(1) ➞ [\n",
        "  \"#\"\n",
        "]\n"
      ],
      "metadata": {
        "id": "luxSNGwE1EiO"
      }
    },
    {
      "cell_type": "code",
      "source": [
        "def make_box(n):\n",
        "  r=n\n",
        "  c=n\n",
        "  l1=[]\n",
        "  for i in range(1,n+1):\n",
        "    for j in range(1,n+1):\n",
        "      if(i==1 or i==r or j==1 or j==c):\n",
        "        c='#'*n\n",
        "      else:\n",
        "        c='#'*2\n",
        "    l1.append(c)\n",
        "  return l1\n",
        "print(make_box(5))\n",
        "print(make_box(3))\n",
        "print(make_box(2))\n",
        "print(make_box(1))\n",
        "\n",
        "\n",
        "      \n"
      ],
      "metadata": {
        "colab": {
          "base_uri": "https://localhost:8080/"
        },
        "id": "NJwdwIVQ1Jp9",
        "outputId": "34145681-13af-4fa8-e32a-c276994d381a"
      },
      "execution_count": 66,
      "outputs": [
        {
          "output_type": "stream",
          "name": "stdout",
          "text": [
            "['#####', '##', '##', '##', '#####']\n",
            "['###', '##', '###']\n",
            "['##', '##']\n",
            "['#']\n"
          ]
        }
      ]
    },
    {
      "cell_type": "markdown",
      "source": [
        "4.Given a common phrase, return False if any individual word in the phrase contains duplicate letters. Return True otherwise.\n",
        "\n",
        "Examples\n",
        "\n",
        "no_duplicate_letters(\"Fortune favours the bold.\") ➞ True\n",
        "\n",
        "no_duplicate_letters(\"You can lead a horse to water, but you can't make him drink.\") ➞ True\n",
        "\n",
        "no_duplicate_letters(\"Look before you leap.\") ➞ False\n",
        "Duplicate letters in \"Look\" and \"before\".\n",
        "\n",
        "no_duplicate_letters(\"An apple a day keeps the doctor away.\") ➞ False\n",
        "Duplicate letters in \"apple\", \"keeps\", \"doctor\", and \"away\".\n",
        "\n"
      ],
      "metadata": {
        "id": "O_01OS4ckoGh"
      }
    },
    {
      "cell_type": "code",
      "source": [
        "def no_duplicate_letters(s):\n",
        "  s = s.split(\" \")\n",
        "  l1=[]\n",
        "  for i in s:\n",
        "    d={}\n",
        "    for j in i:\n",
        "      if j in d.keys():\n",
        "        d[j]=d[j]+1\n",
        "      else:\n",
        "        d[j]=1\n",
        "    l1.append(d)\n",
        "  for i in l1:\n",
        "    for j in i.values():\n",
        "      if j>1:\n",
        "        return False\n",
        "        break\n",
        "  else:\n",
        "    return True\n",
        "  \n",
        "\n",
        "\n",
        "print(no_duplicate_letters(\"Fortune favours the bold.\"))\n",
        "print(no_duplicate_letters(\"You can lead a horse to water, but you can't make him drink.\"))\n",
        "print(no_duplicate_letters(\"Look before you leap.\") )\n",
        "print(no_duplicate_letters(\"An apple a day keeps the doctor away.\"))\n",
        "\n"
      ],
      "metadata": {
        "colab": {
          "base_uri": "https://localhost:8080/"
        },
        "id": "ZpJBd7tGkqj1",
        "outputId": "3239e7c9-df95-4237-a350-e4420d23a9de"
      },
      "execution_count": 55,
      "outputs": [
        {
          "output_type": "stream",
          "name": "stdout",
          "text": [
            "True\n",
            "True\n",
            "False\n",
            "False\n"
          ]
        }
      ]
    },
    {
      "cell_type": "markdown",
      "source": [
        "5.Write a regular expression that will match the states that voted yes to President Trump's impeachment. You must use RegEx positive lookahead.\n",
        "\n",
        "Example\n",
        "\n",
        "txt = \"Texas = no, California = yes, Florida = yes, Michigan = no\"\n",
        "pattern = \"yourregularexpressionhere\"\n",
        "\n",
        "re.findall(pattern, txt) ➞ [\"California\", \"Florida\"]\n"
      ],
      "metadata": {
        "id": "lc5SZZdFdcQv"
      }
    },
    {
      "cell_type": "code",
      "source": [
        "import re\n",
        "def vote_states(s):\n",
        "  pattern = r'(\\w+\\s+)(?=(= yes))'\n",
        "  res = re.findall(pattern,s)\n",
        "  y=[]\n",
        "  for i in res:\n",
        "    for j in i:\n",
        "      if \"yes\" not in j:\n",
        "        y.append(j) \n",
        "  print(y)\n",
        "vote_states(\"Texas = no, California = yes, Florida = yes, Michigan = no\")\n"
      ],
      "metadata": {
        "colab": {
          "base_uri": "https://localhost:8080/"
        },
        "id": "0wA0Sm96fmbz",
        "outputId": "82f687ce-6333-4cb7-d99d-3dece24599d6"
      },
      "execution_count": 34,
      "outputs": [
        {
          "output_type": "stream",
          "name": "stdout",
          "text": [
            "['California ', 'Florida ']\n"
          ]
        }
      ]
    }
  ]
}