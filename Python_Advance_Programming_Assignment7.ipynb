{
  "nbformat": 4,
  "nbformat_minor": 0,
  "metadata": {
    "colab": {
      "name": "Python_Advance_Programming_Assignment7.ipynb",
      "provenance": [],
      "collapsed_sections": []
    },
    "kernelspec": {
      "name": "python3",
      "display_name": "Python 3"
    },
    "language_info": {
      "name": "python"
    }
  },
  "cells": [
    {
      "cell_type": "markdown",
      "source": [
        "1.Write a function that counts how many concentric layers a rug.\n",
        "\n",
        "Examples\n",
        "\n",
        "count_layers([\n",
        "  \"AAAA\",\n",
        "  \"ABBA\",\n",
        "  \"AAAA\"\n",
        "]) ➞ 2\n",
        "\n",
        "count_layers([\n",
        "  \"AAAAAAAAA\",\n",
        "  \"ABBBBBBBA\",\n",
        "  \"ABBAAABBA\",\n",
        "  \"ABBBBBBBA\",\n",
        "  \"AAAAAAAAA\"\n",
        "]) ➞ 3\n",
        "\n",
        "count_layers([\n",
        "  \"AAAAAAAAAAA\",\n",
        "  \"AABBBBBBBAA\",\n",
        "  \"AABCCCCCBAA\",\n",
        "  \"AABCAAACBAA\",\n",
        "  \"AABCADACBAA\",\n",
        "  \"AABCAAACBAA\",\n",
        "  \"AABCCCCCBAA\",\n",
        "  \"AABBBBBBBAA\",\n",
        "  \"AAAAAAAAAAA\"\n",
        "]) ➞ 5\n"
      ],
      "metadata": {
        "id": "YDGPE6xya5Jg"
      }
    },
    {
      "cell_type": "code",
      "source": [
        "def count_layers(l1):\n",
        "  s= set(l1)\n",
        "  return len(s)\n",
        "\n",
        "print(count_layers([ \"AAAA\", \"ABBA\", \"AAAA\" ]) )\n",
        "print(count_layers([ \"AAAAAAAAA\", \"ABBBBBBBA\", \"ABBAAABBA\", \"ABBBBBBBA\", \"AAAAAAAAA\" ]))\n",
        "print(count_layers([ \"AAAAAAAAAAA\", \"AABBBBBBBAA\", \"AABCCCCCBAA\", \"AABCAAACBAA\", \"AABCADACBAA\", \"AABCAAACBAA\", \"AABCCCCCBAA\", \"AABBBBBBBAA\", \"AAAAAAAAAAA\" ]))"
      ],
      "metadata": {
        "colab": {
          "base_uri": "https://localhost:8080/"
        },
        "id": "dstK2s9rbLA4",
        "outputId": "5e91177d-7785-41d1-f794-462112ac9065"
      },
      "execution_count": null,
      "outputs": [
        {
          "output_type": "stream",
          "name": "stdout",
          "text": [
            "2\n",
            "3\n",
            "5\n"
          ]
        }
      ]
    },
    {
      "cell_type": "markdown",
      "source": [
        "2.There are many different styles of music and many albums exhibit multiple styles. Create a function that takes a list of musical styles from albums and returns how many styles are unique.\n",
        "\n",
        "Examples\n",
        "\n",
        "unique_styles([\n",
        "  \"Dub,Dancehall\",\n",
        "  \"Industrial,Heavy Metal\",\n",
        "  \"Techno,Dubstep\",\n",
        "  \"Synth-pop,Euro-Disco\",\n",
        "  \"Industrial,Techno,Minimal\"\n",
        "]) ➞ 9\n",
        "\n",
        "unique_styles([\n",
        "  \"Soul\",\n",
        "  \"House,Folk\",\n",
        "  \"Trance,Downtempo,Big Beat,House\",\n",
        "  \"Deep House\",\n",
        "  \"Soul\"\n",
        "]) ➞ 7\n"
      ],
      "metadata": {
        "id": "7NbWWP9Mbgi_"
      }
    },
    {
      "cell_type": "code",
      "source": [
        "def unique_styles(l1):\n",
        "  l2=[]\n",
        "  for i in l1:\n",
        "    if \",\" in i:\n",
        "      s = i.split(\",\")\n",
        "      for k in s:\n",
        "        l2.append(k.lower())\n",
        "    else:\n",
        "      l2.append(i.lower())\n",
        "  return len(set(l2))\n",
        "\n",
        "print(unique_styles([ \"Dub,Dancehall\", \"Industrial,Heavy Metal\", \"Techno,Dubstep\", \"Synth-pop,Euro-Disco\", \"Industrial,Techno,Minimal\" ]) )\n",
        "print(unique_styles([ \"Soul\", \"House,Folk\", \"Trance,Downtempo,Big Beat,House\", \"Deep House\", \"Soul\" ]))\n"
      ],
      "metadata": {
        "colab": {
          "base_uri": "https://localhost:8080/"
        },
        "id": "hirD9wVwblu0",
        "outputId": "fab9acee-5221-4d23-dd66-96302014051f"
      },
      "execution_count": null,
      "outputs": [
        {
          "output_type": "stream",
          "name": "stdout",
          "text": [
            "9\n",
            "7\n"
          ]
        }
      ]
    },
    {
      "cell_type": "markdown",
      "source": [
        "3.Create a function that finds a target number in a list of prime numbers. Implement a binary search algorithm in your function. The target number will be from 2 through 97. If the target is prime then return \"yes\" else return \"no\".\n",
        "\n",
        "Examples\n",
        "\n",
        "primes = [2, 3, 5, 7, 11, 13, 17, 19, 23, 29, 31, 37, 41, 43, 47, 53, 59, 61, 67, 71, 73, 79, 83, 89, 97]\n",
        "\n",
        "\n",
        "is_prime(primes, 3) ➞ \"yes\"\n",
        "\n",
        "is_prime(primes, 4) ➞ \"no\"\n",
        "\n",
        "is_prime(primes, 67) ➞ \"yes\"\n",
        "\n",
        "is_prime(primes, 36) ➞ \"no\"\n"
      ],
      "metadata": {
        "id": "TED9sM-yeSCH"
      }
    },
    {
      "cell_type": "code",
      "source": [
        "def is_prime(primes,num,l,h):\n",
        "  if h >= l:\n",
        "    m = (h + l) // 2\n",
        "    if primes[m] == num:\n",
        "        return \"yes\"\n",
        "    elif primes[m] > num:\n",
        "        return is_prime(primes,num,l,m-1)\n",
        "    else:\n",
        "        return is_prime(primes,num,m+1,h)\n",
        "  else:\n",
        "      return \"no\"\n",
        "primes = [2, 3, 5, 7, 11, 13, 17, 19, 23, 29, 31, 37, 41, 43, 47, 53, 59, 61, 67, 71, 73, 79, 83, 89, 97]\n",
        "print(is_prime(primes,3,0,len(primes)-1))\n",
        "print(is_prime(primes,4,0,len(primes)-1))\n",
        "print(is_prime(primes,67,0,len(primes)-1))\n",
        "print(is_prime(primes,36,0,len(primes)-1))"
      ],
      "metadata": {
        "colab": {
          "base_uri": "https://localhost:8080/"
        },
        "id": "qawF_-dwebPF",
        "outputId": "82e02e3b-10a7-4fc1-96b9-fa730267249e"
      },
      "execution_count": null,
      "outputs": [
        {
          "output_type": "stream",
          "name": "stdout",
          "text": [
            "yes\n",
            "no\n",
            "yes\n",
            "no\n"
          ]
        }
      ]
    },
    {
      "cell_type": "markdown",
      "source": [
        "4.Create a function that takes in n, a, b and returns the number of positive values raised to the nth power that lie in the range [a, b], inclusive.\n",
        "\n",
        "Examples\n",
        "\n",
        "power_ranger(2, 49, 65) ➞ 2\n",
        "\n",
        "2 squares (n^2) lie between 49 and 65, 49 (7^2) and 64 (8^2)\n",
        "\n",
        "power_ranger(3, 1, 27) ➞ 3\n",
        "\n",
        "3 cubes (n^3) lie between 1 and 27, 1 (1^3), 8 (2^3) and 27 (3^3)\n",
        "\n",
        "power_ranger(10, 1, 5) ➞ 1\n",
        "\n",
        "1 value raised to the 10th power lies between 1 and 5, 1 (1^10)\n",
        "\n",
        "power_ranger(5, 31, 33) ➞ 1\n",
        "\n",
        "power_ranger(4, 250, 1300) ➞ 3\n",
        "\n"
      ],
      "metadata": {
        "id": "dGvKXWJ8hDzq"
      }
    },
    {
      "cell_type": "code",
      "source": [
        "def supply(ub):\n",
        "  for i in range(1,ub+1):\n",
        "    yield i\n",
        "def power_ranger(n,lb,ub):\n",
        "  l1=[]\n",
        "  m=0\n",
        "  for j in supply(ub):\n",
        "    m=j**n\n",
        "    if m>=lb and m<=ub:\n",
        "      l1.append(m)\n",
        "  return len(l1)\n",
        "\n",
        "print(power_ranger(2,49,65))\n",
        "print(power_ranger(3,1,27))\n",
        "print(power_ranger(10,1,5))\n",
        "print(power_ranger(5,31,33))\n",
        "print(power_ranger(4,250,1300))\n"
      ],
      "metadata": {
        "id": "JtwwueWhhK_C",
        "colab": {
          "base_uri": "https://localhost:8080/"
        },
        "outputId": "12525162-1ee6-4541-d0b5-674049ee845a"
      },
      "execution_count": 4,
      "outputs": [
        {
          "output_type": "stream",
          "name": "stdout",
          "text": [
            "2\n",
            "3\n",
            "1\n",
            "1\n",
            "3\n"
          ]
        }
      ]
    },
    {
      "cell_type": "markdown",
      "source": [
        "5.Given a number, return the difference between the maximum and minimum\n",
        "numbers that can be formed when the digits are rearranged.\n",
        "Examples\n",
        "\n",
        "rearranged_difference(972882) ➞ 760833\n",
        "\n",
        "988722 - 227889 = 760833\n",
        "\n",
        "rearranged_difference(3320707) ➞ 7709823\n",
        "\n",
        "7733200 - 23377 = 7709823\n",
        "\n",
        "rearranged_difference(90010) ➞ 90981\n",
        "\n",
        "91000 - 19 = 90981"
      ],
      "metadata": {
        "id": "DHEq9fVWrgMV"
      }
    },
    {
      "cell_type": "code",
      "source": [
        "def rearranged_difference(n):\n",
        "  l1 = [int(x) for x in str(n)]\n",
        "  l2 = [int(x) for x in str(n)]\n",
        "  max_l1=[]\n",
        "  min_l1=[]\n",
        "  max_val=0\n",
        "  min_val=0\n",
        "  while len(l1)>0:\n",
        "    m = max(l1)\n",
        "    max_l1.append(m)\n",
        "    l1.remove(m)\n",
        "  while len(l2)>0:\n",
        "    m = min(l2)\n",
        "    min_l1.append(m)\n",
        "    l2.remove(m)\n",
        "  \n",
        "  s = [str(i) for i in max_l1]\n",
        "  max_val = int(\"\".join(s))\n",
        "  s = [str(i) for i in min_l1]\n",
        "  min_val = int(\"\".join(s))\n",
        "  return max_val-min_val\n",
        "\n",
        "print(rearranged_difference(972882))\n",
        "print(rearranged_difference(3320707))\n",
        "print(rearranged_difference(90010))\n",
        "\n"
      ],
      "metadata": {
        "colab": {
          "base_uri": "https://localhost:8080/"
        },
        "id": "3ja3bXSsrovp",
        "outputId": "4a216977-c781-47dc-878b-4b186b0b3852"
      },
      "execution_count": 17,
      "outputs": [
        {
          "output_type": "stream",
          "name": "stdout",
          "text": [
            "760833\n",
            "7709823\n",
            "90981\n"
          ]
        }
      ]
    }
  ]
}