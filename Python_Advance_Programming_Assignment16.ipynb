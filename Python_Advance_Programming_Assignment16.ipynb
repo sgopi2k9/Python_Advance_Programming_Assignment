{
  "nbformat": 4,
  "nbformat_minor": 0,
  "metadata": {
    "colab": {
      "name": "Python_Advance_Programming_Assignment16.ipynb",
      "provenance": [],
      "collapsed_sections": []
    },
    "kernelspec": {
      "name": "python3",
      "display_name": "Python 3"
    },
    "language_info": {
      "name": "python"
    }
  },
  "cells": [
    {
      "cell_type": "markdown",
      "source": [
        "1. Rondo Form is a type of musical structure, in which there is a recurring theme/refrain, notated as A. Here are the rules for valid rondo forms:\n",
        "\n",
        "   - Rondo forms always start and end with an A section.\n",
        "   - In between the A sections, there should be contrasting sections notated as B, then C, then D, etc... No letter should be skipped.\n",
        "   - There shouldn't be any repeats in the sequence (such as ABBACCA).\n",
        "\n",
        "Create a function which validates whether a given string is a valid Rondo Form.\n",
        "\n",
        "Examples\n",
        "\n",
        "valid_rondo(\"ABACADAEAFAGAHAIAJA\") ➞ True\n",
        "\n",
        "valid_rondo(\"ABA\") ➞ True\n",
        "\n",
        "valid_rondo(\"ABBACCA\") ➞ False\n",
        "\n",
        "valid_rondo(\"ACAC\") ➞ False\n",
        "\n",
        "valid_rondo(\"A\") ➞ False\n"
      ],
      "metadata": {
        "id": "Jc4xj7rOD1nk"
      }
    },
    {
      "cell_type": "code",
      "source": [
        "def valid_rondo(in_string):\n",
        "    in_string_x = in_string.replace('A','')\n",
        "    in_string_x = list(in_string_x)\n",
        "    output = False\n",
        "    if len(in_string_x) == 1:\n",
        "            output= True\n",
        "    else:\n",
        "        for ele in range(len(in_string_x)-1):\n",
        "            if ord(in_string_x[ele]) < ord(in_string_x[ele+1]):\n",
        "                output= True\n",
        "            else:\n",
        "                output = False\n",
        "                break\n",
        "    print(f\"valid_rondo({in_string}) ➞ {output}\")\n",
        "   \n",
        "valid_rondo(\"ABACADAEAFAGAHAIAJA\")\n",
        "valid_rondo(\"ABA\")\n",
        "valid_rondo(\"ABBACCA\")\n",
        "valid_rondo(\"ACAC\")\n",
        "valid_rondo(\"A\")"
      ],
      "metadata": {
        "colab": {
          "base_uri": "https://localhost:8080/"
        },
        "id": "js0kBLUHD57c",
        "outputId": "b0e7b8cb-56d6-445d-d0af-33908deec591"
      },
      "execution_count": 28,
      "outputs": [
        {
          "output_type": "stream",
          "name": "stdout",
          "text": [
            "valid_rondo(ABACADAEAFAGAHAIAJA) ➞ True\n",
            "valid_rondo(ABA) ➞ True\n",
            "valid_rondo(ABBACCA) ➞ False\n",
            "valid_rondo(ACAC) ➞ False\n",
            "valid_rondo(A) ➞ False\n"
          ]
        }
      ]
    },
    {
      "cell_type": "markdown",
      "source": [
        "2.Create a function that returns the whole of the first sentence which contains a specific word. Include the full stop at the end of the sentence.\n",
        "\n",
        "Examples\n",
        "\n",
        "txt = \"I have a cat. I have a mat. Things are going swell.\"\n",
        "\n",
        "sentence_searcher(txt, \"have\") ➞ \"I have a cat.\"\n",
        "\n",
        "sentence_searcher(txt, \"MAT\") ➞ \"I have a mat.\"\n",
        "\n",
        "sentence_searcher(txt, \"things\") ➞ \"Things are going swell.\"\n",
        "\n",
        "sentence_searcher(txt, \"flat\") ➞ \"\"\n"
      ],
      "metadata": {
        "id": "7Fq79Ra6EW1M"
      }
    },
    {
      "cell_type": "code",
      "source": [
        "def sentence_searcher(txt,s):\n",
        "  temp = txt.lower()\n",
        "  l1 = temp.split(\". \")\n",
        "  l2 = txt.split(\". \")\n",
        "  x = ''\n",
        "  for i in l1:\n",
        "    if s.lower() in i:\n",
        "      x = i\n",
        "      break\n",
        "    else:\n",
        "      x = ''\n",
        "  for i in range(0,len(l2)):\n",
        "    if x.lower() == l2[i].lower():\n",
        "      x = l2[i]+\".\"\n",
        "  return x\n",
        "\n",
        "txt = \"I have a cat. I have a mat. Things are going swell.\"\n",
        "print(sentence_searcher(txt, \"have\"))\n",
        "print(sentence_searcher(txt, \"MAT\"))\n",
        "print(sentence_searcher(txt, \"things\"))\n",
        "print(sentence_searcher(txt, \"flat\"))\n"
      ],
      "metadata": {
        "colab": {
          "base_uri": "https://localhost:8080/"
        },
        "id": "o3bLZxTlEYab",
        "outputId": "2a26116b-0a14-4622-a54f-e22c648491a7"
      },
      "execution_count": 7,
      "outputs": [
        {
          "output_type": "stream",
          "name": "stdout",
          "text": [
            "I have a cat.\n",
            "I have a mat.\n",
            "Things are going swell..\n",
            "\n"
          ]
        }
      ]
    },
    {
      "cell_type": "markdown",
      "source": [
        "3.Given a number, find the \"round \"of each digit of the number. An integer is called \"round\" if all its digits except the leftmost (most significant) are equal to zero.\n",
        "\n",
        "    - Round numbers: 4000, 1, 9, 800, 90\n",
        "    - Not round numbers: 110, 707, 222, 1001\n",
        "\n",
        "Create a function that takes a number and returns the \"round\" of each digit (except if the digit is zero) as a string. Check out the following examples for more clarification.\n",
        "\n",
        "Examples\n",
        "\n",
        "sum_round(101) ➞ \"1 100\"\n",
        "\n",
        "sum_round(1234) ➞ \"4 30 200 1000\"\n",
        "\n",
        "sum_round(54210) ➞ \"10 200 4000 50000\"\n"
      ],
      "metadata": {
        "id": "8GATkkEMGRlb"
      }
    },
    {
      "cell_type": "code",
      "source": [
        "def sum_round(n):\n",
        "  l1 = []\n",
        "  l = len(str(n))\n",
        "  i = 0\n",
        "  while(i<l):\n",
        "    t = n%10\n",
        "    l1.append(t*(10**i))\n",
        "    i+=1\n",
        "    n = n//10\n",
        "  l2 = [x for x in l1 if x!=0]\n",
        "  return l2\n",
        "\n",
        "print(sum_round(101))\n",
        "print(sum_round(1234))\n",
        "print(sum_round(54210))\n"
      ],
      "metadata": {
        "colab": {
          "base_uri": "https://localhost:8080/"
        },
        "id": "0EBqCycYGTBH",
        "outputId": "049df0b4-c4ef-4274-e528-d11483862f98"
      },
      "execution_count": 17,
      "outputs": [
        {
          "output_type": "stream",
          "name": "stdout",
          "text": [
            "[1, 100]\n",
            "[4, 30, 200, 1000]\n",
            "[10, 200, 4000, 50000]\n"
          ]
        }
      ]
    },
    {
      "cell_type": "markdown",
      "source": [
        "4.Your task, is to create N x N multiplication table, of size n provided in parameter.\n",
        "\n",
        "For example, when n is 5, the multiplication table is:\n",
        "\n",
        "   - 1, 2, 3, 4, 5\n",
        "   - 2, 4, 6, 8, 10\n",
        "   - 3, 6, 9, 12, 15\n",
        "   - 4, 8, 12, 16, 20\n",
        "   - 5, 10, 15, 20, 25\n",
        "\n",
        "This example will result in:\n",
        "\n",
        "[[1, 2, 3, 4, 5], [2, 4, 6, 8, 10], [3, 6, 9, 12, 15], [4, 8, 12, 16, 20], [5, 10, 15, 20, 25]]\n",
        "\n",
        "Examples\n",
        "\n",
        "multiplication_table(1) ➞ [[1]]\n",
        "\n",
        "multiplication_table(3) ➞ [[1, 2, 3], [2, 4, 6], [3, 6, 9]]\n"
      ],
      "metadata": {
        "id": "rjdFUiC5JMb3"
      }
    },
    {
      "cell_type": "code",
      "source": [
        "def multiplication_table(n):\n",
        "  l2 = []\n",
        "  for i in range(1,n+1):\n",
        "    l1 = [x*i for x in range(1,n+1)]\n",
        "    l2.append(l1)\n",
        "  return l2\n",
        "print(multiplication_table(3))\n",
        "print(multiplication_table(1))\n",
        "print(multiplication_table(5))"
      ],
      "metadata": {
        "colab": {
          "base_uri": "https://localhost:8080/"
        },
        "id": "O0PE_9hgJQs2",
        "outputId": "7afd6157-36b7-4c2f-a3e6-11234ad590f6"
      },
      "execution_count": 20,
      "outputs": [
        {
          "output_type": "stream",
          "name": "stdout",
          "text": [
            "[[1, 2, 3], [2, 4, 6], [3, 6, 9]]\n",
            "[[1]]\n",
            "[[1, 2, 3, 4, 5], [2, 4, 6, 8, 10], [3, 6, 9, 12, 15], [4, 8, 12, 16, 20], [5, 10, 15, 20, 25]]\n"
          ]
        }
      ]
    },
    {
      "cell_type": "markdown",
      "source": [
        "5.Create a function that returns True if two lines rhyme and False otherwise. For the purposes of this exercise, two lines rhyme if the last word from each sentence contains the same vowels.\n",
        "\n",
        "Examples\n",
        "\n",
        "does_rhyme(\"Sam I am!\", \"Green eggs and ham.\") ➞ True\n",
        "\n",
        "does_rhyme(\"Sam I am!\", \"Green eggs and HAM.\") ➞ True\n",
        "Capitalization and punctuation should not matter.\n",
        "\n",
        "does_rhyme(\"You are off to the races\", \"a splendid day.\") ➞ False\n",
        "\n",
        "does_rhyme(\"and frequently do?\", \"you gotta move.\") ➞ False\n"
      ],
      "metadata": {
        "id": "yjSPm_3YKUDm"
      }
    },
    {
      "cell_type": "code",
      "source": [
        "def does_rhyme(s1,s2):\n",
        "  s1 = s1.lower()\n",
        "  s2 = s2.lower()\n",
        "  s1 = s1.split(\" \")\n",
        "  s2 = s2.split(\" \")\n",
        "  vowels = ['a','e','i','o','u']\n",
        "  lastword_s1 = s1[-1]\n",
        "  lastword_s2 = s2[-1]\n",
        "  vowel_s1 = [x for x in lastword_s1 if x in vowels]\n",
        "  vowel_s2 = [x for x in lastword_s2 if x in vowels]\n",
        "  if vowel_s1 == vowel_s2:\n",
        "    return True\n",
        "  else:\n",
        "    return False\n",
        "\n",
        "print(does_rhyme(\"Sam I am!\", \"Green eggs and ham.\"))   \n",
        "print(does_rhyme(\"Sam I am!\", \"Green eggs and HAM.\"))\n",
        "print(does_rhyme(\"You are off to the races\", \"a splendid day.\"))\n",
        "print(does_rhyme(\"and frequently do?\", \"you gotta move.\")) \n"
      ],
      "metadata": {
        "colab": {
          "base_uri": "https://localhost:8080/"
        },
        "id": "LCGttm1WKZLd",
        "outputId": "4ea9ae27-c40b-400c-e170-bb8dbd5beff4"
      },
      "execution_count": 27,
      "outputs": [
        {
          "output_type": "stream",
          "name": "stdout",
          "text": [
            "True\n",
            "True\n",
            "False\n",
            "False\n"
          ]
        }
      ]
    }
  ]
}